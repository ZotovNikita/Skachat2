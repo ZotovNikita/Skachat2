{
 "cells": [
  {
   "cell_type": "code",
   "execution_count": null,
   "metadata": {},
   "outputs": [],
   "source": [
    "import umap\n",
    "from sklearn.model_selection import GridSearchCV\n",
    "\n",
    "# Подготовка данных\n",
    "X = ...\n",
    "\n",
    "# Создание экземпляра UMAP\n",
    "umap_model = umap.UMAP()\n",
    "\n",
    "# Определение сетки параметров\n",
    "param_grid = {'n_components': [2, 3, 4], 'n_neighbors': [5, 10, 15]}\n",
    "\n",
    "# Применение GridSearch\n",
    "grid_search = GridSearchCV(umap_model, param_grid)\n",
    "grid_search.fit(X)\n",
    "\n",
    "# Получение наилучших параметров\n",
    "best_params = grid_search.best_params_"
   ]
  },
  {
   "cell_type": "code",
   "execution_count": null,
   "metadata": {},
   "outputs": [],
   "source": [
    "umap_model = umap.UMAP(best_params)\n",
    "\n",
    "# Применение UMAP\n",
    "X_umap = umap_model.fit_transform(X)"
   ]
  },
  {
   "cell_type": "markdown",
   "metadata": {},
   "source": [
    "pca"
   ]
  },
  {
   "cell_type": "code",
   "execution_count": null,
   "metadata": {},
   "outputs": [],
   "source": [
    "from sklearn.decomposition import PCA\n",
    "from sklearn.model_selection import GridSearchCV\n",
    "\n",
    "# Подготовка данных\n",
    "X = ...\n",
    "\n",
    "# Создание экземпляра PCA\n",
    "pca = PCA()\n",
    "\n",
    "# Определение сетки параметров\n",
    "param_grid = {'n_components': [2, 3, 4], 'centering': [True, False]}\n",
    "\n",
    "# Применение GridSearch\n",
    "grid_search = GridSearchCV(pca, param_grid)\n",
    "grid_search.fit(X)\n",
    "\n",
    "# Получение наилучших параметров\n",
    "best_params = grid_search.best_params_"
   ]
  }
 ],
 "metadata": {
  "language_info": {
   "name": "python"
  }
 },
 "nbformat": 4,
 "nbformat_minor": 2
}
