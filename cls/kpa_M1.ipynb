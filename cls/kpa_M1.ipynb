{
  "cells": [
    {
      "cell_type": "code",
      "execution_count": null,
      "id": "b71c43bf",
      "metadata": {
        "id": "b71c43bf"
      },
      "outputs": [],
      "source": [
        "import pandas as pd\n",
        "import numpy as np\n",
        "import seaborn as sns"
      ]
    },
    {
      "cell_type": "markdown",
      "id": "842d0de2",
      "metadata": {
        "id": "842d0de2"
      },
      "source": [
        "# Предобработка данных"
      ]
    },
    {
      "cell_type": "markdown",
      "id": "05efe9ab",
      "metadata": {
        "id": "05efe9ab"
      },
      "source": [
        "## Загрузка данных"
      ]
    },
    {
      "cell_type": "markdown",
      "id": "86af1690",
      "metadata": {
        "id": "86af1690"
      },
      "source": [
        "Загрузим данные, в 1 столбце находятся индексы - выделим их."
      ]
    },
    {
      "cell_type": "code",
      "execution_count": null,
      "id": "2818cabe",
      "metadata": {
        "scrolled": true,
        "id": "2818cabe"
      },
      "outputs": [],
      "source": [
        "filename = 'data.csv'\n",
        "df = pd.read_csv(filename, sep=',', index_col=0)"
      ]
    },
    {
      "cell_type": "markdown",
      "id": "c69b2624",
      "metadata": {
        "id": "c69b2624"
      },
      "source": [
        "Посмотрим на сами данные."
      ]
    },
    {
      "cell_type": "code",
      "execution_count": null,
      "id": "4b2ea0e7",
      "metadata": {
        "scrolled": true,
        "id": "4b2ea0e7",
        "outputId": "73e8b4e9-5401-476b-c3fa-329295b51db6"
      },
      "outputs": [
        {
          "data": {
            "text/html": [
              "<div>\n",
              "<style scoped>\n",
              "    .dataframe tbody tr th:only-of-type {\n",
              "        vertical-align: middle;\n",
              "    }\n",
              "\n",
              "    .dataframe tbody tr th {\n",
              "        vertical-align: top;\n",
              "    }\n",
              "\n",
              "    .dataframe thead th {\n",
              "        text-align: right;\n",
              "    }\n",
              "</style>\n",
              "<table border=\"1\" class=\"dataframe\">\n",
              "  <thead>\n",
              "    <tr style=\"text-align: right;\">\n",
              "      <th></th>\n",
              "      <th>Id</th>\n",
              "      <th>income</th>\n",
              "      <th>age</th>\n",
              "      <th>experience</th>\n",
              "      <th>married</th>\n",
              "      <th>house_ownership</th>\n",
              "      <th>car_ownership</th>\n",
              "      <th>profession</th>\n",
              "      <th>city</th>\n",
              "      <th>state</th>\n",
              "      <th>current_job_years</th>\n",
              "      <th>current_house_years</th>\n",
              "      <th>risk_flag</th>\n",
              "    </tr>\n",
              "  </thead>\n",
              "  <tbody>\n",
              "    <tr>\n",
              "      <th>0</th>\n",
              "      <td>1</td>\n",
              "      <td>1303835.0</td>\n",
              "      <td>23.0</td>\n",
              "      <td>3.0</td>\n",
              "      <td>single</td>\n",
              "      <td>rented</td>\n",
              "      <td>no</td>\n",
              "      <td>Mechanical_engineer</td>\n",
              "      <td>Rewa</td>\n",
              "      <td>Madhya_Pradesh</td>\n",
              "      <td>3.0</td>\n",
              "      <td>13.0</td>\n",
              "      <td>0</td>\n",
              "    </tr>\n",
              "    <tr>\n",
              "      <th>1</th>\n",
              "      <td>2</td>\n",
              "      <td>7574516.0</td>\n",
              "      <td>40.0</td>\n",
              "      <td>10.0</td>\n",
              "      <td>single</td>\n",
              "      <td>rented</td>\n",
              "      <td>NaN</td>\n",
              "      <td>Software_Developer</td>\n",
              "      <td>Parbhani</td>\n",
              "      <td>Maharashtra</td>\n",
              "      <td>9.0</td>\n",
              "      <td>13.0</td>\n",
              "      <td>0</td>\n",
              "    </tr>\n",
              "    <tr>\n",
              "      <th>2</th>\n",
              "      <td>3</td>\n",
              "      <td>3991815.0</td>\n",
              "      <td>66.0</td>\n",
              "      <td>4.0</td>\n",
              "      <td>married</td>\n",
              "      <td>rented</td>\n",
              "      <td>no</td>\n",
              "      <td>Technical_writer</td>\n",
              "      <td>Alappuzha</td>\n",
              "      <td>Kerala</td>\n",
              "      <td>4.0</td>\n",
              "      <td>10.0</td>\n",
              "      <td>0</td>\n",
              "    </tr>\n",
              "    <tr>\n",
              "      <th>3</th>\n",
              "      <td>4</td>\n",
              "      <td>6256451.0</td>\n",
              "      <td>41.0</td>\n",
              "      <td>2.0</td>\n",
              "      <td>single</td>\n",
              "      <td>rented</td>\n",
              "      <td>NaN</td>\n",
              "      <td>Software_Developer</td>\n",
              "      <td>NaN</td>\n",
              "      <td>Odisha</td>\n",
              "      <td>2.0</td>\n",
              "      <td>12.0</td>\n",
              "      <td>1</td>\n",
              "    </tr>\n",
              "    <tr>\n",
              "      <th>4</th>\n",
              "      <td>5</td>\n",
              "      <td>5768871.0</td>\n",
              "      <td>47.0</td>\n",
              "      <td>NaN</td>\n",
              "      <td>single</td>\n",
              "      <td>rented</td>\n",
              "      <td>no</td>\n",
              "      <td>Civil_servant</td>\n",
              "      <td>Tiruchirappalli[10]</td>\n",
              "      <td>Tamil_Nadu</td>\n",
              "      <td>3.0</td>\n",
              "      <td>NaN</td>\n",
              "      <td>1</td>\n",
              "    </tr>\n",
              "  </tbody>\n",
              "</table>\n",
              "</div>"
            ],
            "text/plain": [
              "   Id     income   age  experience  married house_ownership car_ownership  \\\n",
              "0   1  1303835.0  23.0         3.0   single          rented            no   \n",
              "1   2  7574516.0  40.0        10.0   single          rented           NaN   \n",
              "2   3  3991815.0  66.0         4.0  married          rented            no   \n",
              "3   4  6256451.0  41.0         2.0   single          rented           NaN   \n",
              "4   5  5768871.0  47.0         NaN   single          rented            no   \n",
              "\n",
              "            profession                 city           state  \\\n",
              "0  Mechanical_engineer                 Rewa  Madhya_Pradesh   \n",
              "1   Software_Developer             Parbhani     Maharashtra   \n",
              "2     Technical_writer            Alappuzha          Kerala   \n",
              "3   Software_Developer                  NaN          Odisha   \n",
              "4        Civil_servant  Tiruchirappalli[10]      Tamil_Nadu   \n",
              "\n",
              "   current_job_years  current_house_years  risk_flag  \n",
              "0                3.0                 13.0          0  \n",
              "1                9.0                 13.0          0  \n",
              "2                4.0                 10.0          0  \n",
              "3                2.0                 12.0          1  \n",
              "4                3.0                  NaN          1  "
            ]
          },
          "execution_count": 3,
          "metadata": {},
          "output_type": "execute_result"
        }
      ],
      "source": [
        "df.head()"
      ]
    },
    {
      "cell_type": "code",
      "execution_count": null,
      "id": "8a5ab3f2",
      "metadata": {
        "scrolled": true,
        "id": "8a5ab3f2",
        "outputId": "1a93ce92-cbb1-46da-9fe7-16cf67be50dd"
      },
      "outputs": [
        {
          "name": "stdout",
          "output_type": "stream",
          "text": [
            "<class 'pandas.core.frame.DataFrame'>\n",
            "Int64Index: 252000 entries, 0 to 251999\n",
            "Data columns (total 13 columns):\n",
            " #   Column               Non-Null Count   Dtype  \n",
            "---  ------               --------------   -----  \n",
            " 0   Id                   252000 non-null  int64  \n",
            " 1   income               212000 non-null  float64\n",
            " 2   age                  212000 non-null  float64\n",
            " 3   experience           212000 non-null  float64\n",
            " 4   married              212000 non-null  object \n",
            " 5   house_ownership      212000 non-null  object \n",
            " 6   car_ownership        212000 non-null  object \n",
            " 7   profession           212000 non-null  object \n",
            " 8   city                 212000 non-null  object \n",
            " 9   state                212000 non-null  object \n",
            " 10  current_job_years    212000 non-null  float64\n",
            " 11  current_house_years  212000 non-null  float64\n",
            " 12  risk_flag            252000 non-null  int64  \n",
            "dtypes: float64(5), int64(2), object(6)\n",
            "memory usage: 26.9+ MB\n"
          ]
        }
      ],
      "source": [
        "df.info()"
      ]
    },
    {
      "cell_type": "markdown",
      "id": "e7f86689",
      "metadata": {
        "id": "e7f86689"
      },
      "source": [
        "Заметим, что отсутствуют данные типа дата-время (`datetime`)."
      ]
    },
    {
      "cell_type": "code",
      "execution_count": null,
      "id": "5ab5d269",
      "metadata": {
        "scrolled": true,
        "id": "5ab5d269",
        "outputId": "9dfdbbc1-8f51-4849-dd58-23e27c895e35"
      },
      "outputs": [
        {
          "data": {
            "text/plain": [
              "Id                         0\n",
              "income                 40000\n",
              "age                    40000\n",
              "experience             40000\n",
              "married                40000\n",
              "house_ownership        40000\n",
              "car_ownership          40000\n",
              "profession             40000\n",
              "city                   40000\n",
              "state                  40000\n",
              "current_job_years      40000\n",
              "current_house_years    40000\n",
              "risk_flag                  0\n",
              "dtype: int64"
            ]
          },
          "execution_count": 5,
          "metadata": {},
          "output_type": "execute_result"
        }
      ],
      "source": [
        "df.isna().sum()"
      ]
    },
    {
      "cell_type": "markdown",
      "id": "4bff69ef",
      "metadata": {
        "id": "4bff69ef"
      },
      "source": [
        "Если все пропуски идентичны, тогда после их удаления должно остаться всего `252000-40000=212000` значений. Проверим это, прежде чем заполнять их."
      ]
    },
    {
      "cell_type": "code",
      "execution_count": null,
      "id": "bdc08ca1",
      "metadata": {
        "id": "bdc08ca1",
        "outputId": "a2ad6072-28fa-4b90-e03c-fbb4a6f42997"
      },
      "outputs": [
        {
          "data": {
            "text/plain": [
              "37844"
            ]
          },
          "execution_count": 6,
          "metadata": {},
          "output_type": "execute_result"
        }
      ],
      "source": [
        "df.dropna().shape[0]"
      ]
    },
    {
      "cell_type": "markdown",
      "id": "9abc7b96",
      "metadata": {
        "id": "9abc7b96"
      },
      "source": [
        "Получаем, что пропуски имеются, однако не в одинаковых строках, и после удаления останется приблизительно `15%` данных. Такое действие недопустимо, поэтому предобработаем их другими способами."
      ]
    },
    {
      "cell_type": "markdown",
      "id": "16a65b88",
      "metadata": {
        "id": "16a65b88"
      },
      "source": [
        "## Заполнение пропусков, приведение типов"
      ]
    },
    {
      "cell_type": "markdown",
      "id": "b9b5d262",
      "metadata": {
        "id": "b9b5d262"
      },
      "source": [
        "### Общие методы"
      ]
    },
    {
      "cell_type": "markdown",
      "id": "fb57e709",
      "metadata": {
        "id": "fb57e709"
      },
      "source": [
        "Напишем метод, ищущий наиболее часто встречающееся значение в колонке. Пропускает все неопределенные (`NaN`) значения. Мы не можем сразу взять все колонки, так как в этом случае пропуск неопределенных значений будет пропускать строки, в которых есть хотя бы одно неопределенное значение."
      ]
    },
    {
      "cell_type": "code",
      "execution_count": null,
      "id": "54a1239f",
      "metadata": {
        "id": "54a1239f"
      },
      "outputs": [],
      "source": [
        "def find_mode(df, columns=[], type_vals='string', verbose=False):\n",
        "    modes = []\n",
        "    for col in columns:\n",
        "        uniq, counter = np.unique(df[col].dropna().astype(type_vals), return_counts=True)\n",
        "        idx = np.argmax(counter)\n",
        "        modes.append(uniq[idx])\n",
        "    return modes"
      ]
    },
    {
      "cell_type": "code",
      "execution_count": null,
      "id": "42100da1",
      "metadata": {
        "id": "42100da1"
      },
      "outputs": [],
      "source": [
        "assert find_mode(pd.DataFrame(data=[[1, 4], [4, 4], [2, np.nan], [1, 5]], columns=[0, 1]),\n",
        "                 columns=[0]) == ['1']\n",
        "assert find_mode(pd.DataFrame(data=[[1, 4], [4, 4], [2, np.nan], [1, 5]], columns=[0, 1]),\n",
        "                 columns=[0, 1], type_vals='int64') == [1, 4]"
      ]
    },
    {
      "cell_type": "markdown",
      "id": "c54c3492",
      "metadata": {
        "id": "c54c3492"
      },
      "source": [
        "Действительно, данный метод приводит значения к строковым, убирает пропуски и ищет наиболее часто встречаемое значение по колонке."
      ]
    },
    {
      "cell_type": "markdown",
      "id": "08124602",
      "metadata": {
        "id": "08124602"
      },
      "source": [
        "Напишем метод, ищущий значение по колонке. Значение может быть одним из методов."
      ]
    },
    {
      "cell_type": "code",
      "execution_count": null,
      "id": "38b43a8e",
      "metadata": {
        "id": "38b43a8e"
      },
      "outputs": [],
      "source": [
        "def find_by_col(df, columns=[], type_vals='string', method='mean', verbose=False):\n",
        "    vals = []\n",
        "    if verbose:\n",
        "        print('Find value at columns {} with method {}'.format(columns, method))\n",
        "    for col in columns:\n",
        "        if method=='mean':\n",
        "            if type_vals not in ['float64', 'int64']:\n",
        "                type_vals = 'float64'\n",
        "            find = np.mean(df[col].dropna().astype(type_vals))\n",
        "            if type_vals == 'int64':\n",
        "                find = int(find)\n",
        "            vals.append(find)\n",
        "    return vals"
      ]
    },
    {
      "cell_type": "code",
      "execution_count": null,
      "id": "0b36efc2",
      "metadata": {
        "id": "0b36efc2"
      },
      "outputs": [],
      "source": [
        "assert find_by_col(pd.DataFrame(data=[[1, 4], [4, 4], [2, np.nan], [1, 5]], columns=[0, 1]),\n",
        "                 columns=[0], type_vals='int64') == [int((1+4+2+1)/4.)]"
      ]
    },
    {
      "cell_type": "markdown",
      "id": "1c0e9ecc",
      "metadata": {
        "id": "1c0e9ecc"
      },
      "source": [
        "Напишем метод, заполняющий значения по переданному правилу `method`, иначе - модой."
      ]
    },
    {
      "cell_type": "code",
      "execution_count": null,
      "id": "13badf2b",
      "metadata": {
        "id": "13badf2b"
      },
      "outputs": [],
      "source": [
        "def fill_na(df, columns=[], method=None, type_vals='string', verbose=False):\n",
        "    if verbose:\n",
        "        print('Fill values:')\n",
        "    if method is None:\n",
        "        method = find_mode\n",
        "    fill_vals = method(df, columns=columns, type_vals=type_vals, verbose=verbose)\n",
        "    for i, col in enumerate(columns):\n",
        "        if verbose:\n",
        "            print('fill col {} with value {}'.format(col, fill_vals[i]))\n",
        "        df[col] = df[col].fillna(fill_vals[i]).astype(type_vals)\n",
        "    print()\n",
        "    return df"
      ]
    },
    {
      "cell_type": "code",
      "execution_count": null,
      "id": "38e46319",
      "metadata": {
        "id": "38e46319",
        "outputId": "6dabc330-10c1-4008-d16b-899e985d98e4"
      },
      "outputs": [
        {
          "name": "stdout",
          "output_type": "stream",
          "text": [
            "\n"
          ]
        }
      ],
      "source": [
        "assert fill_na(pd.DataFrame(data=[[1, 4], [4, 4], [2, np.nan], [1, 5]], columns=[0, 1]),\n",
        "                 columns=[1]).loc[2, 1] == '4.0'"
      ]
    },
    {
      "cell_type": "markdown",
      "id": "485c7b75",
      "metadata": {
        "id": "485c7b75"
      },
      "source": [
        "Посмотрим на значения типа `object` - предполагаем, что они строковые."
      ]
    },
    {
      "cell_type": "code",
      "execution_count": null,
      "id": "5041e5d9",
      "metadata": {
        "id": "5041e5d9"
      },
      "outputs": [],
      "source": [
        "str_cols=['married', 'house_ownership', 'car_ownership', 'profession', 'city', 'state']"
      ]
    },
    {
      "cell_type": "code",
      "execution_count": null,
      "id": "1c008f7d",
      "metadata": {
        "id": "1c008f7d",
        "outputId": "5e5f2c6d-7ef8-4bde-ba60-fd26315c7d39"
      },
      "outputs": [
        {
          "data": {
            "text/html": [
              "<div>\n",
              "<style scoped>\n",
              "    .dataframe tbody tr th:only-of-type {\n",
              "        vertical-align: middle;\n",
              "    }\n",
              "\n",
              "    .dataframe tbody tr th {\n",
              "        vertical-align: top;\n",
              "    }\n",
              "\n",
              "    .dataframe thead th {\n",
              "        text-align: right;\n",
              "    }\n",
              "</style>\n",
              "<table border=\"1\" class=\"dataframe\">\n",
              "  <thead>\n",
              "    <tr style=\"text-align: right;\">\n",
              "      <th></th>\n",
              "      <th>married</th>\n",
              "      <th>house_ownership</th>\n",
              "      <th>car_ownership</th>\n",
              "      <th>profession</th>\n",
              "      <th>city</th>\n",
              "      <th>state</th>\n",
              "    </tr>\n",
              "  </thead>\n",
              "  <tbody>\n",
              "    <tr>\n",
              "      <th>0</th>\n",
              "      <td>single</td>\n",
              "      <td>rented</td>\n",
              "      <td>no</td>\n",
              "      <td>Mechanical_engineer</td>\n",
              "      <td>Rewa</td>\n",
              "      <td>Madhya_Pradesh</td>\n",
              "    </tr>\n",
              "    <tr>\n",
              "      <th>1</th>\n",
              "      <td>single</td>\n",
              "      <td>rented</td>\n",
              "      <td>NaN</td>\n",
              "      <td>Software_Developer</td>\n",
              "      <td>Parbhani</td>\n",
              "      <td>Maharashtra</td>\n",
              "    </tr>\n",
              "    <tr>\n",
              "      <th>2</th>\n",
              "      <td>married</td>\n",
              "      <td>rented</td>\n",
              "      <td>no</td>\n",
              "      <td>Technical_writer</td>\n",
              "      <td>Alappuzha</td>\n",
              "      <td>Kerala</td>\n",
              "    </tr>\n",
              "    <tr>\n",
              "      <th>3</th>\n",
              "      <td>single</td>\n",
              "      <td>rented</td>\n",
              "      <td>NaN</td>\n",
              "      <td>Software_Developer</td>\n",
              "      <td>NaN</td>\n",
              "      <td>Odisha</td>\n",
              "    </tr>\n",
              "    <tr>\n",
              "      <th>4</th>\n",
              "      <td>single</td>\n",
              "      <td>rented</td>\n",
              "      <td>no</td>\n",
              "      <td>Civil_servant</td>\n",
              "      <td>Tiruchirappalli[10]</td>\n",
              "      <td>Tamil_Nadu</td>\n",
              "    </tr>\n",
              "  </tbody>\n",
              "</table>\n",
              "</div>"
            ],
            "text/plain": [
              "   married house_ownership car_ownership           profession  \\\n",
              "0   single          rented            no  Mechanical_engineer   \n",
              "1   single          rented           NaN   Software_Developer   \n",
              "2  married          rented            no     Technical_writer   \n",
              "3   single          rented           NaN   Software_Developer   \n",
              "4   single          rented            no        Civil_servant   \n",
              "\n",
              "                  city           state  \n",
              "0                 Rewa  Madhya_Pradesh  \n",
              "1             Parbhani     Maharashtra  \n",
              "2            Alappuzha          Kerala  \n",
              "3                  NaN          Odisha  \n",
              "4  Tiruchirappalli[10]      Tamil_Nadu  "
            ]
          },
          "execution_count": 14,
          "metadata": {},
          "output_type": "execute_result"
        }
      ],
      "source": [
        "df[str_cols].head()"
      ]
    },
    {
      "cell_type": "markdown",
      "id": "f704e99e",
      "metadata": {
        "id": "f704e99e"
      },
      "source": [
        "Посмотрим число уникальных элементов по каждой колонке. Если значений меньше 10, напечатаем их."
      ]
    },
    {
      "cell_type": "code",
      "execution_count": null,
      "id": "88cce3b7",
      "metadata": {
        "id": "88cce3b7"
      },
      "outputs": [],
      "source": [
        "def print_uniq_vals(df, columns=[], max_print=10, verbose=True):\n",
        "    if verbose:\n",
        "        print('Find unique values in columns')\n",
        "    for col in columns:\n",
        "        uniq = np.unique(df[col].dropna().astype('string'))\n",
        "        if verbose:\n",
        "            print('Column {} have {} unique values.'.format(col, len(uniq)))\n",
        "        if len(uniq) <= max_print:\n",
        "            print(uniq)\n",
        "    print()"
      ]
    },
    {
      "cell_type": "code",
      "execution_count": null,
      "id": "ec23801a",
      "metadata": {
        "id": "ec23801a",
        "outputId": "5e9a149c-96c1-464d-8dd6-1e61b0a65f03"
      },
      "outputs": [
        {
          "name": "stdout",
          "output_type": "stream",
          "text": [
            "Find unique values in columns\n",
            "Column married have 2 unique values.\n",
            "['married' 'single']\n",
            "Column house_ownership have 3 unique values.\n",
            "['norent_noown' 'owned' 'rented']\n",
            "Column car_ownership have 2 unique values.\n",
            "['no' 'yes']\n",
            "Column profession have 51 unique values.\n",
            "Column city have 317 unique values.\n",
            "Column state have 29 unique values.\n",
            "\n"
          ]
        }
      ],
      "source": [
        "print_uniq_vals(df, columns=str_cols, verbose=True)"
      ]
    },
    {
      "cell_type": "markdown",
      "id": "58ac71b0",
      "metadata": {
        "id": "58ac71b0"
      },
      "source": [
        "Видим, что колонки `married` и `car_ownership` являются бинарными."
      ]
    },
    {
      "cell_type": "markdown",
      "id": "55957da9",
      "metadata": {
        "id": "55957da9"
      },
      "source": [
        "### Обработка даты-время"
      ]
    },
    {
      "cell_type": "markdown",
      "id": "0ec89149",
      "metadata": {
        "id": "0ec89149"
      },
      "source": [
        "Отсутствуют колонки типа дата-время в датасете."
      ]
    },
    {
      "cell_type": "markdown",
      "id": "d4d03908",
      "metadata": {
        "id": "d4d03908"
      },
      "source": [
        "### Обработка числовых значений"
      ]
    },
    {
      "cell_type": "markdown",
      "id": "d7784a7d",
      "metadata": {
        "id": "d7784a7d"
      },
      "source": [
        "Обработка числовых значений по умолчанию является одной из самых простых задач. Однако все может быть не так просто, как кажется на первый взгляд. Посмотрим на распределение числовых значений в датасете."
      ]
    },
    {
      "cell_type": "code",
      "execution_count": null,
      "id": "dad13606",
      "metadata": {
        "id": "dad13606",
        "outputId": "62420742-1956-4a6b-bacf-31bba91fc0aa"
      },
      "outputs": [
        {
          "data": {
            "text/html": [
              "<div>\n",
              "<style scoped>\n",
              "    .dataframe tbody tr th:only-of-type {\n",
              "        vertical-align: middle;\n",
              "    }\n",
              "\n",
              "    .dataframe tbody tr th {\n",
              "        vertical-align: top;\n",
              "    }\n",
              "\n",
              "    .dataframe thead th {\n",
              "        text-align: right;\n",
              "    }\n",
              "</style>\n",
              "<table border=\"1\" class=\"dataframe\">\n",
              "  <thead>\n",
              "    <tr style=\"text-align: right;\">\n",
              "      <th></th>\n",
              "      <th>Id</th>\n",
              "      <th>income</th>\n",
              "      <th>age</th>\n",
              "      <th>experience</th>\n",
              "      <th>current_job_years</th>\n",
              "      <th>current_house_years</th>\n",
              "      <th>risk_flag</th>\n",
              "    </tr>\n",
              "  </thead>\n",
              "  <tbody>\n",
              "    <tr>\n",
              "      <th>count</th>\n",
              "      <td>252000.000000</td>\n",
              "      <td>2.120000e+05</td>\n",
              "      <td>212000.000000</td>\n",
              "      <td>212000.000000</td>\n",
              "      <td>212000.000000</td>\n",
              "      <td>212000.000000</td>\n",
              "      <td>252000.000000</td>\n",
              "    </tr>\n",
              "    <tr>\n",
              "      <th>mean</th>\n",
              "      <td>126000.500000</td>\n",
              "      <td>5.001149e+06</td>\n",
              "      <td>49.944627</td>\n",
              "      <td>10.100670</td>\n",
              "      <td>6.332241</td>\n",
              "      <td>11.997156</td>\n",
              "      <td>0.123000</td>\n",
              "    </tr>\n",
              "    <tr>\n",
              "      <th>std</th>\n",
              "      <td>72746.278255</td>\n",
              "      <td>2.879121e+06</td>\n",
              "      <td>17.059594</td>\n",
              "      <td>6.003362</td>\n",
              "      <td>3.644469</td>\n",
              "      <td>1.398789</td>\n",
              "      <td>0.328438</td>\n",
              "    </tr>\n",
              "    <tr>\n",
              "      <th>min</th>\n",
              "      <td>1.000000</td>\n",
              "      <td>1.031000e+04</td>\n",
              "      <td>21.000000</td>\n",
              "      <td>0.000000</td>\n",
              "      <td>0.000000</td>\n",
              "      <td>10.000000</td>\n",
              "      <td>0.000000</td>\n",
              "    </tr>\n",
              "    <tr>\n",
              "      <th>25%</th>\n",
              "      <td>63000.750000</td>\n",
              "      <td>2.504720e+06</td>\n",
              "      <td>35.000000</td>\n",
              "      <td>5.000000</td>\n",
              "      <td>3.000000</td>\n",
              "      <td>11.000000</td>\n",
              "      <td>0.000000</td>\n",
              "    </tr>\n",
              "    <tr>\n",
              "      <th>50%</th>\n",
              "      <td>126000.500000</td>\n",
              "      <td>5.008596e+06</td>\n",
              "      <td>50.000000</td>\n",
              "      <td>10.000000</td>\n",
              "      <td>6.000000</td>\n",
              "      <td>12.000000</td>\n",
              "      <td>0.000000</td>\n",
              "    </tr>\n",
              "    <tr>\n",
              "      <th>75%</th>\n",
              "      <td>189000.250000</td>\n",
              "      <td>7.479878e+06</td>\n",
              "      <td>65.000000</td>\n",
              "      <td>15.000000</td>\n",
              "      <td>9.000000</td>\n",
              "      <td>13.000000</td>\n",
              "      <td>0.000000</td>\n",
              "    </tr>\n",
              "    <tr>\n",
              "      <th>max</th>\n",
              "      <td>252000.000000</td>\n",
              "      <td>9.999938e+06</td>\n",
              "      <td>79.000000</td>\n",
              "      <td>20.000000</td>\n",
              "      <td>14.000000</td>\n",
              "      <td>14.000000</td>\n",
              "      <td>1.000000</td>\n",
              "    </tr>\n",
              "  </tbody>\n",
              "</table>\n",
              "</div>"
            ],
            "text/plain": [
              "                  Id        income            age     experience  \\\n",
              "count  252000.000000  2.120000e+05  212000.000000  212000.000000   \n",
              "mean   126000.500000  5.001149e+06      49.944627      10.100670   \n",
              "std     72746.278255  2.879121e+06      17.059594       6.003362   \n",
              "min         1.000000  1.031000e+04      21.000000       0.000000   \n",
              "25%     63000.750000  2.504720e+06      35.000000       5.000000   \n",
              "50%    126000.500000  5.008596e+06      50.000000      10.000000   \n",
              "75%    189000.250000  7.479878e+06      65.000000      15.000000   \n",
              "max    252000.000000  9.999938e+06      79.000000      20.000000   \n",
              "\n",
              "       current_job_years  current_house_years      risk_flag  \n",
              "count      212000.000000        212000.000000  252000.000000  \n",
              "mean            6.332241            11.997156       0.123000  \n",
              "std             3.644469             1.398789       0.328438  \n",
              "min             0.000000            10.000000       0.000000  \n",
              "25%             3.000000            11.000000       0.000000  \n",
              "50%             6.000000            12.000000       0.000000  \n",
              "75%             9.000000            13.000000       0.000000  \n",
              "max            14.000000            14.000000       1.000000  "
            ]
          },
          "execution_count": 17,
          "metadata": {},
          "output_type": "execute_result"
        }
      ],
      "source": [
        "df.describe()"
      ]
    },
    {
      "cell_type": "markdown",
      "id": "0961e673",
      "metadata": {
        "id": "0961e673"
      },
      "source": [
        "Видим, что колонка `Id` неинформативна - в ней содержатся id клиентов. Избавимся от нее."
      ]
    },
    {
      "cell_type": "code",
      "execution_count": null,
      "id": "ed54ec40",
      "metadata": {
        "id": "ed54ec40"
      },
      "outputs": [],
      "source": [
        "df = df.drop(['Id'], axis=1)"
      ]
    },
    {
      "cell_type": "code",
      "execution_count": null,
      "id": "3ef8ec2a",
      "metadata": {
        "id": "3ef8ec2a"
      },
      "outputs": [],
      "source": [
        "num_cols = ['income', 'age', 'experience', 'current_job_years','current_house_years', 'risk_flag']"
      ]
    },
    {
      "cell_type": "markdown",
      "id": "c09aa983",
      "metadata": {
        "id": "c09aa983"
      },
      "source": [
        "Посмотрим на распределение колонки `age` - возможно, имеет смысл привести ее к целочисленному типу"
      ]
    },
    {
      "cell_type": "code",
      "execution_count": null,
      "id": "a545c167",
      "metadata": {
        "id": "a545c167",
        "outputId": "19847108-b0f4-43cb-c256-6df6dc65337c"
      },
      "outputs": [
        {
          "name": "stdout",
          "output_type": "stream",
          "text": [
            "Find unique values in columns\n",
            "Column income have 36145 unique values.\n",
            "Column age have 59 unique values.\n",
            "['21.0' '22.0' '23.0' '24.0' '25.0' '26.0' '27.0' '28.0' '29.0' '30.0'\n",
            " '31.0' '32.0' '33.0' '34.0' '35.0' '36.0' '37.0' '38.0' '39.0' '40.0'\n",
            " '41.0' '42.0' '43.0' '44.0' '45.0' '46.0' '47.0' '48.0' '49.0' '50.0'\n",
            " '51.0' '52.0' '53.0' '54.0' '55.0' '56.0' '57.0' '58.0' '59.0' '60.0'\n",
            " '61.0' '62.0' '63.0' '64.0' '65.0' '66.0' '67.0' '68.0' '69.0' '70.0'\n",
            " '71.0' '72.0' '73.0' '74.0' '75.0' '76.0' '77.0' '78.0' '79.0']\n",
            "Column experience have 21 unique values.\n",
            "['0.0' '1.0' '10.0' '11.0' '12.0' '13.0' '14.0' '15.0' '16.0' '17.0'\n",
            " '18.0' '19.0' '2.0' '20.0' '3.0' '4.0' '5.0' '6.0' '7.0' '8.0' '9.0']\n",
            "Column current_job_years have 15 unique values.\n",
            "['0.0' '1.0' '10.0' '11.0' '12.0' '13.0' '14.0' '2.0' '3.0' '4.0' '5.0'\n",
            " '6.0' '7.0' '8.0' '9.0']\n",
            "Column current_house_years have 5 unique values.\n",
            "['10.0' '11.0' '12.0' '13.0' '14.0']\n",
            "Column risk_flag have 2 unique values.\n",
            "['0' '1']\n",
            "\n"
          ]
        }
      ],
      "source": [
        "print_uniq_vals(df, columns=num_cols, max_print=59, verbose=True)"
      ]
    },
    {
      "cell_type": "markdown",
      "id": "93c80a66",
      "metadata": {
        "id": "93c80a66"
      },
      "source": [
        "Видим, что колонка `age` действительно заполнена всего 59 значениями от 21 до 79. Заполним ее целочисленными значениями. Также заполним целочисленными значениями колонки `experience`, `current_job_years`, `current_house_years`.\n",
        "\n",
        "Колонка `risk_flag ` имеет всего 2 различных значения - она бинарная"
      ]
    },
    {
      "cell_type": "markdown",
      "id": "4e72d210",
      "metadata": {
        "id": "4e72d210"
      },
      "source": [
        "Колонка `income` имеет большое стандартное отклонение и имеет смысл заполнить значения средним по колонке"
      ]
    },
    {
      "cell_type": "code",
      "execution_count": null,
      "id": "53680660",
      "metadata": {
        "id": "53680660",
        "outputId": "a74d5549-d281-4768-b271-7879242618f6"
      },
      "outputs": [
        {
          "name": "stdout",
          "output_type": "stream",
          "text": [
            "Fill values:\n",
            "Find value at columns ['income'] with method mean\n",
            "fill col income with value 5001148.634896226\n",
            "\n"
          ]
        }
      ],
      "source": [
        "float_cols = ['income']\n",
        "df = fill_na(df, columns=float_cols, method=find_by_col, type_vals='float64', verbose=True)"
      ]
    },
    {
      "cell_type": "markdown",
      "id": "d0244bd9",
      "metadata": {
        "id": "d0244bd9"
      },
      "source": [
        "Также заполним колонки `age`, `experience`, `current_job_years` средними, но уже типа `int32`"
      ]
    },
    {
      "cell_type": "code",
      "execution_count": null,
      "id": "29ddfa5a",
      "metadata": {
        "id": "29ddfa5a",
        "outputId": "a2999725-54ca-4ae2-ab74-78ea0ccc634a"
      },
      "outputs": [
        {
          "name": "stdout",
          "output_type": "stream",
          "text": [
            "Fill values:\n",
            "Find value at columns ['age', 'experience', 'current_job_years', 'current_house_years'] with method mean\n",
            "fill col age with value 49\n",
            "fill col experience with value 10\n",
            "fill col current_job_years with value 6\n",
            "fill col current_house_years with value 11\n",
            "\n"
          ]
        }
      ],
      "source": [
        "int_cols=['age', 'experience', 'current_job_years', 'current_house_years']\n",
        "df = fill_na(df, columns=int_cols, method=find_by_col, type_vals='int64', verbose=True)"
      ]
    },
    {
      "cell_type": "markdown",
      "id": "84f016f9",
      "metadata": {
        "id": "84f016f9"
      },
      "source": [
        "Посмотрим на корелляцию числовых признаков между собой после заполнения"
      ]
    },
    {
      "cell_type": "code",
      "execution_count": null,
      "id": "c81c8aec",
      "metadata": {
        "id": "c81c8aec",
        "outputId": "3e33b710-6a90-4850-8c4d-811428266ebd"
      },
      "outputs": [
        {
          "data": {
            "text/html": [
              "<div>\n",
              "<style scoped>\n",
              "    .dataframe tbody tr th:only-of-type {\n",
              "        vertical-align: middle;\n",
              "    }\n",
              "\n",
              "    .dataframe tbody tr th {\n",
              "        vertical-align: top;\n",
              "    }\n",
              "\n",
              "    .dataframe thead th {\n",
              "        text-align: right;\n",
              "    }\n",
              "</style>\n",
              "<table border=\"1\" class=\"dataframe\">\n",
              "  <thead>\n",
              "    <tr style=\"text-align: right;\">\n",
              "      <th></th>\n",
              "      <th>income</th>\n",
              "      <th>age</th>\n",
              "      <th>experience</th>\n",
              "      <th>current_job_years</th>\n",
              "      <th>current_house_years</th>\n",
              "      <th>risk_flag</th>\n",
              "    </tr>\n",
              "  </thead>\n",
              "  <tbody>\n",
              "    <tr>\n",
              "      <th>income</th>\n",
              "      <td>1.000000</td>\n",
              "      <td>-0.001968</td>\n",
              "      <td>0.003519</td>\n",
              "      <td>0.006259</td>\n",
              "      <td>0.000009</td>\n",
              "      <td>-0.002937</td>\n",
              "    </tr>\n",
              "    <tr>\n",
              "      <th>age</th>\n",
              "      <td>-0.001968</td>\n",
              "      <td>1.000000</td>\n",
              "      <td>-0.002021</td>\n",
              "      <td>0.001337</td>\n",
              "      <td>-0.016107</td>\n",
              "      <td>-0.020922</td>\n",
              "    </tr>\n",
              "    <tr>\n",
              "      <th>experience</th>\n",
              "      <td>0.003519</td>\n",
              "      <td>-0.002021</td>\n",
              "      <td>1.000000</td>\n",
              "      <td>0.542194</td>\n",
              "      <td>0.013883</td>\n",
              "      <td>-0.032749</td>\n",
              "    </tr>\n",
              "    <tr>\n",
              "      <th>current_job_years</th>\n",
              "      <td>0.006259</td>\n",
              "      <td>0.001337</td>\n",
              "      <td>0.542194</td>\n",
              "      <td>1.000000</td>\n",
              "      <td>0.004155</td>\n",
              "      <td>-0.015364</td>\n",
              "    </tr>\n",
              "    <tr>\n",
              "      <th>current_house_years</th>\n",
              "      <td>0.000009</td>\n",
              "      <td>-0.016107</td>\n",
              "      <td>0.013883</td>\n",
              "      <td>0.004155</td>\n",
              "      <td>1.000000</td>\n",
              "      <td>-0.002834</td>\n",
              "    </tr>\n",
              "    <tr>\n",
              "      <th>risk_flag</th>\n",
              "      <td>-0.002937</td>\n",
              "      <td>-0.020922</td>\n",
              "      <td>-0.032749</td>\n",
              "      <td>-0.015364</td>\n",
              "      <td>-0.002834</td>\n",
              "      <td>1.000000</td>\n",
              "    </tr>\n",
              "  </tbody>\n",
              "</table>\n",
              "</div>"
            ],
            "text/plain": [
              "                       income       age  experience  current_job_years  \\\n",
              "income               1.000000 -0.001968    0.003519           0.006259   \n",
              "age                 -0.001968  1.000000   -0.002021           0.001337   \n",
              "experience           0.003519 -0.002021    1.000000           0.542194   \n",
              "current_job_years    0.006259  0.001337    0.542194           1.000000   \n",
              "current_house_years  0.000009 -0.016107    0.013883           0.004155   \n",
              "risk_flag           -0.002937 -0.020922   -0.032749          -0.015364   \n",
              "\n",
              "                     current_house_years  risk_flag  \n",
              "income                          0.000009  -0.002937  \n",
              "age                            -0.016107  -0.020922  \n",
              "experience                      0.013883  -0.032749  \n",
              "current_job_years               0.004155  -0.015364  \n",
              "current_house_years             1.000000  -0.002834  \n",
              "risk_flag                      -0.002834   1.000000  "
            ]
          },
          "execution_count": 23,
          "metadata": {},
          "output_type": "execute_result"
        }
      ],
      "source": [
        "df[num_cols].corr()"
      ]
    },
    {
      "cell_type": "code",
      "execution_count": null,
      "id": "017b2f08",
      "metadata": {
        "id": "017b2f08",
        "outputId": "d31c760a-0356-49c0-db06-c85546b7d10b"
      },
      "outputs": [
        {
          "data": {
            "text/plain": [
              "<AxesSubplot:>"
            ]
          },
          "execution_count": 24,
          "metadata": {},
          "output_type": "execute_result"
        },
        {
          "data": {
            "image/png": "[encoded data removed]",
            "text/plain": [
              "<Figure size 432x288 with 2 Axes>"
            ]
          },
          "metadata": {
            "needs_background": "light"
          },
          "output_type": "display_data"
        }
      ],
      "source": [
        "sns.heatmap(df[num_cols].corr())"
      ]
    },
    {
      "cell_type": "markdown",
      "id": "a116b7b8",
      "metadata": {
        "id": "a116b7b8"
      },
      "source": [
        "Видим, что признаки слабо кореллируют между собой (кроме `experience` и `current_job_years`) - дополнительных действий не требуется. Замечаем, что пары колонок\n",
        "- `income`, `experience`;\n",
        "- `income`, `current_job_years`;\n",
        "- `income`, `current_house_years`;\n",
        "- `income`, `risk_flag`;\n",
        "- `age`, `experience`;\n",
        "- `age`, `current_job_years`;\n",
        "- `current_job_years`, `current_house_years`,\n",
        "слабо кореллируют между собой. Возможно, придется избавиться от одной или нескольких из данных колонок впоследствии."
      ]
    },
    {
      "cell_type": "markdown",
      "id": "bfc7ee36",
      "metadata": {
        "id": "bfc7ee36"
      },
      "source": [
        "### Обработка бинарных значений"
      ]
    },
    {
      "cell_type": "markdown",
      "id": "6db77ddc",
      "metadata": {
        "id": "6db77ddc"
      },
      "source": [
        "Напишем функцию, обрабатывающую бинарные значения"
      ]
    },
    {
      "cell_type": "code",
      "execution_count": null,
      "id": "50c41725",
      "metadata": {
        "id": "50c41725"
      },
      "outputs": [],
      "source": [
        "bin_cols = ['married', 'car_ownership', 'risk_flag']"
      ]
    },
    {
      "cell_type": "markdown",
      "id": "f27060f4",
      "metadata": {
        "id": "f27060f4"
      },
      "source": [
        "Данная функция будет заполнять пропуски наиболее часто встречающимся значением и приводить в бинарный вид (0, 1)"
      ]
    },
    {
      "cell_type": "code",
      "execution_count": null,
      "id": "8e46db6c",
      "metadata": {
        "id": "8e46db6c"
      },
      "outputs": [],
      "source": [
        "def prepare_bin_cols(df, columns=[], type_vals='string', type_vals_end='int64', verbose=False):\n",
        "    if verbose:\n",
        "        print('Prepare binary columns: {}'.format(columns))\n",
        "    df = fill_na(df, columns=columns, verbose=verbose)\n",
        "    for col in columns:\n",
        "        uniq = np.unique(df[col].dropna().astype(type_vals))\n",
        "        mapping = {val:str(i) for i, val in enumerate(uniq)}\n",
        "        if verbose:\n",
        "            print('Change values to binary at column {} with values {}'.format(col, mapping))\n",
        "        df[col] = df[col].map(mapping).astype(type_vals_end)\n",
        "    if verbose:\n",
        "        print()\n",
        "    return df"
      ]
    },
    {
      "cell_type": "code",
      "execution_count": null,
      "id": "ea9649c4",
      "metadata": {
        "id": "ea9649c4",
        "outputId": "a8fcc600-5a86-4d33-e75f-38d0f5e6237f"
      },
      "outputs": [
        {
          "name": "stdout",
          "output_type": "stream",
          "text": [
            "Prepare binary columns: ['married', 'car_ownership', 'risk_flag']\n",
            "Fill values:\n",
            "fill col married with value single\n",
            "fill col car_ownership with value no\n",
            "fill col risk_flag with value 0\n",
            "\n",
            "Change values to binary at column married with values {'married': '0', 'single': '1'}\n",
            "Change values to binary at column car_ownership with values {'no': '0', 'yes': '1'}\n",
            "Change values to binary at column risk_flag with values {'0': '0', '1': '1'}\n",
            "\n"
          ]
        }
      ],
      "source": [
        "df = prepare_bin_cols(df, columns=bin_cols, verbose=True)"
      ]
    },
    {
      "cell_type": "markdown",
      "id": "5b6850ab",
      "metadata": {
        "id": "5b6850ab"
      },
      "source": [
        "### Обработка конкатенирующих значений"
      ]
    },
    {
      "cell_type": "markdown",
      "id": "beffac35",
      "metadata": {
        "id": "beffac35"
      },
      "source": [
        "Конкатенирующих значений не выделено - однако в столбцах `city` встречается числовый постфикс вида $[X], X \\in \\mathbb {N}$. Уберем данный постфикс, заполним недостающие значения модой"
      ]
    },
    {
      "cell_type": "markdown",
      "id": "e9491e70",
      "metadata": {
        "id": "e9491e70"
      },
      "source": [
        "Функция `remove_num` убирает числовое значение после города"
      ]
    },
    {
      "cell_type": "code",
      "execution_count": null,
      "id": "8b5b3b57",
      "metadata": {
        "id": "8b5b3b57"
      },
      "outputs": [],
      "source": [
        "def remove_num(value):\n",
        "    idx = value.find('[')\n",
        "    if idx != -1:\n",
        "        value = value[:idx]\n",
        "    return value"
      ]
    },
    {
      "cell_type": "code",
      "execution_count": null,
      "id": "2045d63f",
      "metadata": {
        "id": "2045d63f"
      },
      "outputs": [],
      "source": [
        "assert remove_num('abc') == 'abc'\n",
        "assert remove_num('abc[132]') == 'abc'"
      ]
    },
    {
      "cell_type": "code",
      "execution_count": null,
      "id": "1d4058d9",
      "metadata": {
        "id": "1d4058d9"
      },
      "outputs": [],
      "source": [
        "def iter_row(column):\n",
        "    res = []\n",
        "    for i, val in enumerate(column):\n",
        "        res.append(remove_num(val))\n",
        "    return res\n",
        "\n",
        "def iter_col(columns):\n",
        "    columns.apply(iter_row)\n",
        "    return columns\n",
        "\n",
        "def remove_postfix(df, columns=[], type_vals='string', verbose=False):\n",
        "    if verbose:\n",
        "        print('Remove numeric postfix values at column {}'.format(columns))\n",
        "    df = fill_na(df, columns=columns, verbose=verbose)\n",
        "    df[columns] = df[columns].apply(iter_row)\n",
        "    return df"
      ]
    },
    {
      "cell_type": "code",
      "execution_count": null,
      "id": "85b32a34",
      "metadata": {
        "id": "85b32a34",
        "outputId": "d3fd32d6-252c-46bb-8365-3ed523acf050"
      },
      "outputs": [
        {
          "name": "stdout",
          "output_type": "stream",
          "text": [
            "Remove numeric postfix values at column ['city', 'state']\n",
            "Fill values:\n",
            "fill col city with value Vijayanagaram\n",
            "fill col state with value Uttar_Pradesh\n",
            "\n"
          ]
        }
      ],
      "source": [
        "df = remove_postfix(df, columns=['city', 'state'], verbose=True)"
      ]
    },
    {
      "cell_type": "markdown",
      "id": "e9929c49",
      "metadata": {
        "id": "e9929c49"
      },
      "source": [
        "### Обработка строковых (категориальных) значений"
      ]
    },
    {
      "cell_type": "code",
      "execution_count": null,
      "id": "a5063b19",
      "metadata": {
        "id": "a5063b19",
        "outputId": "ecef2536-0a93-4f39-be8f-bd19189713d2"
      },
      "outputs": [
        {
          "data": {
            "text/plain": [
              "['state', 'house_ownership', 'profession', 'city']"
            ]
          },
          "execution_count": 32,
          "metadata": {},
          "output_type": "execute_result"
        }
      ],
      "source": [
        "cat_cols = list(set(df.columns) - set(int_cols + float_cols + bin_cols))\n",
        "cat_cols"
      ]
    },
    {
      "cell_type": "code",
      "execution_count": null,
      "id": "31026668",
      "metadata": {
        "id": "31026668",
        "outputId": "32a8ef57-78bc-4c41-8e74-a1acb93a992f"
      },
      "outputs": [
        {
          "name": "stdout",
          "output_type": "stream",
          "text": [
            "<class 'pandas.core.frame.DataFrame'>\n",
            "Int64Index: 252000 entries, 0 to 251999\n",
            "Data columns (total 4 columns):\n",
            " #   Column           Non-Null Count   Dtype \n",
            "---  ------           --------------   ----- \n",
            " 0   state            252000 non-null  object\n",
            " 1   house_ownership  212000 non-null  object\n",
            " 2   profession       212000 non-null  object\n",
            " 3   city             252000 non-null  object\n",
            "dtypes: object(4)\n",
            "memory usage: 9.6+ MB\n"
          ]
        }
      ],
      "source": [
        "df[cat_cols].info()"
      ]
    },
    {
      "cell_type": "markdown",
      "id": "e0ff622d",
      "metadata": {
        "id": "e0ff622d"
      },
      "source": [
        "Как мы помним, среди текущих столбцов отсутствуют бинарные значения. Посмотрим на сами данные и на уникальные значения по столбцам"
      ]
    },
    {
      "cell_type": "code",
      "execution_count": null,
      "id": "a2233730",
      "metadata": {
        "id": "a2233730",
        "outputId": "014ac623-2c6b-4adb-acb7-2c3d92bd9eb9"
      },
      "outputs": [
        {
          "data": {
            "text/html": [
              "<div>\n",
              "<style scoped>\n",
              "    .dataframe tbody tr th:only-of-type {\n",
              "        vertical-align: middle;\n",
              "    }\n",
              "\n",
              "    .dataframe tbody tr th {\n",
              "        vertical-align: top;\n",
              "    }\n",
              "\n",
              "    .dataframe thead th {\n",
              "        text-align: right;\n",
              "    }\n",
              "</style>\n",
              "<table border=\"1\" class=\"dataframe\">\n",
              "  <thead>\n",
              "    <tr style=\"text-align: right;\">\n",
              "      <th></th>\n",
              "      <th>state</th>\n",
              "      <th>house_ownership</th>\n",
              "      <th>profession</th>\n",
              "      <th>city</th>\n",
              "    </tr>\n",
              "  </thead>\n",
              "  <tbody>\n",
              "    <tr>\n",
              "      <th>0</th>\n",
              "      <td>Madhya_Pradesh</td>\n",
              "      <td>rented</td>\n",
              "      <td>Mechanical_engineer</td>\n",
              "      <td>Rewa</td>\n",
              "    </tr>\n",
              "    <tr>\n",
              "      <th>1</th>\n",
              "      <td>Maharashtra</td>\n",
              "      <td>rented</td>\n",
              "      <td>Software_Developer</td>\n",
              "      <td>Parbhani</td>\n",
              "    </tr>\n",
              "    <tr>\n",
              "      <th>2</th>\n",
              "      <td>Kerala</td>\n",
              "      <td>rented</td>\n",
              "      <td>Technical_writer</td>\n",
              "      <td>Alappuzha</td>\n",
              "    </tr>\n",
              "    <tr>\n",
              "      <th>3</th>\n",
              "      <td>Odisha</td>\n",
              "      <td>rented</td>\n",
              "      <td>Software_Developer</td>\n",
              "      <td>Vijayanagaram</td>\n",
              "    </tr>\n",
              "    <tr>\n",
              "      <th>4</th>\n",
              "      <td>Tamil_Nadu</td>\n",
              "      <td>rented</td>\n",
              "      <td>Civil_servant</td>\n",
              "      <td>Tiruchirappalli</td>\n",
              "    </tr>\n",
              "  </tbody>\n",
              "</table>\n",
              "</div>"
            ],
            "text/plain": [
              "            state house_ownership           profession             city\n",
              "0  Madhya_Pradesh          rented  Mechanical_engineer             Rewa\n",
              "1     Maharashtra          rented   Software_Developer         Parbhani\n",
              "2          Kerala          rented     Technical_writer        Alappuzha\n",
              "3          Odisha          rented   Software_Developer    Vijayanagaram\n",
              "4      Tamil_Nadu          rented        Civil_servant  Tiruchirappalli"
            ]
          },
          "execution_count": 34,
          "metadata": {},
          "output_type": "execute_result"
        }
      ],
      "source": [
        "df[cat_cols].head()"
      ]
    },
    {
      "cell_type": "code",
      "execution_count": null,
      "id": "1921890a",
      "metadata": {
        "id": "1921890a",
        "outputId": "5e867b96-3b15-4dc4-8f09-0bc39931fd24"
      },
      "outputs": [
        {
          "name": "stdout",
          "output_type": "stream",
          "text": [
            "Find unique values in columns\n",
            "Column state have 28 unique values.\n",
            "Column house_ownership have 3 unique values.\n",
            "['norent_noown' 'owned' 'rented']\n",
            "Column profession have 51 unique values.\n",
            "Column city have 316 unique values.\n",
            "\n"
          ]
        }
      ],
      "source": [
        "print_uniq_vals(df, columns=cat_cols, max_print=10, verbose=True)"
      ]
    },
    {
      "cell_type": "markdown",
      "id": "50789a39",
      "metadata": {
        "id": "50789a39"
      },
      "source": [
        "Число городов достаточно велико, однако в среднем на 1 город приходится `252000/317=8200` людей. Поэтому можно для всех колонок применить `one-hot` кодирование, предварительно заполнив значениями `Undefined`"
      ]
    },
    {
      "cell_type": "code",
      "execution_count": null,
      "id": "03ea08c5",
      "metadata": {
        "id": "03ea08c5"
      },
      "outputs": [],
      "source": [
        "def find_undefined(df, columns=[], type_vals='string', verbose=False):\n",
        "    if verbose:\n",
        "        print('Find Undefined for columns: {}'.format(columns))\n",
        "    return ['Undefined'] * len(columns)"
      ]
    },
    {
      "cell_type": "code",
      "execution_count": null,
      "id": "4f90bf87",
      "metadata": {
        "id": "4f90bf87"
      },
      "outputs": [],
      "source": [
        "assert find_undefined([], columns=[]) == []\n",
        "assert find_undefined([], columns=[1, 'a']) == ['Undefined', 'Undefined']"
      ]
    },
    {
      "cell_type": "code",
      "execution_count": null,
      "id": "35c04e1b",
      "metadata": {
        "id": "35c04e1b"
      },
      "outputs": [],
      "source": [
        "def prepare_cat_cols(df, columns=[], type_vals='string', verbose=False):\n",
        "    shape_before = df.shape\n",
        "    if verbose:\n",
        "        print('Prepare categorical columns: {}'.format(columns))\n",
        "    df = fill_na(df, columns=columns, verbose=verbose, method=find_undefined)\n",
        "    df = pd.get_dummies(df, columns=columns)\n",
        "    if verbose:\n",
        "        shape_after = df.shape\n",
        "        print('One-hot coding: shape before: {}, shape after {}'.format(shape_before, shape_after), end='\\n\\n')\n",
        "    return df"
      ]
    },
    {
      "cell_type": "code",
      "execution_count": null,
      "id": "c89f7679",
      "metadata": {
        "id": "c89f7679",
        "outputId": "6059b3b8-a640-46bd-93bf-8508d1bdc3b6"
      },
      "outputs": [
        {
          "name": "stdout",
          "output_type": "stream",
          "text": [
            "Prepare categorical columns: ['state', 'house_ownership', 'profession', 'city']\n",
            "Fill values:\n",
            "Find Undefined for columns: ['state', 'house_ownership', 'profession', 'city']\n",
            "fill col state with value Undefined\n",
            "fill col house_ownership with value Undefined\n",
            "fill col profession with value Undefined\n",
            "fill col city with value Undefined\n",
            "\n",
            "One-hot coding: shape before: (252000, 12), shape after (252000, 408)\n",
            "\n"
          ]
        }
      ],
      "source": [
        "df = prepare_cat_cols(df, columns=cat_cols, verbose=True)"
      ]
    },
    {
      "cell_type": "markdown",
      "id": "35c61e9b",
      "metadata": {
        "id": "35c61e9b"
      },
      "source": [
        "## Полная предобработка"
      ]
    },
    {
      "cell_type": "markdown",
      "id": "90c6f754",
      "metadata": {
        "id": "90c6f754"
      },
      "source": [
        "Напишем метод, загружающий и полностью предобрабатывающий датасет по правилам выше."
      ]
    },
    {
      "cell_type": "code",
      "execution_count": null,
      "id": "2fe5355a",
      "metadata": {
        "id": "2fe5355a"
      },
      "outputs": [],
      "source": [
        "def full_prep(filename='data.csv', index_col=0, useless_cols=['Id'], datetime_cols=[],\n",
        "              int_cols=['age', 'experience', 'current_job_years', 'current_house_years'],\n",
        "              float_cols=['income'], bin_cols = ['married', 'car_ownership', 'risk_flag'],\n",
        "             concat_cols=['city', 'state']):\n",
        "    # Get dataset\n",
        "    print('Get dataset by path: {}'.format(filename))\n",
        "    df = pd.read_csv(filename, sep=',', index_col=index_col)\n",
        "    # Remove useless columns\n",
        "    print('Drop columns: {}'.format(useless_cols))\n",
        "    df = df.drop(useless_cols, axis=1)\n",
        "    # PREPARATION COLUMNS\n",
        "    # datetime columns are missed at dataset\n",
        "    print('No datetime columns')\n",
        "    # float columms\n",
        "    df = fill_na(df, columns=float_cols, method=find_by_col, type_vals='float64', verbose=True)\n",
        "    # int columns\n",
        "    df = fill_na(df, columns=int_cols, method=find_by_col, type_vals='int64', verbose=True)\n",
        "    # binary columns\n",
        "    df = prepare_bin_cols(df, columns=bin_cols, verbose=True)\n",
        "    # concatenate columns are missed at dataset\n",
        "    df = remove_postfix(df, columns=concat_cols, verbose=True)\n",
        "    # Find categorical values\n",
        "    cat_cols = list(set(df.columns) - set(int_cols + float_cols + bin_cols))\n",
        "    # Categorical cols\n",
        "    df = prepare_cat_cols(df, columns=cat_cols, verbose=True)\n",
        "    return df"
      ]
    },
    {
      "cell_type": "code",
      "execution_count": null,
      "id": "afe70fcf",
      "metadata": {
        "id": "afe70fcf",
        "outputId": "683e4093-5afe-4368-d3c4-c9a3758dd2d8"
      },
      "outputs": [
        {
          "name": "stdout",
          "output_type": "stream",
          "text": [
            "Get dataset by path: data.csv\n",
            "Drop columns: ['Id']\n",
            "No datetime columns\n",
            "Fill values:\n",
            "Find value at columns ['income'] with method mean\n",
            "fill col income with value 5001148.634896226\n",
            "\n",
            "Fill values:\n",
            "Find value at columns ['age', 'experience', 'current_job_years', 'current_house_years'] with method mean\n",
            "fill col age with value 49\n",
            "fill col experience with value 10\n",
            "fill col current_job_years with value 6\n",
            "fill col current_house_years with value 11\n",
            "\n",
            "Prepare binary columns: ['married', 'car_ownership', 'risk_flag']\n",
            "Fill values:\n",
            "fill col married with value single\n",
            "fill col car_ownership with value no\n",
            "fill col risk_flag with value 0\n",
            "\n",
            "Change values to binary at column married with values {'married': '0', 'single': '1'}\n",
            "Change values to binary at column car_ownership with values {'no': '0', 'yes': '1'}\n",
            "Change values to binary at column risk_flag with values {'0': '0', '1': '1'}\n",
            "\n",
            "Remove numeric postfix values at column ['city', 'state']\n",
            "Fill values:\n",
            "fill col city with value Vijayanagaram\n",
            "fill col state with value Uttar_Pradesh\n",
            "\n",
            "Prepare categorical columns: ['state', 'house_ownership', 'profession', 'city']\n",
            "Fill values:\n",
            "Find Undefined for columns: ['state', 'house_ownership', 'profession', 'city']\n",
            "fill col state with value Undefined\n",
            "fill col house_ownership with value Undefined\n",
            "fill col profession with value Undefined\n",
            "fill col city with value Undefined\n",
            "\n",
            "One-hot coding: shape before: (252000, 12), shape after (252000, 408)\n",
            "\n"
          ]
        }
      ],
      "source": [
        "df_new = full_prep()"
      ]
    },
    {
      "cell_type": "markdown",
      "id": "e29d3c8f",
      "metadata": {
        "id": "e29d3c8f"
      },
      "source": [
        "Проверяем, что не осталось неопределенных значений."
      ]
    },
    {
      "cell_type": "code",
      "execution_count": null,
      "id": "873ed5e8",
      "metadata": {
        "id": "873ed5e8",
        "outputId": "8d554c99-2abe-4466-cd62-41e6e16c8c15"
      },
      "outputs": [
        {
          "data": {
            "text/plain": [
              "0"
            ]
          },
          "execution_count": 42,
          "metadata": {},
          "output_type": "execute_result"
        }
      ],
      "source": [
        "df_new.isna().sum().sum()"
      ]
    },
    {
      "cell_type": "markdown",
      "id": "d295033d",
      "metadata": {
        "id": "d295033d"
      },
      "source": [
        "Данная функция добавляет постфикс к слову."
      ]
    },
    {
      "cell_type": "code",
      "execution_count": null,
      "id": "367ef98b",
      "metadata": {
        "id": "367ef98b"
      },
      "outputs": [],
      "source": [
        "def add_postfix(filename='', postfix='_prepared', sep='.'):\n",
        "    names = filename.split(sep)\n",
        "    names[0] += postfix\n",
        "    new_filename = sep.join(names)\n",
        "    return new_filename"
      ]
    },
    {
      "cell_type": "markdown",
      "id": "2d74eeff",
      "metadata": {
        "id": "2d74eeff"
      },
      "source": [
        "Сохраним датасет c префиксом `prepared`."
      ]
    },
    {
      "cell_type": "code",
      "execution_count": null,
      "id": "faed441f",
      "metadata": {
        "id": "faed441f"
      },
      "outputs": [],
      "source": [
        "new_filename = add_postfix(filename=filename)\n",
        "df_new.to_csv(new_filename, index=False)"
      ]
    },
    {
      "cell_type": "code",
      "execution_count": null,
      "id": "45e8a41e",
      "metadata": {
        "id": "45e8a41e",
        "outputId": "2f727989-2652-40b1-baa6-dd6ecdf5824f"
      },
      "outputs": [
        {
          "data": {
            "text/html": [
              "<div>\n",
              "<style scoped>\n",
              "    .dataframe tbody tr th:only-of-type {\n",
              "        vertical-align: middle;\n",
              "    }\n",
              "\n",
              "    .dataframe tbody tr th {\n",
              "        vertical-align: top;\n",
              "    }\n",
              "\n",
              "    .dataframe thead th {\n",
              "        text-align: right;\n",
              "    }\n",
              "</style>\n",
              "<table border=\"1\" class=\"dataframe\">\n",
              "  <thead>\n",
              "    <tr style=\"text-align: right;\">\n",
              "      <th></th>\n",
              "      <th>income</th>\n",
              "      <th>age</th>\n",
              "      <th>experience</th>\n",
              "      <th>married</th>\n",
              "      <th>car_ownership</th>\n",
              "      <th>current_job_years</th>\n",
              "      <th>current_house_years</th>\n",
              "      <th>risk_flag</th>\n",
              "      <th>state_Andhra_Pradesh</th>\n",
              "      <th>state_Assam</th>\n",
              "      <th>...</th>\n",
              "      <th>city_Unnao</th>\n",
              "      <th>city_Vadodara</th>\n",
              "      <th>city_Varanasi</th>\n",
              "      <th>city_Vasai-Virar</th>\n",
              "      <th>city_Vellore</th>\n",
              "      <th>city_Vijayanagaram</th>\n",
              "      <th>city_Vijayawada</th>\n",
              "      <th>city_Visakhapatnam</th>\n",
              "      <th>city_Warangal</th>\n",
              "      <th>city_Yamunanagar</th>\n",
              "    </tr>\n",
              "  </thead>\n",
              "  <tbody>\n",
              "    <tr>\n",
              "      <th>0</th>\n",
              "      <td>1303835.0</td>\n",
              "      <td>23</td>\n",
              "      <td>3</td>\n",
              "      <td>1</td>\n",
              "      <td>0</td>\n",
              "      <td>3</td>\n",
              "      <td>13</td>\n",
              "      <td>0</td>\n",
              "      <td>0</td>\n",
              "      <td>0</td>\n",
              "      <td>...</td>\n",
              "      <td>0</td>\n",
              "      <td>0</td>\n",
              "      <td>0</td>\n",
              "      <td>0</td>\n",
              "      <td>0</td>\n",
              "      <td>0</td>\n",
              "      <td>0</td>\n",
              "      <td>0</td>\n",
              "      <td>0</td>\n",
              "      <td>0</td>\n",
              "    </tr>\n",
              "    <tr>\n",
              "      <th>1</th>\n",
              "      <td>7574516.0</td>\n",
              "      <td>40</td>\n",
              "      <td>10</td>\n",
              "      <td>1</td>\n",
              "      <td>0</td>\n",
              "      <td>9</td>\n",
              "      <td>13</td>\n",
              "      <td>0</td>\n",
              "      <td>0</td>\n",
              "      <td>0</td>\n",
              "      <td>...</td>\n",
              "      <td>0</td>\n",
              "      <td>0</td>\n",
              "      <td>0</td>\n",
              "      <td>0</td>\n",
              "      <td>0</td>\n",
              "      <td>0</td>\n",
              "      <td>0</td>\n",
              "      <td>0</td>\n",
              "      <td>0</td>\n",
              "      <td>0</td>\n",
              "    </tr>\n",
              "    <tr>\n",
              "      <th>2</th>\n",
              "      <td>3991815.0</td>\n",
              "      <td>66</td>\n",
              "      <td>4</td>\n",
              "      <td>0</td>\n",
              "      <td>0</td>\n",
              "      <td>4</td>\n",
              "      <td>10</td>\n",
              "      <td>0</td>\n",
              "      <td>0</td>\n",
              "      <td>0</td>\n",
              "      <td>...</td>\n",
              "      <td>0</td>\n",
              "      <td>0</td>\n",
              "      <td>0</td>\n",
              "      <td>0</td>\n",
              "      <td>0</td>\n",
              "      <td>0</td>\n",
              "      <td>0</td>\n",
              "      <td>0</td>\n",
              "      <td>0</td>\n",
              "      <td>0</td>\n",
              "    </tr>\n",
              "    <tr>\n",
              "      <th>3</th>\n",
              "      <td>6256451.0</td>\n",
              "      <td>41</td>\n",
              "      <td>2</td>\n",
              "      <td>1</td>\n",
              "      <td>0</td>\n",
              "      <td>2</td>\n",
              "      <td>12</td>\n",
              "      <td>1</td>\n",
              "      <td>0</td>\n",
              "      <td>0</td>\n",
              "      <td>...</td>\n",
              "      <td>0</td>\n",
              "      <td>0</td>\n",
              "      <td>0</td>\n",
              "      <td>0</td>\n",
              "      <td>0</td>\n",
              "      <td>1</td>\n",
              "      <td>0</td>\n",
              "      <td>0</td>\n",
              "      <td>0</td>\n",
              "      <td>0</td>\n",
              "    </tr>\n",
              "    <tr>\n",
              "      <th>4</th>\n",
              "      <td>5768871.0</td>\n",
              "      <td>47</td>\n",
              "      <td>10</td>\n",
              "      <td>1</td>\n",
              "      <td>0</td>\n",
              "      <td>3</td>\n",
              "      <td>11</td>\n",
              "      <td>1</td>\n",
              "      <td>0</td>\n",
              "      <td>0</td>\n",
              "      <td>...</td>\n",
              "      <td>0</td>\n",
              "      <td>0</td>\n",
              "      <td>0</td>\n",
              "      <td>0</td>\n",
              "      <td>0</td>\n",
              "      <td>0</td>\n",
              "      <td>0</td>\n",
              "      <td>0</td>\n",
              "      <td>0</td>\n",
              "      <td>0</td>\n",
              "    </tr>\n",
              "  </tbody>\n",
              "</table>\n",
              "<p>5 rows × 408 columns</p>\n",
              "</div>"
            ],
            "text/plain": [
              "      income  age  experience  married  car_ownership  current_job_years  \\\n",
              "0  1303835.0   23           3        1              0                  3   \n",
              "1  7574516.0   40          10        1              0                  9   \n",
              "2  3991815.0   66           4        0              0                  4   \n",
              "3  6256451.0   41           2        1              0                  2   \n",
              "4  5768871.0   47          10        1              0                  3   \n",
              "\n",
              "   current_house_years  risk_flag  state_Andhra_Pradesh  state_Assam  ...  \\\n",
              "0                   13          0                     0            0  ...   \n",
              "1                   13          0                     0            0  ...   \n",
              "2                   10          0                     0            0  ...   \n",
              "3                   12          1                     0            0  ...   \n",
              "4                   11          1                     0            0  ...   \n",
              "\n",
              "   city_Unnao  city_Vadodara  city_Varanasi  city_Vasai-Virar  city_Vellore  \\\n",
              "0           0              0              0                 0             0   \n",
              "1           0              0              0                 0             0   \n",
              "2           0              0              0                 0             0   \n",
              "3           0              0              0                 0             0   \n",
              "4           0              0              0                 0             0   \n",
              "\n",
              "   city_Vijayanagaram  city_Vijayawada  city_Visakhapatnam  city_Warangal  \\\n",
              "0                   0                0                   0              0   \n",
              "1                   0                0                   0              0   \n",
              "2                   0                0                   0              0   \n",
              "3                   1                0                   0              0   \n",
              "4                   0                0                   0              0   \n",
              "\n",
              "   city_Yamunanagar  \n",
              "0                 0  \n",
              "1                 0  \n",
              "2                 0  \n",
              "3                 0  \n",
              "4                 0  \n",
              "\n",
              "[5 rows x 408 columns]"
            ]
          },
          "execution_count": 45,
          "metadata": {},
          "output_type": "execute_result"
        }
      ],
      "source": [
        "df_new = pd.read_csv(new_filename)\n",
        "df_new.head()"
      ]
    },
    {
      "cell_type": "markdown",
      "id": "a875e8b5",
      "metadata": {
        "id": "a875e8b5"
      },
      "source": [
        "Создадим функцию, объединяющую создание, предобработку и сохранение предобработанного датасета."
      ]
    },
    {
      "cell_type": "code",
      "execution_count": null,
      "id": "cf8781b5",
      "metadata": {
        "id": "cf8781b5"
      },
      "outputs": [],
      "source": [
        "def prepare_and_save(filename='data.csv', index_col=0, useless_cols=['Id'],\n",
        "              int_cols=['age', 'experience', 'current_job_years', 'current_house_years'],\n",
        "              float_cols=['income'], bin_cols = ['married', 'car_ownership', 'risk_flag'],\n",
        "             concat_cols=['city', 'state'], postfix='prepared', index=False):\n",
        "    df = full_prep(filename=filename, index_col=index_col, useless_cols=useless_cols,\n",
        "              int_cols=int_cols, float_cols=float_cols, bin_cols=bin_cols, concat_cols=concat_cols)\n",
        "    new_filename = add_postfix(filename=filename)\n",
        "    print('Save prepared dataset as {}'.format(new_filename))\n",
        "    df.to_csv(new_filename, index=False)\n",
        "    return df"
      ]
    },
    {
      "cell_type": "markdown",
      "id": "f683ccbe",
      "metadata": {
        "id": "f683ccbe"
      },
      "source": [
        "Выполняем предобработку датасета и сохраняем его."
      ]
    },
    {
      "cell_type": "code",
      "execution_count": null,
      "id": "4afc209d",
      "metadata": {
        "scrolled": false,
        "id": "4afc209d",
        "outputId": "b8cf3188-7b48-4713-f73a-766586bdf644"
      },
      "outputs": [
        {
          "name": "stdout",
          "output_type": "stream",
          "text": [
            "Get dataset by path: data.csv\n",
            "Drop columns: ['Id']\n",
            "No datetime columns\n",
            "Fill values:\n",
            "Find value at columns ['income'] with method mean\n",
            "fill col income with value 5001148.634896226\n",
            "\n",
            "Fill values:\n",
            "Find value at columns ['age', 'experience', 'current_job_years', 'current_house_years'] with method mean\n",
            "fill col age with value 49\n",
            "fill col experience with value 10\n",
            "fill col current_job_years with value 6\n",
            "fill col current_house_years with value 11\n",
            "\n",
            "Prepare binary columns: ['married', 'car_ownership', 'risk_flag']\n",
            "Fill values:\n",
            "fill col married with value single\n",
            "fill col car_ownership with value no\n",
            "fill col risk_flag with value 0\n",
            "\n",
            "Change values to binary at column married with values {'married': '0', 'single': '1'}\n",
            "Change values to binary at column car_ownership with values {'no': '0', 'yes': '1'}\n",
            "Change values to binary at column risk_flag with values {'0': '0', '1': '1'}\n",
            "\n",
            "Remove numeric postfix values at column ['city', 'state']\n",
            "Fill values:\n",
            "fill col city with value Vijayanagaram\n",
            "fill col state with value Uttar_Pradesh\n",
            "\n",
            "Prepare categorical columns: ['state', 'house_ownership', 'profession', 'city']\n",
            "Fill values:\n",
            "Find Undefined for columns: ['state', 'house_ownership', 'profession', 'city']\n",
            "fill col state with value Undefined\n",
            "fill col house_ownership with value Undefined\n",
            "fill col profession with value Undefined\n",
            "fill col city with value Undefined\n",
            "\n",
            "One-hot coding: shape before: (252000, 12), shape after (252000, 408)\n",
            "\n",
            "Save prepared dataset as data_prepared.csv\n"
          ]
        }
      ],
      "source": [
        "df_new = prepare_and_save()"
      ]
    },
    {
      "cell_type": "markdown",
      "id": "02327b59",
      "metadata": {
        "id": "02327b59"
      },
      "source": [
        "Проверяем, что не осталось неопределенных значений."
      ]
    },
    {
      "cell_type": "code",
      "execution_count": null,
      "id": "a1d8b216",
      "metadata": {
        "id": "a1d8b216",
        "outputId": "4d008bb2-353a-4fb1-b10f-647bcd47bb8d"
      },
      "outputs": [
        {
          "data": {
            "text/plain": [
              "0"
            ]
          },
          "execution_count": 48,
          "metadata": {},
          "output_type": "execute_result"
        }
      ],
      "source": [
        "df_new.isna().sum().sum()"
      ]
    },
    {
      "cell_type": "code",
      "execution_count": null,
      "id": "a5b9a221",
      "metadata": {
        "id": "a5b9a221",
        "outputId": "e044e684-19dc-41e2-a6ca-227db471291d"
      },
      "outputs": [
        {
          "data": {
            "text/html": [
              "<div>\n",
              "<style scoped>\n",
              "    .dataframe tbody tr th:only-of-type {\n",
              "        vertical-align: middle;\n",
              "    }\n",
              "\n",
              "    .dataframe tbody tr th {\n",
              "        vertical-align: top;\n",
              "    }\n",
              "\n",
              "    .dataframe thead th {\n",
              "        text-align: right;\n",
              "    }\n",
              "</style>\n",
              "<table border=\"1\" class=\"dataframe\">\n",
              "  <thead>\n",
              "    <tr style=\"text-align: right;\">\n",
              "      <th></th>\n",
              "      <th>income</th>\n",
              "      <th>age</th>\n",
              "      <th>experience</th>\n",
              "      <th>married</th>\n",
              "      <th>car_ownership</th>\n",
              "      <th>current_job_years</th>\n",
              "      <th>current_house_years</th>\n",
              "      <th>risk_flag</th>\n",
              "      <th>state_Andhra_Pradesh</th>\n",
              "      <th>state_Assam</th>\n",
              "      <th>...</th>\n",
              "      <th>city_Unnao</th>\n",
              "      <th>city_Vadodara</th>\n",
              "      <th>city_Varanasi</th>\n",
              "      <th>city_Vasai-Virar</th>\n",
              "      <th>city_Vellore</th>\n",
              "      <th>city_Vijayanagaram</th>\n",
              "      <th>city_Vijayawada</th>\n",
              "      <th>city_Visakhapatnam</th>\n",
              "      <th>city_Warangal</th>\n",
              "      <th>city_Yamunanagar</th>\n",
              "    </tr>\n",
              "  </thead>\n",
              "  <tbody>\n",
              "    <tr>\n",
              "      <th>0</th>\n",
              "      <td>1303835.0</td>\n",
              "      <td>23</td>\n",
              "      <td>3</td>\n",
              "      <td>1</td>\n",
              "      <td>0</td>\n",
              "      <td>3</td>\n",
              "      <td>13</td>\n",
              "      <td>0</td>\n",
              "      <td>0</td>\n",
              "      <td>0</td>\n",
              "      <td>...</td>\n",
              "      <td>0</td>\n",
              "      <td>0</td>\n",
              "      <td>0</td>\n",
              "      <td>0</td>\n",
              "      <td>0</td>\n",
              "      <td>0</td>\n",
              "      <td>0</td>\n",
              "      <td>0</td>\n",
              "      <td>0</td>\n",
              "      <td>0</td>\n",
              "    </tr>\n",
              "    <tr>\n",
              "      <th>1</th>\n",
              "      <td>7574516.0</td>\n",
              "      <td>40</td>\n",
              "      <td>10</td>\n",
              "      <td>1</td>\n",
              "      <td>0</td>\n",
              "      <td>9</td>\n",
              "      <td>13</td>\n",
              "      <td>0</td>\n",
              "      <td>0</td>\n",
              "      <td>0</td>\n",
              "      <td>...</td>\n",
              "      <td>0</td>\n",
              "      <td>0</td>\n",
              "      <td>0</td>\n",
              "      <td>0</td>\n",
              "      <td>0</td>\n",
              "      <td>0</td>\n",
              "      <td>0</td>\n",
              "      <td>0</td>\n",
              "      <td>0</td>\n",
              "      <td>0</td>\n",
              "    </tr>\n",
              "    <tr>\n",
              "      <th>2</th>\n",
              "      <td>3991815.0</td>\n",
              "      <td>66</td>\n",
              "      <td>4</td>\n",
              "      <td>0</td>\n",
              "      <td>0</td>\n",
              "      <td>4</td>\n",
              "      <td>10</td>\n",
              "      <td>0</td>\n",
              "      <td>0</td>\n",
              "      <td>0</td>\n",
              "      <td>...</td>\n",
              "      <td>0</td>\n",
              "      <td>0</td>\n",
              "      <td>0</td>\n",
              "      <td>0</td>\n",
              "      <td>0</td>\n",
              "      <td>0</td>\n",
              "      <td>0</td>\n",
              "      <td>0</td>\n",
              "      <td>0</td>\n",
              "      <td>0</td>\n",
              "    </tr>\n",
              "    <tr>\n",
              "      <th>3</th>\n",
              "      <td>6256451.0</td>\n",
              "      <td>41</td>\n",
              "      <td>2</td>\n",
              "      <td>1</td>\n",
              "      <td>0</td>\n",
              "      <td>2</td>\n",
              "      <td>12</td>\n",
              "      <td>1</td>\n",
              "      <td>0</td>\n",
              "      <td>0</td>\n",
              "      <td>...</td>\n",
              "      <td>0</td>\n",
              "      <td>0</td>\n",
              "      <td>0</td>\n",
              "      <td>0</td>\n",
              "      <td>0</td>\n",
              "      <td>1</td>\n",
              "      <td>0</td>\n",
              "      <td>0</td>\n",
              "      <td>0</td>\n",
              "      <td>0</td>\n",
              "    </tr>\n",
              "    <tr>\n",
              "      <th>4</th>\n",
              "      <td>5768871.0</td>\n",
              "      <td>47</td>\n",
              "      <td>10</td>\n",
              "      <td>1</td>\n",
              "      <td>0</td>\n",
              "      <td>3</td>\n",
              "      <td>11</td>\n",
              "      <td>1</td>\n",
              "      <td>0</td>\n",
              "      <td>0</td>\n",
              "      <td>...</td>\n",
              "      <td>0</td>\n",
              "      <td>0</td>\n",
              "      <td>0</td>\n",
              "      <td>0</td>\n",
              "      <td>0</td>\n",
              "      <td>0</td>\n",
              "      <td>0</td>\n",
              "      <td>0</td>\n",
              "      <td>0</td>\n",
              "      <td>0</td>\n",
              "    </tr>\n",
              "  </tbody>\n",
              "</table>\n",
              "<p>5 rows × 408 columns</p>\n",
              "</div>"
            ],
            "text/plain": [
              "      income  age  experience  married  car_ownership  current_job_years  \\\n",
              "0  1303835.0   23           3        1              0                  3   \n",
              "1  7574516.0   40          10        1              0                  9   \n",
              "2  3991815.0   66           4        0              0                  4   \n",
              "3  6256451.0   41           2        1              0                  2   \n",
              "4  5768871.0   47          10        1              0                  3   \n",
              "\n",
              "   current_house_years  risk_flag  state_Andhra_Pradesh  state_Assam  ...  \\\n",
              "0                   13          0                     0            0  ...   \n",
              "1                   13          0                     0            0  ...   \n",
              "2                   10          0                     0            0  ...   \n",
              "3                   12          1                     0            0  ...   \n",
              "4                   11          1                     0            0  ...   \n",
              "\n",
              "   city_Unnao  city_Vadodara  city_Varanasi  city_Vasai-Virar  city_Vellore  \\\n",
              "0           0              0              0                 0             0   \n",
              "1           0              0              0                 0             0   \n",
              "2           0              0              0                 0             0   \n",
              "3           0              0              0                 0             0   \n",
              "4           0              0              0                 0             0   \n",
              "\n",
              "   city_Vijayanagaram  city_Vijayawada  city_Visakhapatnam  city_Warangal  \\\n",
              "0                   0                0                   0              0   \n",
              "1                   0                0                   0              0   \n",
              "2                   0                0                   0              0   \n",
              "3                   1                0                   0              0   \n",
              "4                   0                0                   0              0   \n",
              "\n",
              "   city_Yamunanagar  \n",
              "0                 0  \n",
              "1                 0  \n",
              "2                 0  \n",
              "3                 0  \n",
              "4                 0  \n",
              "\n",
              "[5 rows x 408 columns]"
            ]
          },
          "execution_count": 49,
          "metadata": {},
          "output_type": "execute_result"
        }
      ],
      "source": [
        "df_new.head()"
      ]
    },
    {
      "cell_type": "markdown",
      "id": "2c2bf1cd",
      "metadata": {
        "id": "2c2bf1cd"
      },
      "source": [
        "Предобработка данных завершена."
      ]
    }
  ],
  "metadata": {
    "kernelspec": {
      "display_name": "Python 3",
      "language": "python",
      "name": "python3"
    },
    "language_info": {
      "codemirror_mode": {
        "name": "ipython",
        "version": 3
      },
      "file_extension": ".py",
      "mimetype": "text/x-python",
      "name": "python",
      "nbconvert_exporter": "python",
      "pygments_lexer": "ipython3",
      "version": "3.8.8"
    },
    "colab": {
      "provenance": []
    }
  },
  "nbformat": 4,
  "nbformat_minor": 5
}