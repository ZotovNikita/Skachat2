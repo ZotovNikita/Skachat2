{
  "cells": [
    {
      "cell_type": "code",
      "execution_count": null,
      "id": "b62bb5b9",
      "metadata": {
        "id": "b62bb5b9"
      },
      "outputs": [],
      "source": [
        "import pandas as pd\n",
        "import numpy as np\n",
        "import seaborn as sns\n",
        "import pickle"
      ]
    },
    {
      "cell_type": "code",
      "execution_count": null,
      "id": "15969401",
      "metadata": {
        "id": "15969401"
      },
      "outputs": [],
      "source": [
        "from matplotlib import pyplot as plt\n",
        "%matplotlib inline"
      ]
    },
    {
      "cell_type": "code",
      "execution_count": null,
      "id": "a5ccdc62",
      "metadata": {
        "id": "a5ccdc62"
      },
      "outputs": [],
      "source": [
        "from sklearn.preprocessing import StandardScaler\n",
        "from sklearn.linear_model import Lasso, LinearRegression, SGDClassifier\n",
        "from sklearn.model_selection import train_test_split, GridSearchCV\n",
        "from sklearn.metrics import confusion_matrix, classification_report\n",
        "from sklearn.tree import DecisionTreeClassifier\n",
        "from sklearn.neighbors import KNeighborsClassifier\n",
        "from sklearn.naive_bayes import GaussianNB\n",
        "from sklearn.ensemble import BaggingClassifier, RandomForestClassifier"
      ]
    },
    {
      "cell_type": "markdown",
      "id": "8ef98fb1",
      "metadata": {
        "id": "8ef98fb1"
      },
      "source": [
        "Загрузим данные."
      ]
    },
    {
      "cell_type": "code",
      "execution_count": null,
      "id": "4880a6aa",
      "metadata": {
        "id": "4880a6aa"
      },
      "outputs": [],
      "source": [
        "filename = 'data_prepared.csv'\n",
        "df = pd.read_csv(filename, sep=',')"
      ]
    },
    {
      "cell_type": "markdown",
      "id": "b9711d71",
      "metadata": {
        "id": "b9711d71"
      },
      "source": [
        "# Обучение моделей"
      ]
    },
    {
      "cell_type": "markdown",
      "id": "de22fcce",
      "metadata": {
        "id": "de22fcce"
      },
      "source": [
        "## Общие методы"
      ]
    },
    {
      "cell_type": "markdown",
      "id": "1f75f3d9",
      "metadata": {
        "id": "1f75f3d9"
      },
      "source": [
        "Метод draw_bar рисует распределение в зависимости от колонок. (Взято из 2 модуля)"
      ]
    },
    {
      "cell_type": "code",
      "execution_count": null,
      "id": "f4f3da3e",
      "metadata": {
        "id": "f4f3da3e"
      },
      "outputs": [],
      "source": [
        "def draw_bar(data, axes=None, **kwargs):\n",
        "    sns.barplot(x=data[0], y=data[1], ax=axes, **kwargs)"
      ]
    },
    {
      "cell_type": "markdown",
      "id": "ca70afd4",
      "metadata": {
        "id": "ca70afd4"
      },
      "source": [
        "Метод `print_metrics` выводит метрики для предсказанных значений"
      ]
    },
    {
      "cell_type": "markdown",
      "id": "0f83aeeb",
      "metadata": {
        "id": "0f83aeeb"
      },
      "source": [
        "- `classification_report` печатает отчет о метриках, в том числе ошибки 1 и 2 рода;\n",
        "- `confusion_matrix` показывает, сколько из объектов были отнесены к правильному классу, а сколько - нет."
      ]
    },
    {
      "cell_type": "code",
      "execution_count": null,
      "id": "51104c2b",
      "metadata": {
        "id": "51104c2b"
      },
      "outputs": [],
      "source": [
        "def print_metrics(y_true=None, y_pred=None):\n",
        "    if y_true is None or y_pred is None:\n",
        "        print('No data to print metrix')\n",
        "        return None, None\n",
        "    print('Classification report.')\n",
        "    cl_report = classification_report(y_true, y_pred, zero_division=0)\n",
        "    print(cl_report)\n",
        "    print('Confusion matrix.')\n",
        "    conf_matrix = confusion_matrix(y_true, y_pred)\n",
        "    print(conf_matrix)\n",
        "    return cl_report, conf_matrix"
      ]
    },
    {
      "cell_type": "markdown",
      "id": "cbce699a",
      "metadata": {
        "id": "cbce699a"
      },
      "source": [
        "Метод `fit_predict` обучает модель на размеченных данных и предсказывает метки для тестовой выборки. Особенности:\n",
        "1. Создает базовую модель `model` с параметрами `model_params`.\n",
        "1. Выполняет подбор гиперпараметров из дополнительных аргументов, переданных в функцию.\n",
        "1. Если не передан `X_test`, на выход вместо предсказанных значений подается `None`."
      ]
    },
    {
      "cell_type": "code",
      "execution_count": null,
      "id": "c369c8cf",
      "metadata": {
        "id": "c369c8cf"
      },
      "outputs": [],
      "source": [
        "def fit_predict(X_train=[], y_train=[], X_test=None, model=DecisionTreeClassifier, model_params={},\n",
        "                verbose=False, **params):\n",
        "    if verbose:\n",
        "        print('Обучаем {} модель.'.format(model))\n",
        "    base_est = model(**model_params)\n",
        "    est = GridSearchCV(base_est, params)\n",
        "    est.fit(X_train, y_train)\n",
        "    if verbose:\n",
        "        print('Получили лучшие параметры модели: {}.'.format(est.best_params_))\n",
        "    if X_test is None:\n",
        "        return est.best_model_, est.best_params_, None\n",
        "    y_pred = est.predict(X_test)\n",
        "    return est.best_estimator_, est.best_params_, y_pred"
      ]
    },
    {
      "cell_type": "markdown",
      "id": "100cbe52",
      "metadata": {
        "id": "100cbe52"
      },
      "source": [
        "Метод `fit_print` обучает модель на размеченных данных, предсказывает метки для тестовой выборки и печатает отчет. На выход - модель и параметры.\n",
        "\n",
        "Для задачи классификации умеет преобразовывать данные в бинарный вид $(- \\infty; + \\infty) \\rightarrow \\{0, 1\\}$. Разделителем является значение 0.5"
      ]
    },
    {
      "cell_type": "code",
      "execution_count": null,
      "id": "850dce22",
      "metadata": {
        "id": "850dce22"
      },
      "outputs": [],
      "source": [
        "def fit_train(X_train=[], y_train=[], X_test=None, y_test=None, model=DecisionTreeClassifier, model_params={},\n",
        "                verbose=False, is_classification=True, sep=0.5, **params):\n",
        "    estimator, params, y_pred = fit_predict(X_train=X_train, y_train=y_train, X_test=X_test,\n",
        "                                                            model=model, model_params=model_params,\n",
        "                                                            verbose=verbose, **params)\n",
        "    if is_classification:\n",
        "        y_pred = np.where(y_pred > sep, 1, 0)\n",
        "    print_metrics(y_true=y_test, y_pred=y_pred)\n",
        "    return estimator, params"
      ]
    },
    {
      "cell_type": "markdown",
      "id": "3056f82b",
      "metadata": {
        "id": "3056f82b"
      },
      "source": [
        "## Формироване признакового пространства"
      ]
    },
    {
      "cell_type": "markdown",
      "id": "faa8892f",
      "metadata": {
        "id": "faa8892f"
      },
      "source": [
        "Как уже было показано, некоторые признаки сильно влияют на целевую переменную `risk_flag`, а некоторые слабее. Выделим колонки, которые влияют сильнее всего. Их и оставим в качестве признаков. Весь код возьмем из модуля 2."
      ]
    },
    {
      "cell_type": "code",
      "execution_count": null,
      "id": "211fc2bc",
      "metadata": {
        "id": "211fc2bc",
        "outputId": "347b6b71-072b-41a9-edc3-0b74ca84b8c9"
      },
      "outputs": [
        {
          "data": {
            "text/plain": [
              "Lasso(alpha=0.001)"
            ]
          },
          "execution_count": 9,
          "metadata": {},
          "output_type": "execute_result"
        }
      ],
      "source": [
        "target = 'risk_flag'\n",
        "X = df.drop(target, axis=1)\n",
        "y = df[target]\n",
        "# 0.001 - лучшее значение alpha по предыдущему модулю\n",
        "model = Lasso(alpha=0.001)\n",
        "model.fit(X, y)"
      ]
    },
    {
      "cell_type": "code",
      "execution_count": null,
      "id": "978c9477",
      "metadata": {
        "id": "978c9477",
        "outputId": "996ef57f-0ea1-414f-f4ae-d89541a5b64e"
      },
      "outputs": [
        {
          "data": {
            "text/plain": [
              "10"
            ]
          },
          "execution_count": 10,
          "metadata": {},
          "output_type": "execute_result"
        }
      ],
      "source": [
        "eps = 1e-6\n",
        "num_meaningful_params = np.sum(np.where(np.abs(model.coef_) - eps > 0, 1, 0))\n",
        "num_meaningful_params"
      ]
    },
    {
      "cell_type": "code",
      "execution_count": null,
      "id": "f74fbf80",
      "metadata": {
        "id": "f74fbf80",
        "outputId": "9aeab65d-549d-4e78-f627-bfaabeda9192"
      },
      "outputs": [
        {
          "data": {
            "text/plain": [
              "Index(['age', 'experience', 'married', 'car_ownership', 'current_job_years',\n",
              "       'current_house_years', 'state_Kerala', 'state_Sikkim',\n",
              "       'house_ownership_norent_noown', 'house_ownership_owned'],\n",
              "      dtype='object')"
            ]
          },
          "execution_count": 11,
          "metadata": {},
          "output_type": "execute_result"
        }
      ],
      "source": [
        "best_columns=df.columns[np.where(np.abs(model.coef_) - eps > 0)]\n",
        "best_columns"
      ]
    },
    {
      "cell_type": "markdown",
      "id": "d44e35ea",
      "metadata": {
        "id": "d44e35ea"
      },
      "source": [
        "Вспомним зависимость признаков от целевой переменной."
      ]
    },
    {
      "cell_type": "markdown",
      "id": "18dd5c0b",
      "metadata": {
        "id": "18dd5c0b"
      },
      "source": [
        "По величине:"
      ]
    },
    {
      "cell_type": "code",
      "execution_count": null,
      "id": "69119ffe",
      "metadata": {
        "id": "69119ffe",
        "outputId": "5da47f24-2746-45a0-ac4e-e7e1193e8ca8"
      },
      "outputs": [
        {
          "data": {
            "image/png": "[encoded data removed]",
            "text/plain": [
              "<Figure size 1008x720 with 1 Axes>"
            ]
          },
          "metadata": {
            "needs_background": "light"
          },
          "output_type": "display_data"
        }
      ],
      "source": [
        "fig, axes = plt.subplots(figsize=(14, 1*num_meaningful_params))\n",
        "draw_bar([\n",
        "    model.coef_[np.where(np.abs(model.coef_) - eps > 0)],\n",
        "    best_columns], orient='h')"
      ]
    },
    {
      "cell_type": "markdown",
      "id": "0d0aee2d",
      "metadata": {
        "id": "0d0aee2d"
      },
      "source": [
        "По абсолютному значению:"
      ]
    },
    {
      "cell_type": "code",
      "execution_count": null,
      "id": "ec316301",
      "metadata": {
        "id": "ec316301",
        "outputId": "82b802cc-b5ab-472b-85cf-9ae052163352"
      },
      "outputs": [
        {
          "data": {
            "image/png": "[encoded data removed]",
            "text/plain": [
              "<Figure size 1008x720 with 1 Axes>"
            ]
          },
          "metadata": {
            "needs_background": "light"
          },
          "output_type": "display_data"
        }
      ],
      "source": [
        "fig, axes = plt.subplots(figsize=(14, 1*num_meaningful_params))\n",
        "draw_bar([\n",
        "    np.abs(model.coef_)[np.where(np.abs(model.coef_) - eps > 0)],\n",
        "    best_columns], orient='h')"
      ]
    },
    {
      "cell_type": "markdown",
      "id": "5e8a5734",
      "metadata": {
        "id": "5e8a5734"
      },
      "source": [
        "Наличие машины может негативно повлиять на риск выдачи, ибо у человека, владеющего машиной, в случае неуплаты можно ее конфисковать.\n",
        "\n",
        "Видим, что штат Kerala имеет очень большой риск выдачи, возможно, потому что этот штат неблагополучный. В противоположность ему штат Sikkim, по-видимому, является благополучным и риски уменьшаются.\n",
        "\n",
        "Чем больше у человека возраст, опыт, тем меньше риски - логично, что не отдавать кредит свойственно более молодому поколению."
      ]
    },
    {
      "cell_type": "markdown",
      "id": "aa8f4420",
      "metadata": {
        "id": "aa8f4420"
      },
      "source": [
        "Однако, доход также должен влиять на риски, хотя и, может быть, в меньшей степени и/или нелинейно. Поэтому к данным полям добавим колонку `income`"
      ]
    },
    {
      "cell_type": "code",
      "execution_count": null,
      "id": "fdb8b61c",
      "metadata": {
        "id": "fdb8b61c",
        "outputId": "ecf9053b-d43d-4c47-be44-7328d7a097e1"
      },
      "outputs": [
        {
          "data": {
            "text/plain": [
              "array(['age', 'experience', 'married', 'car_ownership',\n",
              "       'current_job_years', 'current_house_years', 'state_Kerala',\n",
              "       'state_Sikkim', 'house_ownership_norent_noown',\n",
              "       'house_ownership_owned', 'income'], dtype=object)"
            ]
          },
          "execution_count": 14,
          "metadata": {},
          "output_type": "execute_result"
        }
      ],
      "source": [
        "best_columns = np.append(best_columns, 'income')\n",
        "best_columns"
      ]
    },
    {
      "cell_type": "markdown",
      "id": "40078377",
      "metadata": {
        "id": "40078377"
      },
      "source": [
        "В связи с этим оставляем только эти признаки и целевую переменную."
      ]
    },
    {
      "cell_type": "markdown",
      "id": "c237bfb5",
      "metadata": {
        "id": "c237bfb5"
      },
      "source": [
        "## Разбиение данных на обучающую и тестовую выборку"
      ]
    },
    {
      "cell_type": "markdown",
      "id": "2f9bea20",
      "metadata": {
        "id": "2f9bea20"
      },
      "source": [
        "Будем дополнительно центрировать не бинарные значения."
      ]
    },
    {
      "cell_type": "code",
      "execution_count": null,
      "id": "dfb9415c",
      "metadata": {
        "id": "dfb9415c"
      },
      "outputs": [],
      "source": [
        "X = df[best_columns]\n",
        "y = df[target]"
      ]
    },
    {
      "cell_type": "markdown",
      "id": "e05ba6b9",
      "metadata": {
        "id": "e05ba6b9"
      },
      "source": [
        "Будем стандартизировать не-булевые значения"
      ]
    },
    {
      "cell_type": "code",
      "execution_count": null,
      "id": "ffb849da",
      "metadata": {
        "id": "ffb849da",
        "outputId": "cd38db5a-1502-4bac-a0ad-38c4e6d5714f"
      },
      "outputs": [
        {
          "data": {
            "text/plain": [
              "['house_ownership_owned',\n",
              " 'state_Kerala',\n",
              " 'house_ownership_norent_noown',\n",
              " 'car_ownership',\n",
              " 'state_Sikkim',\n",
              " 'married']"
            ]
          },
          "execution_count": 16,
          "metadata": {},
          "output_type": "execute_result"
        }
      ],
      "source": [
        "numeric_cols = ['age', 'experience', 'current_job_years', 'current_house_years', 'income']\n",
        "non_numeric = list(set(best_columns) - set(numeric_cols))\n",
        "non_numeric"
      ]
    },
    {
      "cell_type": "code",
      "execution_count": null,
      "id": "2955a9b8",
      "metadata": {
        "id": "2955a9b8",
        "outputId": "f966c209-260c-475a-f1be-d68292891d94"
      },
      "outputs": [
        {
          "data": {
            "text/plain": [
              "(252000, 11)"
            ]
          },
          "execution_count": 17,
          "metadata": {},
          "output_type": "execute_result"
        }
      ],
      "source": [
        "scaler = StandardScaler()\n",
        "X_num = scaler.fit_transform(X[numeric_cols])\n",
        "X_prep = np.hstack((X_num, X[non_numeric].values))\n",
        "X_prep.shape"
      ]
    },
    {
      "cell_type": "markdown",
      "id": "a19664d1",
      "metadata": {
        "id": "a19664d1"
      },
      "source": [
        "Разбиение на обучение и тест выполняем случайным образом. Мы не имеем каких-либо данных по дате обращения в компанию, поэтому имеет смысл подготовиться ко всем случаям и сделать разбиение случайно.\n",
        "\n",
        "В этом есть еще одно преимущество: во 2 модуле мы заметили дисбаланс классов, от которого мы можем избавиться, поставив `stratify=y` в разбиении на обучение и тест.\n",
        "\n",
        "Подумаем, сколько значений оставить на тест. Так как датасет достаточно большой (`252000` значений), имеет смысл сделать достаточно большую тестовую выборку, скажем, `25%`."
      ]
    },
    {
      "cell_type": "code",
      "execution_count": null,
      "id": "bae12340",
      "metadata": {
        "id": "bae12340"
      },
      "outputs": [],
      "source": [
        "X_train, X_test, y_train, y_test = train_test_split(X_prep, y, stratify=y, test_size=0.25)"
      ]
    },
    {
      "cell_type": "markdown",
      "id": "91c103f6",
      "metadata": {
        "id": "91c103f6"
      },
      "source": [
        "Объединим все это в одну функцию"
      ]
    },
    {
      "cell_type": "code",
      "execution_count": null,
      "id": "cb854c7a",
      "metadata": {
        "id": "cb854c7a"
      },
      "outputs": [],
      "source": [
        "def prepare_train_test(df, colums=['age', 'experience', 'married', 'car_ownership',\n",
        "       'current_job_years', 'current_house_years', 'state_Kerala',\n",
        "       'state_Sikkim', 'house_ownership_norent_noown',\n",
        "       'house_ownership_owned', 'income'],\n",
        "                       num_cols=['age', 'experience', 'current_job_years', 'current_house_years', 'income'], target='risk_flag'):\n",
        "    # get columns\n",
        "    X = df[best_columns]\n",
        "    y = df[target]\n",
        "    # Standartize features\n",
        "    scaler = StandardScaler()\n",
        "    X_num = scaler.fit_transform(X[numeric_cols])\n",
        "    X_prep = np.hstack((X_num, X[non_numeric].values))\n",
        "    # Split into train, test\n",
        "    X_train, X_test, y_train, y_test = train_test_split(X_prep, y, stratify=y, test_size=0.25)\n",
        "    return X_train, X_test, y_train, y_test"
      ]
    },
    {
      "cell_type": "code",
      "execution_count": null,
      "id": "f277d602",
      "metadata": {
        "id": "f277d602",
        "outputId": "e8e09648-161d-4e1f-872a-e4fc904bb002"
      },
      "outputs": [
        {
          "name": "stdout",
          "output_type": "stream",
          "text": [
            "23247 165753 (189000,)\n",
            "7749 55251 (63000,)\n"
          ]
        }
      ],
      "source": [
        "X_train, X_test, y_train, y_test = prepare_train_test(df)\n",
        "print(np.sum(y_train == 1), np.sum(y_train == 0), y_train.shape)\n",
        "print(np.sum(y_test == 1), np.sum(y_test == 0), y_test.shape)"
      ]
    },
    {
      "cell_type": "markdown",
      "id": "e455d4ac",
      "metadata": {
        "id": "e455d4ac"
      },
      "source": [
        "## Классификация"
      ]
    },
    {
      "cell_type": "markdown",
      "id": "607d03e9",
      "metadata": {
        "id": "607d03e9"
      },
      "source": [
        "Будем обучать следующие модели:\n",
        "- [DecisionTreeClassifier](https://scikit-learn.org/stable/modules/generated/sklearn.tree.DecisionTreeClassifier.html)\n",
        "- [LinearRegression](https://scikit-learn.org/stable/modules/generated/sklearn.linear_model.LinearRegression.html)\n",
        "- [Lasso](https://scikit-learn.org/stable/modules/generated/sklearn.linear_model.Lasso.html)\n",
        "- [SGDClassifier](https://scikit-learn.org/stable/modules/generated/sklearn.linear_model.SGDClassifier.html)\n",
        "- [KNeighborsClassifier](https://scikit-learn.org/stable/modules/generated/sklearn.neighbors.KNeighborsClassifier.html)\n",
        "- [GaussianNB](https://scikit-learn.org/stable/modules/generated/sklearn.naive_bayes.GaussianNB.html)\n",
        "- [BaggingClassifier](https://scikit-learn.org/stable/modules/generated/sklearn.ensemble.BaggingClassifier.html)\n",
        "- [RandomForestClassifier](https://scikit-learn.org/stable/modules/generated/sklearn.ensemble.RandomForestClassifier.html)\n",
        "\n",
        "Задача классификации - не просто обучить модели и вывести точность, но еще и сравнить их между собой и выбрать лучшую (или несколько лучших), сохранить их. Также необходимо провести подбор гиперпараметров с целью улучшения качества предсказания модели.\n",
        "\n",
        "Пройдемся по каждой из вышеперечисленных моделей, будем аргументировать выбор гиперпараметров для модели."
      ]
    },
    {
      "cell_type": "markdown",
      "id": "f99735ee",
      "metadata": {
        "id": "f99735ee"
      },
      "source": [
        "### [DecisionTreeClassifier](https://scikit-learn.org/stable/modules/generated/sklearn.tree.DecisionTreeClassifier.html)\n",
        "\n",
        "- `max_depth`: Не строим сильно глубокое дерево - на 12 признаках возможно переобучение.\n",
        "- `min_samples_leaf`: При малом числе признаков, в которых всего-то 5 числовых нет смысла делать в листе мало значений. Существует риск переобучения, если будем доходить до листа с 1 элементом."
      ]
    },
    {
      "cell_type": "code",
      "execution_count": null,
      "id": "37716c10",
      "metadata": {
        "id": "37716c10",
        "outputId": "c3f37136-fa56-4bff-ff09-4c89b0ffb51d"
      },
      "outputs": [
        {
          "name": "stdout",
          "output_type": "stream",
          "text": [
            "Обучаем <class 'sklearn.tree._classes.DecisionTreeClassifier'> модель.\n",
            "Получили лучшие параметры модели: {'max_depth': 32, 'min_samples_leaf': 13}.\n",
            "Classification report.\n",
            "              precision    recall  f1-score   support\n",
            "\n",
            "           0       0.91      0.97      0.94     55251\n",
            "           1       0.55      0.29      0.38      7749\n",
            "\n",
            "    accuracy                           0.88     63000\n",
            "   macro avg       0.73      0.63      0.66     63000\n",
            "weighted avg       0.86      0.88      0.87     63000\n",
            "\n",
            "Confusion matrix.\n",
            "[[53370  1881]\n",
            " [ 5483  2266]]\n"
          ]
        }
      ],
      "source": [
        "DTC, params_DTC = fit_train(X_train=X_train, y_train=y_train, X_test=X_test, y_test=y_test,\n",
        "                            model=DecisionTreeClassifier, verbose=True, max_depth=range(12, 37, 4),\n",
        "                           min_samples_leaf=range(1, 20, 3))"
      ]
    },
    {
      "cell_type": "markdown",
      "id": "957357e9",
      "metadata": {
        "id": "957357e9"
      },
      "source": [
        "Дерево решений отработало достаточно хорошо с точки зрения предсказания классов. Точность модели - `88%`. Однако всего `38%` объектов модель отнесла к классу 1."
      ]
    },
    {
      "cell_type": "markdown",
      "id": "896423f2",
      "metadata": {
        "id": "896423f2"
      },
      "source": [
        "### [LinearRegression](https://scikit-learn.org/stable/modules/generated/sklearn.linear_model.LinearRegression.html)\n",
        "Несмотря на то, что данная модель была создана для регрессии, она может достаточно хорошо предсказывать в задаче классификации.\n",
        "- Выполним нормализацию данных - модель хорошо работает с нормализованными данными"
      ]
    },
    {
      "cell_type": "code",
      "execution_count": null,
      "id": "50b4bd62",
      "metadata": {
        "id": "50b4bd62",
        "outputId": "d918e5b3-a263-4b3a-b516-b02a4a9a69bf"
      },
      "outputs": [
        {
          "name": "stdout",
          "output_type": "stream",
          "text": [
            "Обучаем <class 'sklearn.linear_model._base.LinearRegression'> модель.\n",
            "Получили лучшие параметры модели: {'positive': 'False'}.\n",
            "Classification report.\n",
            "              precision    recall  f1-score   support\n",
            "\n",
            "           0       0.88      1.00      0.93     55251\n",
            "           1       0.00      0.00      0.00      7749\n",
            "\n",
            "    accuracy                           0.88     63000\n",
            "   macro avg       0.44      0.50      0.47     63000\n",
            "weighted avg       0.77      0.88      0.82     63000\n",
            "\n",
            "Confusion matrix.\n",
            "[[55251     0]\n",
            " [ 7749     0]]\n"
          ]
        }
      ],
      "source": [
        "model_params = {\n",
        "    'normalize': True\n",
        "}\n",
        "LM, params_LM = fit_train(X_train=X_train, y_train=y_train, X_test=X_test, y_test=y_test,\n",
        "                            model=LinearRegression, verbose=True, model_params=model_params,\n",
        "                         positive=['False', 'True'])"
      ]
    },
    {
      "cell_type": "markdown",
      "id": "82008cba",
      "metadata": {
        "id": "82008cba"
      },
      "source": [
        "Данные распределены нелинейно - модель переобучилась (предсказывает один из классов - 1). Точность аналогичная дереву решений `88%`."
      ]
    },
    {
      "cell_type": "markdown",
      "id": "c566e63a",
      "metadata": {
        "id": "c566e63a"
      },
      "source": [
        "### [Lasso](https://scikit-learn.org/stable/modules/generated/sklearn.linear_model.Lasso.html)\n",
        "- `alpha` Для отбора параметров был выставлен 0.001, поэтому сейчас не имеет смысла делать такой же или ниже."
      ]
    },
    {
      "cell_type": "code",
      "execution_count": null,
      "id": "12386b8f",
      "metadata": {
        "id": "12386b8f",
        "outputId": "8d1bf5ef-548c-4f22-9c6a-7732e0a0914f"
      },
      "outputs": [
        {
          "name": "stdout",
          "output_type": "stream",
          "text": [
            "Обучаем <class 'sklearn.linear_model._coordinate_descent.Lasso'> модель.\n",
            "Получили лучшие параметры модели: {'alpha': 0.01, 'positive': False}.\n",
            "Classification report.\n",
            "              precision    recall  f1-score   support\n",
            "\n",
            "           0       0.88      1.00      0.93     55251\n",
            "           1       0.00      0.00      0.00      7749\n",
            "\n",
            "    accuracy                           0.88     63000\n",
            "   macro avg       0.44      0.50      0.47     63000\n",
            "weighted avg       0.77      0.88      0.82     63000\n",
            "\n",
            "Confusion matrix.\n",
            "[[55251     0]\n",
            " [ 7749     0]]\n"
          ]
        }
      ],
      "source": [
        "model_params = {\n",
        "    'normalize': True\n",
        "}\n",
        "Lasso, params_Lasso = fit_train(X_train=X_train, y_train=y_train, X_test=X_test, y_test=y_test,\n",
        "                            model=Lasso, verbose=True, model_params=model_params,\n",
        "                         alpha=[0.01, 0.1, 0.5, 1.0], positive=[False, True])"
      ]
    },
    {
      "cell_type": "markdown",
      "id": "ce59ab93",
      "metadata": {
        "id": "ce59ab93"
      },
      "source": [
        "Данные распределены нелинейно - модель переобучилась (предсказывает один из классов - 1). Точность аналогичная дереву решений 88%."
      ]
    },
    {
      "cell_type": "markdown",
      "id": "d464908a",
      "metadata": {
        "id": "d464908a"
      },
      "source": [
        "### [SGDClassifier](https://scikit-learn.org/stable/modules/generated/sklearn.linear_model.SGDClassifier.html)\n",
        " Мы уже пробовали регуляризацию L2, попробуем теперь регуляризацию L1."
      ]
    },
    {
      "cell_type": "code",
      "execution_count": null,
      "id": "eb37395b",
      "metadata": {
        "id": "eb37395b",
        "outputId": "0a78da45-6949-4c45-b30e-a251f426bc30"
      },
      "outputs": [
        {
          "name": "stdout",
          "output_type": "stream",
          "text": [
            "Обучаем <class 'sklearn.linear_model._stochastic_gradient.SGDClassifier'> модель.\n",
            "Получили лучшие параметры модели: {'alpha': 0.0001}.\n",
            "Classification report.\n",
            "              precision    recall  f1-score   support\n",
            "\n",
            "           0       0.88      1.00      0.93     55251\n",
            "           1       0.00      0.00      0.00      7749\n",
            "\n",
            "    accuracy                           0.88     63000\n",
            "   macro avg       0.44      0.50      0.47     63000\n",
            "weighted avg       0.77      0.88      0.82     63000\n",
            "\n",
            "Confusion matrix.\n",
            "[[55251     0]\n",
            " [ 7749     0]]\n"
          ]
        }
      ],
      "source": [
        "model_params = {\n",
        "    'penalty': 'l1',\n",
        "    'max_iter': 2000\n",
        "}\n",
        "SGD, params_SGD = fit_train(X_train=X_train, y_train=y_train, X_test=X_test, y_test=y_test,\n",
        "                            model=SGDClassifier, verbose=True, model_params=model_params,\n",
        "                         alpha=[0.0001, 0.001, 0.01])"
      ]
    },
    {
      "cell_type": "markdown",
      "id": "8371b5ee",
      "metadata": {
        "id": "8371b5ee"
      },
      "source": [
        "Модель переобучилась. Видимо, не следует использовать линейные модели для данной задачи."
      ]
    },
    {
      "cell_type": "markdown",
      "id": "8634dbe7",
      "metadata": {
        "id": "8634dbe7"
      },
      "source": [
        "### [KNeighborsClassifier](https://scikit-learn.org/stable/modules/generated/sklearn.neighbors.KNeighborsClassifier.html)\n",
        "\n",
        "Скорее всего данная модель не будет быстро обучаться. Причина в том, что модель высчиляет попарные расстояния между объектами.\n",
        "- `n_neighbors` данный параметр показывает количество соседей, по которым будет производиться вычисления. В нашем случае можно взять побольше соседей. (3, 5)"
      ]
    },
    {
      "cell_type": "code",
      "execution_count": null,
      "id": "d46bb96d",
      "metadata": {
        "id": "d46bb96d",
        "outputId": "dc9ed335-9ff2-46bd-fe48-a6cf2366b32a"
      },
      "outputs": [
        {
          "name": "stdout",
          "output_type": "stream",
          "text": [
            "Обучаем <class 'sklearn.neighbors._classification.KNeighborsClassifier'> модель.\n",
            "Получили лучшие параметры модели: {'n_neighbors': 5}.\n",
            "Classification report.\n",
            "              precision    recall  f1-score   support\n",
            "\n",
            "           0       0.91      0.96      0.93     55251\n",
            "           1       0.49      0.31      0.38      7749\n",
            "\n",
            "    accuracy                           0.88     63000\n",
            "   macro avg       0.70      0.63      0.66     63000\n",
            "weighted avg       0.86      0.88      0.86     63000\n",
            "\n",
            "Confusion matrix.\n",
            "[[52787  2464]\n",
            " [ 5361  2388]]\n"
          ]
        }
      ],
      "source": [
        "KNN, params_KNN = fit_train(X_train=X_train, y_train=y_train, X_test=X_test, y_test=y_test,\n",
        "                            model=KNeighborsClassifier, verbose=True, n_neighbors=[3, 5])"
      ]
    },
    {
      "cell_type": "markdown",
      "id": "7f7f4cea",
      "metadata": {
        "id": "7f7f4cea"
      },
      "source": [
        "Качество данной модели радует глаз. По сравнению с деревом решений, данная модель лучше предсказывает целевой признак. Однако, и ошибок данная модель совершает больше. Поэтому, если Вам важнее предсказать класс 0, берите `DecisionTreeClassifier`, а если класс 1 - тогда `KNeighborsClassifier`.\n",
        "\n",
        "Для данной задачи важнее предсказать класс 1 (есть риск), поэтому данная модель лучше дерева решений."
      ]
    },
    {
      "cell_type": "markdown",
      "id": "f70af487",
      "metadata": {
        "id": "f70af487"
      },
      "source": [
        "### [GaussianNB](https://scikit-learn.org/stable/modules/generated/sklearn.naive_bayes.GaussianNB.html)\n",
        "\n",
        "Данный классификатор основан на наивном распределении Гаусса, поэтому не требует никаких параметров."
      ]
    },
    {
      "cell_type": "code",
      "execution_count": null,
      "id": "c73c6e4d",
      "metadata": {
        "id": "c73c6e4d",
        "outputId": "49211012-a9fa-4482-fce7-1f155d43e9d9"
      },
      "outputs": [
        {
          "name": "stdout",
          "output_type": "stream",
          "text": [
            "Обучаем <class 'sklearn.naive_bayes.GaussianNB'> модель.\n",
            "Получили лучшие параметры модели: {}.\n",
            "Classification report.\n",
            "              precision    recall  f1-score   support\n",
            "\n",
            "           0       0.88      0.98      0.93     55251\n",
            "           1       0.16      0.03      0.05      7749\n",
            "\n",
            "    accuracy                           0.86     63000\n",
            "   macro avg       0.52      0.50      0.49     63000\n",
            "weighted avg       0.79      0.86      0.82     63000\n",
            "\n",
            "Confusion matrix.\n",
            "[[54213  1038]\n",
            " [ 7544   205]]\n"
          ]
        }
      ],
      "source": [
        "Gauss, params_Gauss = fit_train(X_train=X_train, y_train=y_train, X_test=X_test, y_test=y_test,\n",
        "                            model=GaussianNB, verbose=True)"
      ]
    },
    {
      "cell_type": "markdown",
      "id": "446775cd",
      "metadata": {
        "id": "446775cd"
      },
      "source": [
        "Как мы видим, полнота класса 0 `98%`, однако общая точность всего `86%`.\n",
        "\n",
        "Считаем, ч/то данная модель лучше линейных, но хуже дерева решений."
      ]
    },
    {
      "cell_type": "markdown",
      "id": "b112c65d",
      "metadata": {
        "id": "b112c65d"
      },
      "source": [
        "### [BaggingClassifier](https://scikit-learn.org/stable/modules/generated/sklearn.ensemble.BaggingClassifier.html)\n",
        "\n",
        "Принцип - обучение на поднаборах данных, затем классификаторы голосуют за лучший класс.\n",
        "\n",
        "- `n_estimators` - число голосующих моделей. Так как базовая модель - дерево решений, не имеет смысла ставить много моделей."
      ]
    },
    {
      "cell_type": "code",
      "execution_count": null,
      "id": "75215cb1",
      "metadata": {
        "id": "75215cb1",
        "outputId": "9d2a3efa-fcf2-4e81-a578-5f51ca520562"
      },
      "outputs": [
        {
          "name": "stdout",
          "output_type": "stream",
          "text": [
            "Обучаем <class 'sklearn.ensemble._bagging.BaggingClassifier'> модель.\n",
            "Получили лучшие параметры модели: {}.\n",
            "Classification report.\n",
            "              precision    recall  f1-score   support\n",
            "\n",
            "           0       0.92      0.95      0.94     55251\n",
            "           1       0.55      0.43      0.48      7749\n",
            "\n",
            "    accuracy                           0.89     63000\n",
            "   macro avg       0.73      0.69      0.71     63000\n",
            "weighted avg       0.88      0.89      0.88     63000\n",
            "\n",
            "Confusion matrix.\n",
            "[[52529  2722]\n",
            " [ 4452  3297]]\n"
          ]
        }
      ],
      "source": [
        "model_params = {\n",
        "    'n_estimators': 15\n",
        "}\n",
        "BC, params_BC = fit_train(X_train=X_train, y_train=y_train, X_test=X_test, y_test=y_test,\n",
        "                            model=BaggingClassifier, model_params=model_params, verbose=True)"
      ]
    },
    {
      "cell_type": "markdown",
      "id": "e5ce455c",
      "metadata": {
        "id": "e5ce455c"
      },
      "source": [
        "Как мы видим, по всем параметрам, кроме полноты и ошибок класса 0, данная модель лучше, чем `KNN` и `DecisionTreeClassifier`. Однако, мы договорились, что будем улучшать предсказания класса 1, поэтому эта модель - лучшая из вышерассмотренных\n",
        "\n",
        "Предсказывает класс 1 лучше, ошибается меньше."
      ]
    },
    {
      "cell_type": "markdown",
      "id": "271792de",
      "metadata": {
        "id": "271792de"
      },
      "source": [
        "### [RandomForestClassifier](https://scikit-learn.org/stable/modules/generated/sklearn.ensemble.RandomForestClassifier.html)\n",
        "\n",
        "- `n_estimators` - не нужно много деревьев ставить в этой задаче, модели достаточно некоторого количества, чтобы выбрать класс."
      ]
    },
    {
      "cell_type": "code",
      "execution_count": null,
      "id": "b12d9b44",
      "metadata": {
        "id": "b12d9b44",
        "outputId": "27079bb5-c7c5-4eb6-b258-afdcfdcde586"
      },
      "outputs": [
        {
          "name": "stdout",
          "output_type": "stream",
          "text": [
            "Обучаем <class 'sklearn.ensemble._forest.RandomForestClassifier'> модель.\n",
            "Получили лучшие параметры модели: {}.\n",
            "Classification report.\n",
            "              precision    recall  f1-score   support\n",
            "\n",
            "           0       0.92      0.95      0.94     55251\n",
            "           1       0.55      0.41      0.47      7749\n",
            "\n",
            "    accuracy                           0.89     63000\n",
            "   macro avg       0.74      0.68      0.70     63000\n",
            "weighted avg       0.87      0.89      0.88     63000\n",
            "\n",
            "Confusion matrix.\n",
            "[[52702  2549]\n",
            " [ 4593  3156]]\n"
          ]
        }
      ],
      "source": [
        "model_params = {\n",
        "    'n_estimators': 30\n",
        "}\n",
        "RFC, params_RFC = fit_train(X_train=X_train, y_train=y_train, X_test=X_test, y_test=y_test,\n",
        "                            model=RandomForestClassifier, model_params=model_params, verbose=True)"
      ]
    },
    {
      "cell_type": "markdown",
      "id": "491e402e",
      "metadata": {
        "id": "491e402e"
      },
      "source": [
        "Как мы видим, по всем параметрам, кроме полноты и ошибок класса 0, данная модель лучше, чем `KNN` и `DecisionTreeClassifier`. Однако, мы договорились, что будем улучшать предсказания класса 1, поэтому эта модель - одна из лучших из вышерассмотренных. Помимо этого, она немного хуже предсказывает по сравнению с `BaggingClassifier`.\n",
        "\n",
        "Предсказывает класс 1 лучше, ошибается меньше, чем `KNN`."
      ]
    },
    {
      "cell_type": "markdown",
      "id": "86593a7f",
      "metadata": {
        "id": "86593a7f"
      },
      "source": [
        "# Вывод"
      ]
    },
    {
      "cell_type": "markdown",
      "id": "da556ee3",
      "metadata": {
        "id": "da556ee3"
      },
      "source": [
        "На текущих данных можно сделать вывод, что некоторые модели (`BaggingClassifier`) обучаются хорошо, а некоторые (`LinearRegression`) - плохо.\n",
        "\n",
        "Составим список моделей в порядке убывания качества (сверху - лучшие):\n",
        "1. [BaggingClassifier](https://scikit-learn.org/stable/modules/generated/sklearn.ensemble.BaggingClassifier.html) - лучшая модель по многим параметрам\n",
        "1. [RandomForestClassifier](https://scikit-learn.org/stable/modules/generated/sklearn.ensemble.RandomForestClassifier.html) - немного уступает предыдущей модели, однако все еще лучшая\n",
        "1. [KNeighborsClassifier](https://scikit-learn.org/stable/modules/generated/sklearn.neighbors.KNeighborsClassifier.html) - неплохая точность\n",
        "1. [DecisionTreeClassifier](https://scikit-learn.org/stable/modules/generated/sklearn.tree.DecisionTreeClassifier.html) - неплохая точность\n",
        "1. [GaussianNB](https://scikit-learn.org/stable/modules/generated/sklearn.naive_bayes.GaussianNB.html) - модель предсказывает слабо\n",
        "1. [LinearRegression](https://scikit-learn.org/stable/modules/generated/sklearn.linear_model.LinearRegression.html) - модель переобучилась и предсказывает доминирующий класс\n",
        "1. [Lasso](https://scikit-learn.org/stable/modules/generated/sklearn.linear_model.Lasso.html) - модель переобучилась и предсказывает доминирующий класс\n",
        "1. [SGDClassifier](https://scikit-learn.org/stable/modules/generated/sklearn.linear_model.SGDClassifier.html)- модель переобучилась и предсказывает доминирующий класс\n",
        "\n",
        "Видим, что лучше всего отработали ансамбли, а хуже всего - линейные модели."
      ]
    },
    {
      "cell_type": "markdown",
      "id": "082d73dd",
      "metadata": {
        "id": "082d73dd"
      },
      "source": [
        "## Сериализация лучших моделей"
      ]
    },
    {
      "cell_type": "markdown",
      "id": "0bd32d1d",
      "metadata": {
        "id": "0bd32d1d"
      },
      "source": [
        "Проведем сериализацию четырех лучших моделей c помощью модуля `pickle`.\n",
        "\n",
        "Напишем метод, сериализующий модель в файл."
      ]
    },
    {
      "cell_type": "code",
      "execution_count": null,
      "id": "98f57e85",
      "metadata": {
        "id": "98f57e85"
      },
      "outputs": [],
      "source": [
        "def serialize_to_file(model, filename='0.dat'):\n",
        "    with open(filename, 'wb') as fin:\n",
        "        pickle.dump(model, fin)\n",
        "    return filename"
      ]
    },
    {
      "cell_type": "markdown",
      "id": "0cfffa9b",
      "metadata": {
        "id": "0cfffa9b"
      },
      "source": [
        "Напишем метод, десериализующий модель из файла."
      ]
    },
    {
      "cell_type": "code",
      "execution_count": null,
      "id": "103d53c1",
      "metadata": {
        "id": "103d53c1"
      },
      "outputs": [],
      "source": [
        "def deserialize_from_file(filename='0.dat'):\n",
        "    with open(filename, 'rb') as fout:\n",
        "        return pickle.load(fout)"
      ]
    },
    {
      "cell_type": "markdown",
      "id": "4def1d08",
      "metadata": {
        "id": "4def1d08"
      },
      "source": [
        "Проверим работу сериализации и десериализации на дереве решений."
      ]
    },
    {
      "cell_type": "code",
      "execution_count": null,
      "id": "4473b6b6",
      "metadata": {
        "id": "4473b6b6"
      },
      "outputs": [],
      "source": [
        "filename = serialize_to_file(DTC, filename='DTC.dat')"
      ]
    },
    {
      "cell_type": "code",
      "execution_count": null,
      "id": "ad9e8a62",
      "metadata": {
        "id": "ad9e8a62"
      },
      "outputs": [],
      "source": [
        "DTC_des = deserialize_from_file(filename=filename)"
      ]
    },
    {
      "cell_type": "markdown",
      "id": "fc39f397",
      "metadata": {
        "id": "fc39f397"
      },
      "source": [
        "Проверим идентичность предсказаний исходной и десериализованой модели."
      ]
    },
    {
      "cell_type": "code",
      "execution_count": null,
      "id": "d85ce7ef",
      "metadata": {
        "id": "d85ce7ef",
        "outputId": "c087d08b-ae89-438d-c6b4-a3b85be1f1ad"
      },
      "outputs": [
        {
          "name": "stdout",
          "output_type": "stream",
          "text": [
            "Classification report.\n",
            "              precision    recall  f1-score   support\n",
            "\n",
            "           0       0.91      0.97      0.94     55251\n",
            "           1       0.55      0.29      0.38      7749\n",
            "\n",
            "    accuracy                           0.88     63000\n",
            "   macro avg       0.73      0.63      0.66     63000\n",
            "weighted avg       0.86      0.88      0.87     63000\n",
            "\n",
            "Confusion matrix.\n",
            "[[53370  1881]\n",
            " [ 5483  2266]]\n",
            "Classification report.\n",
            "              precision    recall  f1-score   support\n",
            "\n",
            "           0       0.91      0.97      0.94     55251\n",
            "           1       0.55      0.29      0.38      7749\n",
            "\n",
            "    accuracy                           0.88     63000\n",
            "   macro avg       0.73      0.63      0.66     63000\n",
            "weighted avg       0.86      0.88      0.87     63000\n",
            "\n",
            "Confusion matrix.\n",
            "[[53370  1881]\n",
            " [ 5483  2266]]\n"
          ]
        },
        {
          "data": {
            "text/plain": [
              "array([[ True,  True],\n",
              "       [ True,  True]])"
            ]
          },
          "execution_count": 33,
          "metadata": {},
          "output_type": "execute_result"
        }
      ],
      "source": [
        "_, conf_matrix_DTC = print_metrics(y_true=y_test, y_pred=DTC.predict(X_test))\n",
        "_, conf_matrix_DTC_des = print_metrics(y_true=y_test, y_pred=DTC.predict(X_test))\n",
        "\n",
        "conf_matrix_DTC == conf_matrix_DTC_des"
      ]
    },
    {
      "cell_type": "markdown",
      "id": "30bc806a",
      "metadata": {
        "id": "30bc806a"
      },
      "source": [
        "Действительно, оригинальный объект и сериализованный идентичны - они одинаково предсказывают. Сериализуем модели:\n",
        "\n",
        "- [BaggingClassifier](https://scikit-learn.org/stable/modules/generated/sklearn.ensemble.BaggingClassifier.html) - файл `BC.dat`\n",
        "- [RandomForestClassifier](https://scikit-learn.org/stable/modules/generated/sklearn.ensemble.RandomForestClassifier.html) - файл `RFC.dat`\n",
        "- [KNeighborsClassifier](https://scikit-learn.org/stable/modules/generated/sklearn.neighbors.KNeighborsClassifier.html) - файл `KNN.dat`\n",
        "- [DecisionTreeClassifier](https://scikit-learn.org/stable/modules/generated/sklearn.tree.DecisionTreeClassifier.html) - файл `DTC.dat`"
      ]
    },
    {
      "cell_type": "code",
      "execution_count": null,
      "id": "6f682dd4",
      "metadata": {
        "id": "6f682dd4"
      },
      "outputs": [],
      "source": [
        "filenames = ['BC.dat', 'RFC.dat', 'KNN.dat', 'DTC.dat']\n",
        "models = [BC, RFC, KNN, DTC]\n",
        "\n",
        "for filename, model in zip(filenames, models):\n",
        "    serialize_to_file(model, filename=filename)"
      ]
    },
    {
      "cell_type": "markdown",
      "id": "c793a5d8",
      "metadata": {
        "id": "c793a5d8"
      },
      "source": [
        "Сериализация прошла успешно, модели сохранены в файлах."
      ]
    }
  ],
  "metadata": {
    "kernelspec": {
      "display_name": "Python 3",
      "language": "python",
      "name": "python3"
    },
    "language_info": {
      "codemirror_mode": {
        "name": "ipython",
        "version": 3
      },
      "file_extension": ".py",
      "mimetype": "text/x-python",
      "name": "python",
      "nbconvert_exporter": "python",
      "pygments_lexer": "ipython3",
      "version": "3.8.8"
    },
    "colab": {
      "provenance": []
    }
  },
  "nbformat": 4,
  "nbformat_minor": 5
}