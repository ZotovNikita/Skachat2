{
  "nbformat": 4,
  "nbformat_minor": 0,
  "metadata": {
    "colab": {
      "provenance": [],
      "collapsed_sections": [
        "sTa-qyX10lLq"
      ]
    },
    "kernelspec": {
      "name": "python3",
      "display_name": "Python 3"
    },
    "language_info": {
      "name": "python"
    }
  },
  "cells": [
    {
      "cell_type": "markdown",
      "source": [
        " # Пример предобработки данных на примере выбранного датасета"
      ],
      "metadata": {
        "id": "D1uBFZo-fvbw"
      }
    },
    {
      "cell_type": "markdown",
      "source": [
        "## [Cylinder Bands](https://archive.ics.uci.edu/ml/datasets/Cylinder+Bands)\n",
        "\n",
        "Датасет взят с сайта [UCI](https://archive.ics.uci.edu/ml/index.php). В случае отсутствия необходимых данных в выбранном датасете будет создан демонстративный датасет с необходимыми данными."
      ],
      "metadata": {
        "id": "G2wmcKkXf07b"
      }
    },
    {
      "cell_type": "markdown",
      "source": [
        "### Загрузка и анализ датасета"
      ],
      "metadata": {
        "id": "KVYpzzj7ifme"
      }
    },
    {
      "cell_type": "markdown",
      "source": [
        "#### Описание датасета\n",
        "\n",
        "1. timestamp: numeric;19500101 - 21001231\n",
        "2. cylinder number: nominal\n",
        "3. customer: nominal;\n",
        "4. job number: nominal;\n",
        "5. grain screened: nominal; yes, no\n",
        "6. ink color: nominal;  key, type\n",
        "7. proof on ctd ink:  nominal;  yes, no  \n",
        "8. blade mfg: nominal;  benton, daetwyler, uddeholm\n",
        "9. cylinder division: nominal;  gallatin, warsaw, mattoon\n",
        "10. paper type: nominal;  uncoated, coated, super\n",
        "11. ink type: nominal;  uncoated, coated, cover\n",
        "12. direct steam: nominal; use; yes, no *\n",
        "13. solvent type: nominal;  xylol, lactol, naptha, line, other\n",
        "14. type on cylinder:  nominal;  yes, no  \n",
        "15. press type: nominal; use; 70 wood hoe, 70 motter, 70 albert, 94 motter\n",
        "16. press: nominal;  821, 802, 813, 824, 815, 816, 827, 828\n",
        "17. unit number: nominal;  1, 2, 3, 4, 5, 6, 7, 8, 9, 10\n",
        "18. cylinder size: nominal;  catalog, spiegel, tabloid\n",
        "19. paper mill location: nominal; north us, south us, canadian, scandanavian, mid european\n",
        "20. plating tank: nominal; 1910, 1911, other\n",
        "21. proof cut: numeric;  0-100\n",
        "22. viscosity: numeric;  0-100\n",
        "23. caliper: numeric;  0-1.0\n",
        "24. ink temperature: numeric;  5-30\n",
        "25. humifity: numeric;  5-120\n",
        "26. roughness: numeric;  0-2\n",
        "27. blade pressure: numeric;  10-75\n",
        "28. varnish pct: numeric;  0-100\n",
        "29. press speed: numeric;  0-4000\n",
        "30. ink pct: numeric;  0-100\n",
        "31. solvent pct: numeric;  0-100\n",
        "32. ESA Voltage: numeric;  0-16\n",
        "33. ESA Amperage: numeric;  0-10\n",
        "34. wax: numeric ;  0-4.0\n",
        "35. hardener:  numeric; 0-3.0\n",
        "36. roller durometer:  numeric;  15-120\n",
        "37. current density:  numeric;  20-50\n",
        "38. anode space ratio:  numeric;  70-130\n",
        "39. chrome content: numeric; 80-120\n",
        "40. band type: nominal; class; band, no band *"
      ],
      "metadata": {
        "id": "GulBnN3WiB8J"
      }
    },
    {
      "cell_type": "markdown",
      "source": [
        "Загрузим датасет в переменную `df`"
      ],
      "metadata": {
        "id": "mrZEnbnaitWG"
      }
    },
    {
      "cell_type": "code",
      "source": [
        "import pandas as pd\n",
        "import numpy as np\n",
        "import seaborn as sns\n",
        "import matplotlib.pyplot as plt"
      ],
      "metadata": {
        "id": "RcSy-Iu6i0ji"
      },
      "execution_count": null,
      "outputs": []
    },
    {
      "cell_type": "code",
      "source": [
        "%matplotlib inline"
      ],
      "metadata": {
        "id": "HgnT6fM50CMi"
      },
      "execution_count": null,
      "outputs": []
    },
    {
      "cell_type": "code",
      "source": [
        "head = [\"timestamp\",\n",
        "\"cylinder\",\n",
        "\"customer\",\n",
        "\"job_number\",\n",
        "\"grain_screened\",\n",
        "\"ink_color\",\n",
        "\"proof_on_ctd_ink\",\n",
        "\"blade_mfg\",\n",
        "\"cylinder_division\",\n",
        "\"paper_type\",\n",
        "\"ink_type\",\n",
        "\"direct_steam\",\n",
        "\"solvent_type\",\n",
        "\"type_on_cylinder\",\n",
        "\"press_type\",\n",
        "\"press\",\n",
        "\"unit_number\",\n",
        "\"cylinder_size\",\n",
        "\"paper_mill_location\",\n",
        "\"plating_tank\",\n",
        "\"proof_cut\",\n",
        "\"viscosity\",\n",
        "\"caliper\",\n",
        "\"ink_temperature\",\n",
        "\"humifity\",\n",
        "\"roughness\",\n",
        "\"blade_pressure\",\n",
        "\"varnish_pct\",\n",
        "\"press_speed\",\n",
        "\"ink_pct\",\n",
        "\"solvent_pct\",\n",
        "\"ESA_Voltage\",\n",
        "\"ESA_Amperage\",\n",
        "\"wax\",\n",
        "\"hardener\",\n",
        "\"roller_durometer\",\n",
        "\"current_density\",\n",
        "\"anode_space_ratio\",\n",
        "\"chrome_content\",\n",
        "\"band_type\"]"
      ],
      "metadata": {
        "id": "5EXa_gxBnvlK"
      },
      "execution_count": null,
      "outputs": []
    },
    {
      "cell_type": "markdown",
      "source": [
        "Обратите внимание, что неизвестные значения помечены в датасете символом `?`, укажем это в параметре `na_values`.\n",
        "\n",
        "Также не забываем про разделитель, кодировку и строку заголовков (в данном случае ее нет)."
      ],
      "metadata": {
        "id": "37jUOzyXqKzd"
      }
    },
    {
      "cell_type": "code",
      "execution_count": null,
      "metadata": {
        "id": "pOQJOofDfn-q"
      },
      "outputs": [],
      "source": [
        "df = pd.read_csv(\"https://archive.ics.uci.edu/ml/machine-learning-databases/cylinder-bands/bands.data\", sep=\",\", na_values=\"?\", encoding=\"cp866\", header=None)"
      ]
    },
    {
      "cell_type": "code",
      "source": [
        "df.columns = head"
      ],
      "metadata": {
        "id": "n4BJrdbVpq0G"
      },
      "execution_count": null,
      "outputs": []
    },
    {
      "cell_type": "markdown",
      "source": [
        "Не забывайте, что загружать датасеты можно из Google Drive"
      ],
      "metadata": {
        "id": "gcZLTxHXJBkI"
      }
    },
    {
      "cell_type": "code",
      "source": [
        "from google.colab import drive\n",
        "# путь к корню Google Диска будет '/content/drive/MyDrive'\n",
        "drive.mount('/content/drive')"
      ],
      "metadata": {
        "colab": {
          "base_uri": "https://localhost:8080/"
        },
        "id": "1zPw2wbsJLEQ",
        "outputId": "615b3f5a-835e-43a8-891e-0d3e74d6969a"
      },
      "execution_count": null,
      "outputs": [
        {
          "output_type": "stream",
          "name": "stdout",
          "text": [
            "Mounted at /content/drive\n"
          ]
        }
      ]
    },
    {
      "cell_type": "markdown",
      "source": [
        "Загружаем датасет из папки datasets на Google Drive"
      ],
      "metadata": {
        "id": "J91245ZkJfhB"
      }
    },
    {
      "cell_type": "code",
      "source": [
        "df = pd.read_csv(\"/content/drive/MyDrive/datasets/bands.data\", sep=\",\", na_values=\"?\", encoding=\"cp866\", header=None)"
      ],
      "metadata": {
        "id": "5pe0eoKOJQ_I"
      },
      "execution_count": null,
      "outputs": []
    },
    {
      "cell_type": "code",
      "source": [
        "df.columns = head"
      ],
      "metadata": {
        "id": "cPSaa1XUJaU4"
      },
      "execution_count": null,
      "outputs": []
    },
    {
      "cell_type": "markdown",
      "source": [
        "#### Анализ датасета"
      ],
      "metadata": {
        "id": "kMr1z7CBwXkM"
      }
    },
    {
      "cell_type": "markdown",
      "source": [
        "Посмотрим информацию о датасете"
      ],
      "metadata": {
        "id": "6Xqe2nEcmoOG"
      }
    },
    {
      "cell_type": "code",
      "source": [
        "df.info()"
      ],
      "metadata": {
        "id": "oTK9LDryltG_",
        "colab": {
          "base_uri": "https://localhost:8080/"
        },
        "outputId": "b36b3158-ddd5-4397-ba9f-498440f02d04"
      },
      "execution_count": null,
      "outputs": [
        {
          "output_type": "stream",
          "name": "stdout",
          "text": [
            "<class 'pandas.core.frame.DataFrame'>\n",
            "RangeIndex: 541 entries, 0 to 540\n",
            "Data columns (total 40 columns):\n",
            " #   Column               Non-Null Count  Dtype  \n",
            "---  ------               --------------  -----  \n",
            " 0   timestamp            541 non-null    object \n",
            " 1   cylinder             540 non-null    object \n",
            " 2   customer             541 non-null    object \n",
            " 3   job_number           540 non-null    float64\n",
            " 4   grain_screened       492 non-null    object \n",
            " 5   ink_color            541 non-null    object \n",
            " 6   proof_on_ctd_ink     484 non-null    object \n",
            " 7   blade_mfg            481 non-null    object \n",
            " 8   cylinder_division    541 non-null    object \n",
            " 9   paper_type           541 non-null    object \n",
            " 10  ink_type             540 non-null    object \n",
            " 11  direct_steam         516 non-null    object \n",
            " 12  solvent_type         485 non-null    object \n",
            " 13  type_on_cylinder     522 non-null    object \n",
            " 14  press_type           540 non-null    object \n",
            " 15  press                540 non-null    float64\n",
            " 16  unit_number          541 non-null    float64\n",
            " 17  cylinder_size        537 non-null    object \n",
            " 18  paper_mill_location  384 non-null    object \n",
            " 19  plating_tank         522 non-null    float64\n",
            " 20  proof_cut            486 non-null    float64\n",
            " 21  viscosity            535 non-null    float64\n",
            " 22  caliper              513 non-null    object \n",
            " 23  ink_temperature      537 non-null    float64\n",
            " 24  humifity             538 non-null    float64\n",
            " 25  roughness            509 non-null    float64\n",
            " 26  blade_pressure       476 non-null    float64\n",
            " 27  varnish_pct          484 non-null    float64\n",
            " 28  press_speed          529 non-null    float64\n",
            " 29  ink_pct              484 non-null    float64\n",
            " 30  solvent_pct          484 non-null    float64\n",
            " 31  ESA_Voltage          483 non-null    float64\n",
            " 32  ESA_Amperage         485 non-null    float64\n",
            " 33  wax                  533 non-null    float64\n",
            " 34  hardener             532 non-null    float64\n",
            " 35  roller_durometer     485 non-null    float64\n",
            " 36  current_density      532 non-null    float64\n",
            " 37  anode_space_ratio    532 non-null    float64\n",
            " 38  chrome_content       536 non-null    float64\n",
            " 39  band_type            539 non-null    object \n",
            "dtypes: float64(22), object(18)\n",
            "memory usage: 169.2+ KB\n"
          ]
        }
      ]
    },
    {
      "cell_type": "markdown",
      "source": [
        "Построим описательную статистику датасета"
      ],
      "metadata": {
        "id": "2gFal5u1eOA2"
      }
    },
    {
      "cell_type": "code",
      "source": [
        "df.describe()"
      ],
      "metadata": {
        "colab": {
          "base_uri": "https://localhost:8080/",
          "height": 393
        },
        "id": "4kjuCdxOeRqu",
        "outputId": "e010e902-2e97-417d-e10c-41c598572db0"
      },
      "execution_count": null,
      "outputs": [
        {
          "output_type": "execute_result",
          "data": {
            "text/plain": [
              "         job_number       press  unit_number  plating_tank   proof_cut  \\\n",
              "count    540.000000  540.000000   541.000000    522.000000  486.000000   \n",
              "mean   37287.531481  817.675926     4.871534   1906.781609   45.167901   \n",
              "std     8728.998307    7.444076     3.251017     81.865053    9.490620   \n",
              "min    23040.000000  802.000000     1.000000     40.000000   25.000000   \n",
              "25%    34585.000000  815.000000     2.000000   1910.000000   40.000000   \n",
              "50%    36062.500000  816.000000     2.000000   1910.000000   45.000000   \n",
              "75%    37527.500000  824.000000     9.000000   1911.000000   50.000000   \n",
              "max    88231.000000  828.000000    10.000000   1911.000000  109.100000   \n",
              "\n",
              "        viscosity  ink_temperature    humifity   roughness  blade_pressure  \\\n",
              "count  535.000000       537.000000  538.000000  509.000000      476.000000   \n",
              "mean    51.031776        15.359795   78.539033    0.724333       30.907563   \n",
              "std      8.273470         1.277993    7.734621    0.193505        9.123473   \n",
              "min     35.000000        11.200000   57.000000    0.056250       16.000000   \n",
              "25%     43.000000        14.600000   73.000000    0.625000       25.000000   \n",
              "50%     50.000000        15.200000   78.000000    0.750000       30.000000   \n",
              "75%     56.000000        16.000000   82.000000    0.812500       33.000000   \n",
              "max     95.000000        24.500000  105.000000    1.250000       70.000000   \n",
              "\n",
              "       ...     ink_pct  solvent_pct  ESA_Voltage  ESA_Amperage         wax  \\\n",
              "count  ...  484.000000   484.000000   483.000000    485.000000  533.000000   \n",
              "mean   ...   55.638533    38.567645     1.319358      0.038144    2.400938   \n",
              "std    ...    5.561410     3.501431     2.462605      0.415466    0.545547   \n",
              "min    ...   41.000000    22.000000     0.000000      0.000000    0.000000   \n",
              "25%    ...   52.100000    36.800000     0.000000      0.000000    2.400000   \n",
              "50%    ...   56.750000    38.500000     0.000000      0.000000    2.500000   \n",
              "75%    ...   58.800000    41.200000     2.000000      0.000000    2.600000   \n",
              "max    ...   76.900000    53.400000    16.000000      6.000000    3.100000   \n",
              "\n",
              "         hardener  roller_durometer  current_density  anode_space_ratio  \\\n",
              "count  532.000000        485.000000       532.000000         532.000000   \n",
              "mean     0.987594         34.775258        39.056391         103.032791   \n",
              "std      0.367956          4.505736         2.353148           5.008949   \n",
              "min      0.000000         28.000000        30.000000          83.330000   \n",
              "25%      0.800000         30.000000        40.000000         100.000000   \n",
              "50%      1.000000         34.000000        40.000000         103.127500   \n",
              "75%      1.000000         40.000000        40.000000         106.450000   \n",
              "max      3.000000         60.000000        45.000000         117.860000   \n",
              "\n",
              "       chrome_content  \n",
              "count      536.000000  \n",
              "mean        99.598881  \n",
              "std          1.853897  \n",
              "min         90.000000  \n",
              "25%        100.000000  \n",
              "50%        100.000000  \n",
              "75%        100.000000  \n",
              "max        100.000000  \n",
              "\n",
              "[8 rows x 22 columns]"
            ],
            "text/html": [
              "\n",
              "  <div id=\"df-9bb6a943-4223-4882-831d-acc29bcdf0ba\">\n",
              "    <div class=\"colab-df-container\">\n",
              "      <div>\n",
              "<style scoped>\n",
              "    .dataframe tbody tr th:only-of-type {\n",
              "        vertical-align: middle;\n",
              "    }\n",
              "\n",
              "    .dataframe tbody tr th {\n",
              "        vertical-align: top;\n",
              "    }\n",
              "\n",
              "    .dataframe thead th {\n",
              "        text-align: right;\n",
              "    }\n",
              "</style>\n",
              "<table border=\"1\" class=\"dataframe\">\n",
              "  <thead>\n",
              "    <tr style=\"text-align: right;\">\n",
              "      <th></th>\n",
              "      <th>job_number</th>\n",
              "      <th>press</th>\n",
              "      <th>unit_number</th>\n",
              "      <th>plating_tank</th>\n",
              "      <th>proof_cut</th>\n",
              "      <th>viscosity</th>\n",
              "      <th>ink_temperature</th>\n",
              "      <th>humifity</th>\n",
              "      <th>roughness</th>\n",
              "      <th>blade_pressure</th>\n",
              "      <th>...</th>\n",
              "      <th>ink_pct</th>\n",
              "      <th>solvent_pct</th>\n",
              "      <th>ESA_Voltage</th>\n",
              "      <th>ESA_Amperage</th>\n",
              "      <th>wax</th>\n",
              "      <th>hardener</th>\n",
              "      <th>roller_durometer</th>\n",
              "      <th>current_density</th>\n",
              "      <th>anode_space_ratio</th>\n",
              "      <th>chrome_content</th>\n",
              "    </tr>\n",
              "  </thead>\n",
              "  <tbody>\n",
              "    <tr>\n",
              "      <th>count</th>\n",
              "      <td>540.000000</td>\n",
              "      <td>540.000000</td>\n",
              "      <td>541.000000</td>\n",
              "      <td>522.000000</td>\n",
              "      <td>486.000000</td>\n",
              "      <td>535.000000</td>\n",
              "      <td>537.000000</td>\n",
              "      <td>538.000000</td>\n",
              "      <td>509.000000</td>\n",
              "      <td>476.000000</td>\n",
              "      <td>...</td>\n",
              "      <td>484.000000</td>\n",
              "      <td>484.000000</td>\n",
              "      <td>483.000000</td>\n",
              "      <td>485.000000</td>\n",
              "      <td>533.000000</td>\n",
              "      <td>532.000000</td>\n",
              "      <td>485.000000</td>\n",
              "      <td>532.000000</td>\n",
              "      <td>532.000000</td>\n",
              "      <td>536.000000</td>\n",
              "    </tr>\n",
              "    <tr>\n",
              "      <th>mean</th>\n",
              "      <td>37287.531481</td>\n",
              "      <td>817.675926</td>\n",
              "      <td>4.871534</td>\n",
              "      <td>1906.781609</td>\n",
              "      <td>45.167901</td>\n",
              "      <td>51.031776</td>\n",
              "      <td>15.359795</td>\n",
              "      <td>78.539033</td>\n",
              "      <td>0.724333</td>\n",
              "      <td>30.907563</td>\n",
              "      <td>...</td>\n",
              "      <td>55.638533</td>\n",
              "      <td>38.567645</td>\n",
              "      <td>1.319358</td>\n",
              "      <td>0.038144</td>\n",
              "      <td>2.400938</td>\n",
              "      <td>0.987594</td>\n",
              "      <td>34.775258</td>\n",
              "      <td>39.056391</td>\n",
              "      <td>103.032791</td>\n",
              "      <td>99.598881</td>\n",
              "    </tr>\n",
              "    <tr>\n",
              "      <th>std</th>\n",
              "      <td>8728.998307</td>\n",
              "      <td>7.444076</td>\n",
              "      <td>3.251017</td>\n",
              "      <td>81.865053</td>\n",
              "      <td>9.490620</td>\n",
              "      <td>8.273470</td>\n",
              "      <td>1.277993</td>\n",
              "      <td>7.734621</td>\n",
              "      <td>0.193505</td>\n",
              "      <td>9.123473</td>\n",
              "      <td>...</td>\n",
              "      <td>5.561410</td>\n",
              "      <td>3.501431</td>\n",
              "      <td>2.462605</td>\n",
              "      <td>0.415466</td>\n",
              "      <td>0.545547</td>\n",
              "      <td>0.367956</td>\n",
              "      <td>4.505736</td>\n",
              "      <td>2.353148</td>\n",
              "      <td>5.008949</td>\n",
              "      <td>1.853897</td>\n",
              "    </tr>\n",
              "    <tr>\n",
              "      <th>min</th>\n",
              "      <td>23040.000000</td>\n",
              "      <td>802.000000</td>\n",
              "      <td>1.000000</td>\n",
              "      <td>40.000000</td>\n",
              "      <td>25.000000</td>\n",
              "      <td>35.000000</td>\n",
              "      <td>11.200000</td>\n",
              "      <td>57.000000</td>\n",
              "      <td>0.056250</td>\n",
              "      <td>16.000000</td>\n",
              "      <td>...</td>\n",
              "      <td>41.000000</td>\n",
              "      <td>22.000000</td>\n",
              "      <td>0.000000</td>\n",
              "      <td>0.000000</td>\n",
              "      <td>0.000000</td>\n",
              "      <td>0.000000</td>\n",
              "      <td>28.000000</td>\n",
              "      <td>30.000000</td>\n",
              "      <td>83.330000</td>\n",
              "      <td>90.000000</td>\n",
              "    </tr>\n",
              "    <tr>\n",
              "      <th>25%</th>\n",
              "      <td>34585.000000</td>\n",
              "      <td>815.000000</td>\n",
              "      <td>2.000000</td>\n",
              "      <td>1910.000000</td>\n",
              "      <td>40.000000</td>\n",
              "      <td>43.000000</td>\n",
              "      <td>14.600000</td>\n",
              "      <td>73.000000</td>\n",
              "      <td>0.625000</td>\n",
              "      <td>25.000000</td>\n",
              "      <td>...</td>\n",
              "      <td>52.100000</td>\n",
              "      <td>36.800000</td>\n",
              "      <td>0.000000</td>\n",
              "      <td>0.000000</td>\n",
              "      <td>2.400000</td>\n",
              "      <td>0.800000</td>\n",
              "      <td>30.000000</td>\n",
              "      <td>40.000000</td>\n",
              "      <td>100.000000</td>\n",
              "      <td>100.000000</td>\n",
              "    </tr>\n",
              "    <tr>\n",
              "      <th>50%</th>\n",
              "      <td>36062.500000</td>\n",
              "      <td>816.000000</td>\n",
              "      <td>2.000000</td>\n",
              "      <td>1910.000000</td>\n",
              "      <td>45.000000</td>\n",
              "      <td>50.000000</td>\n",
              "      <td>15.200000</td>\n",
              "      <td>78.000000</td>\n",
              "      <td>0.750000</td>\n",
              "      <td>30.000000</td>\n",
              "      <td>...</td>\n",
              "      <td>56.750000</td>\n",
              "      <td>38.500000</td>\n",
              "      <td>0.000000</td>\n",
              "      <td>0.000000</td>\n",
              "      <td>2.500000</td>\n",
              "      <td>1.000000</td>\n",
              "      <td>34.000000</td>\n",
              "      <td>40.000000</td>\n",
              "      <td>103.127500</td>\n",
              "      <td>100.000000</td>\n",
              "    </tr>\n",
              "    <tr>\n",
              "      <th>75%</th>\n",
              "      <td>37527.500000</td>\n",
              "      <td>824.000000</td>\n",
              "      <td>9.000000</td>\n",
              "      <td>1911.000000</td>\n",
              "      <td>50.000000</td>\n",
              "      <td>56.000000</td>\n",
              "      <td>16.000000</td>\n",
              "      <td>82.000000</td>\n",
              "      <td>0.812500</td>\n",
              "      <td>33.000000</td>\n",
              "      <td>...</td>\n",
              "      <td>58.800000</td>\n",
              "      <td>41.200000</td>\n",
              "      <td>2.000000</td>\n",
              "      <td>0.000000</td>\n",
              "      <td>2.600000</td>\n",
              "      <td>1.000000</td>\n",
              "      <td>40.000000</td>\n",
              "      <td>40.000000</td>\n",
              "      <td>106.450000</td>\n",
              "      <td>100.000000</td>\n",
              "    </tr>\n",
              "    <tr>\n",
              "      <th>max</th>\n",
              "      <td>88231.000000</td>\n",
              "      <td>828.000000</td>\n",
              "      <td>10.000000</td>\n",
              "      <td>1911.000000</td>\n",
              "      <td>109.100000</td>\n",
              "      <td>95.000000</td>\n",
              "      <td>24.500000</td>\n",
              "      <td>105.000000</td>\n",
              "      <td>1.250000</td>\n",
              "      <td>70.000000</td>\n",
              "      <td>...</td>\n",
              "      <td>76.900000</td>\n",
              "      <td>53.400000</td>\n",
              "      <td>16.000000</td>\n",
              "      <td>6.000000</td>\n",
              "      <td>3.100000</td>\n",
              "      <td>3.000000</td>\n",
              "      <td>60.000000</td>\n",
              "      <td>45.000000</td>\n",
              "      <td>117.860000</td>\n",
              "      <td>100.000000</td>\n",
              "    </tr>\n",
              "  </tbody>\n",
              "</table>\n",
              "<p>8 rows × 22 columns</p>\n",
              "</div>\n",
              "      <button class=\"colab-df-convert\" onclick=\"convertToInteractive('df-9bb6a943-4223-4882-831d-acc29bcdf0ba')\"\n",
              "              title=\"Convert this dataframe to an interactive table.\"\n",
              "              style=\"display:none;\">\n",
              "        \n",
              "  <svg xmlns=\"http://www.w3.org/2000/svg\" height=\"24px\"viewBox=\"0 0 24 24\"\n",
              "       width=\"24px\">\n",
              "    <path d=\"M0 0h24v24H0V0z\" fill=\"none\"/>\n",
              "    <path d=\"M18.56 5.44l.94 2.06.94-2.06 2.06-.94-2.06-.94-.94-2.06-.94 2.06-2.06.94zm-11 1L8.5 8.5l.94-2.06 2.06-.94-2.06-.94L8.5 2.5l-.94 2.06-2.06.94zm10 10l.94 2.06.94-2.06 2.06-.94-2.06-.94-.94-2.06-.94 2.06-2.06.94z\"/><path d=\"M17.41 7.96l-1.37-1.37c-.4-.4-.92-.59-1.43-.59-.52 0-1.04.2-1.43.59L10.3 9.45l-7.72 7.72c-.78.78-.78 2.05 0 2.83L4 21.41c.39.39.9.59 1.41.59.51 0 1.02-.2 1.41-.59l7.78-7.78 2.81-2.81c.8-.78.8-2.07 0-2.86zM5.41 20L4 18.59l7.72-7.72 1.47 1.35L5.41 20z\"/>\n",
              "  </svg>\n",
              "      </button>\n",
              "      \n",
              "  <style>\n",
              "    .colab-df-container {\n",
              "      display:flex;\n",
              "      flex-wrap:wrap;\n",
              "      gap: 12px;\n",
              "    }\n",
              "\n",
              "    .colab-df-convert {\n",
              "      background-color: #E8F0FE;\n",
              "      border: none;\n",
              "      border-radius: 50%;\n",
              "      cursor: pointer;\n",
              "      display: none;\n",
              "      fill: #1967D2;\n",
              "      height: 32px;\n",
              "      padding: 0 0 0 0;\n",
              "      width: 32px;\n",
              "    }\n",
              "\n",
              "    .colab-df-convert:hover {\n",
              "      background-color: #E2EBFA;\n",
              "      box-shadow: 0px 1px 2px rgba(60, 64, 67, 0.3), 0px 1px 3px 1px rgba(60, 64, 67, 0.15);\n",
              "      fill: #174EA6;\n",
              "    }\n",
              "\n",
              "    [theme=dark] .colab-df-convert {\n",
              "      background-color: #3B4455;\n",
              "      fill: #D2E3FC;\n",
              "    }\n",
              "\n",
              "    [theme=dark] .colab-df-convert:hover {\n",
              "      background-color: #434B5C;\n",
              "      box-shadow: 0px 1px 3px 1px rgba(0, 0, 0, 0.15);\n",
              "      filter: drop-shadow(0px 1px 2px rgba(0, 0, 0, 0.3));\n",
              "      fill: #FFFFFF;\n",
              "    }\n",
              "  </style>\n",
              "\n",
              "      <script>\n",
              "        const buttonEl =\n",
              "          document.querySelector('#df-9bb6a943-4223-4882-831d-acc29bcdf0ba button.colab-df-convert');\n",
              "        buttonEl.style.display =\n",
              "          google.colab.kernel.accessAllowed ? 'block' : 'none';\n",
              "\n",
              "        async function convertToInteractive(key) {\n",
              "          const element = document.querySelector('#df-9bb6a943-4223-4882-831d-acc29bcdf0ba');\n",
              "          const dataTable =\n",
              "            await google.colab.kernel.invokeFunction('convertToInteractive',\n",
              "                                                     [key], {});\n",
              "          if (!dataTable) return;\n",
              "\n",
              "          const docLinkHtml = 'Like what you see? Visit the ' +\n",
              "            '<a target=\"_blank\" href=https://colab.research.google.com/notebooks/data_table.ipynb>data table notebook</a>'\n",
              "            + ' to learn more about interactive tables.';\n",
              "          element.innerHTML = '';\n",
              "          dataTable['output_type'] = 'display_data';\n",
              "          await google.colab.output.renderOutput(dataTable, element);\n",
              "          const docLink = document.createElement('div');\n",
              "          docLink.innerHTML = docLinkHtml;\n",
              "          element.appendChild(docLink);\n",
              "        }\n",
              "      </script>\n",
              "    </div>\n",
              "  </div>\n",
              "  "
            ]
          },
          "metadata": {},
          "execution_count": 10
        }
      ]
    },
    {
      "cell_type": "markdown",
      "source": [
        "Видим, что средние по признакам значительно различаются - возможно, в дальнейшем придется нормализировать данные."
      ],
      "metadata": {
        "id": "Gd2HV2iDeakA"
      }
    },
    {
      "cell_type": "markdown",
      "source": [
        "Посмотрим на распределение данных"
      ],
      "metadata": {
        "id": "rB-yDkUoyiHC"
      }
    },
    {
      "cell_type": "code",
      "source": [
        "numeric_cols = [\"timestamp\",\n",
        "\"job_number\",\n",
        "\"press\",\n",
        "\"unit_number\",\n",
        "\"plating_tank\",\n",
        "\"proof_cut\",\n",
        "\"viscosity\",\n",
        "\"caliper\",\n",
        "\"ink_temperature\",\n",
        "\"humifity\",\n",
        "\"roughness\",\n",
        "\"blade_pressure\",\n",
        "\"varnish_pct\",\n",
        "\"press_speed\",\n",
        "\"ink_pct\",\n",
        "\"solvent_pct\",\n",
        "\"ESA_Voltage\",\n",
        "\"ESA_Amperage\",\n",
        "\"wax\",\n",
        "\"hardener\",\n",
        "\"roller_durometer\",\n",
        "\"current_density\",\n",
        "\"anode_space_ratio\",\n",
        "\"chrome_content\"]\n",
        "df_numeric = df[numeric_cols].dropna()\n",
        "ax, fig = plt.subplots(figsize=[12,12])\n",
        "sns.heatmap(df_numeric.corr())"
      ],
      "metadata": {
        "colab": {
          "base_uri": "https://localhost:8080/",
          "height": 804
        },
        "id": "M47PDw03ypE_",
        "outputId": "aa12706d-c41e-4106-c040-178e68db3262"
      },
      "execution_count": null,
      "outputs": [
        {
          "output_type": "execute_result",
          "data": {
            "text/plain": [
              "<AxesSubplot:>"
            ]
          },
          "metadata": {},
          "execution_count": 11
        },
        {
          "output_type": "display_data",
          "data": {
            "text/plain": [
              "<Figure size 864x864 with 2 Axes>"
            ],
            "image/png": "[encoded data removed]"
          },
          "metadata": {
            "needs_background": "light"
          }
        }
      ]
    },
    {
      "cell_type": "markdown",
      "source": [
        "Корелляция не превышает по модулю 0.9, поэтому дальнейших действий не требуется."
      ],
      "metadata": {
        "id": "63xdOEDTzwi8"
      }
    },
    {
      "cell_type": "markdown",
      "source": [
        "Желательно иметь более одного графика, графики должны быть информативные (по ним Вы сможете сделать выводы)"
      ],
      "metadata": {
        "id": "eE1V4jy5rPVd"
      }
    },
    {
      "cell_type": "markdown",
      "source": [
        "Посмотрим на количество пропусков в данных"
      ],
      "metadata": {
        "id": "9YzN6VxLqpGP"
      }
    },
    {
      "cell_type": "code",
      "source": [
        "df.isna().sum()"
      ],
      "metadata": {
        "colab": {
          "base_uri": "https://localhost:8080/"
        },
        "id": "JXk9qzOCmnSL",
        "outputId": "4705062c-3f8e-4ca3-ff8a-436c48517b69"
      },
      "execution_count": null,
      "outputs": [
        {
          "output_type": "execute_result",
          "data": {
            "text/plain": [
              "timestamp                0\n",
              "cylinder                 1\n",
              "customer                 0\n",
              "job_number               1\n",
              "grain_screened          49\n",
              "ink_color                0\n",
              "proof_on_ctd_ink        57\n",
              "blade_mfg               60\n",
              "cylinder_division        0\n",
              "paper_type               0\n",
              "ink_type                 1\n",
              "direct_steam            25\n",
              "solvent_type            56\n",
              "type_on_cylinder        19\n",
              "press_type               1\n",
              "press                    1\n",
              "unit_number              0\n",
              "cylinder_size            4\n",
              "paper_mill_location    157\n",
              "plating_tank            19\n",
              "proof_cut               55\n",
              "viscosity                6\n",
              "caliper                 28\n",
              "ink_temperature          4\n",
              "humifity                 3\n",
              "roughness               32\n",
              "blade_pressure          65\n",
              "varnish_pct             57\n",
              "press_speed             12\n",
              "ink_pct                 57\n",
              "solvent_pct             57\n",
              "ESA_Voltage             58\n",
              "ESA_Amperage            56\n",
              "wax                      8\n",
              "hardener                 9\n",
              "roller_durometer        56\n",
              "current_density          9\n",
              "anode_space_ratio        9\n",
              "chrome_content           5\n",
              "band_type                2\n",
              "dtype: int64"
            ]
          },
          "metadata": {},
          "execution_count": 12
        }
      ]
    },
    {
      "cell_type": "markdown",
      "source": [
        "Видим, что пропусков достаточно много, разберемся как их заполнить"
      ],
      "metadata": {
        "id": "ihLXFAZCwj55"
      }
    },
    {
      "cell_type": "markdown",
      "source": [
        "### Обработка датасета"
      ],
      "metadata": {
        "id": "WpnK1eqlwqTs"
      }
    },
    {
      "cell_type": "markdown",
      "source": [
        "#### Заполнение пропусков\n",
        "\n",
        "Необходимо обработать все имеющиеся пропуски в датасете для корректной работы моделей."
      ],
      "metadata": {
        "id": "fFNGAEswwtCn"
      }
    },
    {
      "cell_type": "markdown",
      "source": [
        "##### Числовые пропуски"
      ],
      "metadata": {
        "id": "sTa-qyX10lLq"
      }
    },
    {
      "cell_type": "markdown",
      "source": [
        "Для начала проще всего заполнить числовые пропуски. Заполнять будем средним арифметическим (однако, если у Вас больше данных о датасете, можете заполнить другим средним, определенным числом, или даже создать модель для предсказания значений данной колонки)."
      ],
      "metadata": {
        "id": "Sko_QIhgxNGb"
      }
    },
    {
      "cell_type": "markdown",
      "source": [
        "Внимательно смотрим на тип колонок. Например, у `caliper` и `timestamp` тип `object`. При необходимости своевременно выполняем преобразования типов."
      ],
      "metadata": {
        "id": "yD74oEkBjmCf"
      }
    },
    {
      "cell_type": "code",
      "source": [
        "df.caliper.unique()"
      ],
      "metadata": {
        "colab": {
          "base_uri": "https://localhost:8080/"
        },
        "id": "Z8IJx6hxkEbT",
        "outputId": "755500e8-1932-42f5-9a3a-1d41e0a79583"
      },
      "execution_count": null,
      "outputs": [
        {
          "output_type": "execute_result",
          "data": {
            "text/plain": [
              "array(['0.2', '0.3', '0.433', '0.267', '0.367', '0.333', '0.233', nan,\n",
              "       '0.4', '0.35', '0.283', '0.5', '0.467', '0.167', '0.533', '0.133',\n",
              "       '0.217', '0.25', '0.300', '0.200', '.200', 'band'], dtype=object)"
            ]
          },
          "metadata": {},
          "execution_count": 13
        }
      ]
    },
    {
      "cell_type": "code",
      "source": [
        "df[df.caliper == 'band']"
      ],
      "metadata": {
        "colab": {
          "base_uri": "https://localhost:8080/"
        },
        "id": "InvrD56okOEt",
        "outputId": "e4a6b8f9-cff5-4599-d0bc-09bea12a566c"
      },
      "execution_count": null,
      "outputs": [
        {
          "output_type": "execute_result",
          "data": {
            "text/plain": [
              "    timestamp cylinder customer  job_number grain_screened ink_color  \\\n",
              "522   tabloid      NaN     1910         NaN             45     0.200   \n",
              "\n",
              "    proof_on_ctd_ink blade_mfg cylinder_division paper_type  ... solvent_pct  \\\n",
              "522               17        84            0.8125         27  ...         NaN   \n",
              "\n",
              "    ESA_Voltage ESA_Amperage wax hardener  roller_durometer  current_density  \\\n",
              "522         NaN          NaN NaN      NaN               NaN              NaN   \n",
              "\n",
              "    anode_space_ratio chrome_content  band_type  \n",
              "522               NaN            NaN        NaN  \n",
              "\n",
              "[1 rows x 40 columns]"
            ],
            "text/html": [
              "\n",
              "  <div id=\"df-a23cc816-fff6-42c1-a8cd-6246028627eb\">\n",
              "    <div class=\"colab-df-container\">\n",
              "      <div>\n",
              "<style scoped>\n",
              "    .dataframe tbody tr th:only-of-type {\n",
              "        vertical-align: middle;\n",
              "    }\n",
              "\n",
              "    .dataframe tbody tr th {\n",
              "        vertical-align: top;\n",
              "    }\n",
              "\n",
              "    .dataframe thead th {\n",
              "        text-align: right;\n",
              "    }\n",
              "</style>\n",
              "<table border=\"1\" class=\"dataframe\">\n",
              "  <thead>\n",
              "    <tr style=\"text-align: right;\">\n",
              "      <th></th>\n",
              "      <th>timestamp</th>\n",
              "      <th>cylinder</th>\n",
              "      <th>customer</th>\n",
              "      <th>job_number</th>\n",
              "      <th>grain_screened</th>\n",
              "      <th>ink_color</th>\n",
              "      <th>proof_on_ctd_ink</th>\n",
              "      <th>blade_mfg</th>\n",
              "      <th>cylinder_division</th>\n",
              "      <th>paper_type</th>\n",
              "      <th>...</th>\n",
              "      <th>solvent_pct</th>\n",
              "      <th>ESA_Voltage</th>\n",
              "      <th>ESA_Amperage</th>\n",
              "      <th>wax</th>\n",
              "      <th>hardener</th>\n",
              "      <th>roller_durometer</th>\n",
              "      <th>current_density</th>\n",
              "      <th>anode_space_ratio</th>\n",
              "      <th>chrome_content</th>\n",
              "      <th>band_type</th>\n",
              "    </tr>\n",
              "  </thead>\n",
              "  <tbody>\n",
              "    <tr>\n",
              "      <th>522</th>\n",
              "      <td>tabloid</td>\n",
              "      <td>NaN</td>\n",
              "      <td>1910</td>\n",
              "      <td>NaN</td>\n",
              "      <td>45</td>\n",
              "      <td>0.200</td>\n",
              "      <td>17</td>\n",
              "      <td>84</td>\n",
              "      <td>0.8125</td>\n",
              "      <td>27</td>\n",
              "      <td>...</td>\n",
              "      <td>NaN</td>\n",
              "      <td>NaN</td>\n",
              "      <td>NaN</td>\n",
              "      <td>NaN</td>\n",
              "      <td>NaN</td>\n",
              "      <td>NaN</td>\n",
              "      <td>NaN</td>\n",
              "      <td>NaN</td>\n",
              "      <td>NaN</td>\n",
              "      <td>NaN</td>\n",
              "    </tr>\n",
              "  </tbody>\n",
              "</table>\n",
              "<p>1 rows × 40 columns</p>\n",
              "</div>\n",
              "      <button class=\"colab-df-convert\" onclick=\"convertToInteractive('df-a23cc816-fff6-42c1-a8cd-6246028627eb')\"\n",
              "              title=\"Convert this dataframe to an interactive table.\"\n",
              "              style=\"display:none;\">\n",
              "        \n",
              "  <svg xmlns=\"http://www.w3.org/2000/svg\" height=\"24px\"viewBox=\"0 0 24 24\"\n",
              "       width=\"24px\">\n",
              "    <path d=\"M0 0h24v24H0V0z\" fill=\"none\"/>\n",
              "    <path d=\"M18.56 5.44l.94 2.06.94-2.06 2.06-.94-2.06-.94-.94-2.06-.94 2.06-2.06.94zm-11 1L8.5 8.5l.94-2.06 2.06-.94-2.06-.94L8.5 2.5l-.94 2.06-2.06.94zm10 10l.94 2.06.94-2.06 2.06-.94-2.06-.94-.94-2.06-.94 2.06-2.06.94z\"/><path d=\"M17.41 7.96l-1.37-1.37c-.4-.4-.92-.59-1.43-.59-.52 0-1.04.2-1.43.59L10.3 9.45l-7.72 7.72c-.78.78-.78 2.05 0 2.83L4 21.41c.39.39.9.59 1.41.59.51 0 1.02-.2 1.41-.59l7.78-7.78 2.81-2.81c.8-.78.8-2.07 0-2.86zM5.41 20L4 18.59l7.72-7.72 1.47 1.35L5.41 20z\"/>\n",
              "  </svg>\n",
              "      </button>\n",
              "      \n",
              "  <style>\n",
              "    .colab-df-container {\n",
              "      display:flex;\n",
              "      flex-wrap:wrap;\n",
              "      gap: 12px;\n",
              "    }\n",
              "\n",
              "    .colab-df-convert {\n",
              "      background-color: #E8F0FE;\n",
              "      border: none;\n",
              "      border-radius: 50%;\n",
              "      cursor: pointer;\n",
              "      display: none;\n",
              "      fill: #1967D2;\n",
              "      height: 32px;\n",
              "      padding: 0 0 0 0;\n",
              "      width: 32px;\n",
              "    }\n",
              "\n",
              "    .colab-df-convert:hover {\n",
              "      background-color: #E2EBFA;\n",
              "      box-shadow: 0px 1px 2px rgba(60, 64, 67, 0.3), 0px 1px 3px 1px rgba(60, 64, 67, 0.15);\n",
              "      fill: #174EA6;\n",
              "    }\n",
              "\n",
              "    [theme=dark] .colab-df-convert {\n",
              "      background-color: #3B4455;\n",
              "      fill: #D2E3FC;\n",
              "    }\n",
              "\n",
              "    [theme=dark] .colab-df-convert:hover {\n",
              "      background-color: #434B5C;\n",
              "      box-shadow: 0px 1px 3px 1px rgba(0, 0, 0, 0.15);\n",
              "      filter: drop-shadow(0px 1px 2px rgba(0, 0, 0, 0.3));\n",
              "      fill: #FFFFFF;\n",
              "    }\n",
              "  </style>\n",
              "\n",
              "      <script>\n",
              "        const buttonEl =\n",
              "          document.querySelector('#df-a23cc816-fff6-42c1-a8cd-6246028627eb button.colab-df-convert');\n",
              "        buttonEl.style.display =\n",
              "          google.colab.kernel.accessAllowed ? 'block' : 'none';\n",
              "\n",
              "        async function convertToInteractive(key) {\n",
              "          const element = document.querySelector('#df-a23cc816-fff6-42c1-a8cd-6246028627eb');\n",
              "          const dataTable =\n",
              "            await google.colab.kernel.invokeFunction('convertToInteractive',\n",
              "                                                     [key], {});\n",
              "          if (!dataTable) return;\n",
              "\n",
              "          const docLinkHtml = 'Like what you see? Visit the ' +\n",
              "            '<a target=\"_blank\" href=https://colab.research.google.com/notebooks/data_table.ipynb>data table notebook</a>'\n",
              "            + ' to learn more about interactive tables.';\n",
              "          element.innerHTML = '';\n",
              "          dataTable['output_type'] = 'display_data';\n",
              "          await google.colab.output.renderOutput(dataTable, element);\n",
              "          const docLink = document.createElement('div');\n",
              "          docLink.innerHTML = docLinkHtml;\n",
              "          element.appendChild(docLink);\n",
              "        }\n",
              "      </script>\n",
              "    </div>\n",
              "  </div>\n",
              "  "
            ]
          },
          "metadata": {},
          "execution_count": 14
        }
      ]
    },
    {
      "cell_type": "code",
      "source": [
        "df[df.timestamp == 'tabloid']"
      ],
      "metadata": {
        "colab": {
          "base_uri": "https://localhost:8080/"
        },
        "id": "oV1XnY39mCfC",
        "outputId": "a3ae03bb-7c96-45a8-b649-c553de7a8ac0"
      },
      "execution_count": null,
      "outputs": [
        {
          "output_type": "execute_result",
          "data": {
            "text/plain": [
              "    timestamp cylinder customer  job_number grain_screened ink_color  \\\n",
              "522   tabloid      NaN     1910         NaN             45     0.200   \n",
              "\n",
              "    proof_on_ctd_ink blade_mfg cylinder_division paper_type  ... solvent_pct  \\\n",
              "522               17        84            0.8125         27  ...         NaN   \n",
              "\n",
              "    ESA_Voltage ESA_Amperage wax hardener  roller_durometer  current_density  \\\n",
              "522         NaN          NaN NaN      NaN               NaN              NaN   \n",
              "\n",
              "    anode_space_ratio chrome_content  band_type  \n",
              "522               NaN            NaN        NaN  \n",
              "\n",
              "[1 rows x 40 columns]"
            ],
            "text/html": [
              "\n",
              "  <div id=\"df-50edaeef-1c60-4040-882a-71b833efeaf9\">\n",
              "    <div class=\"colab-df-container\">\n",
              "      <div>\n",
              "<style scoped>\n",
              "    .dataframe tbody tr th:only-of-type {\n",
              "        vertical-align: middle;\n",
              "    }\n",
              "\n",
              "    .dataframe tbody tr th {\n",
              "        vertical-align: top;\n",
              "    }\n",
              "\n",
              "    .dataframe thead th {\n",
              "        text-align: right;\n",
              "    }\n",
              "</style>\n",
              "<table border=\"1\" class=\"dataframe\">\n",
              "  <thead>\n",
              "    <tr style=\"text-align: right;\">\n",
              "      <th></th>\n",
              "      <th>timestamp</th>\n",
              "      <th>cylinder</th>\n",
              "      <th>customer</th>\n",
              "      <th>job_number</th>\n",
              "      <th>grain_screened</th>\n",
              "      <th>ink_color</th>\n",
              "      <th>proof_on_ctd_ink</th>\n",
              "      <th>blade_mfg</th>\n",
              "      <th>cylinder_division</th>\n",
              "      <th>paper_type</th>\n",
              "      <th>...</th>\n",
              "      <th>solvent_pct</th>\n",
              "      <th>ESA_Voltage</th>\n",
              "      <th>ESA_Amperage</th>\n",
              "      <th>wax</th>\n",
              "      <th>hardener</th>\n",
              "      <th>roller_durometer</th>\n",
              "      <th>current_density</th>\n",
              "      <th>anode_space_ratio</th>\n",
              "      <th>chrome_content</th>\n",
              "      <th>band_type</th>\n",
              "    </tr>\n",
              "  </thead>\n",
              "  <tbody>\n",
              "    <tr>\n",
              "      <th>522</th>\n",
              "      <td>tabloid</td>\n",
              "      <td>NaN</td>\n",
              "      <td>1910</td>\n",
              "      <td>NaN</td>\n",
              "      <td>45</td>\n",
              "      <td>0.200</td>\n",
              "      <td>17</td>\n",
              "      <td>84</td>\n",
              "      <td>0.8125</td>\n",
              "      <td>27</td>\n",
              "      <td>...</td>\n",
              "      <td>NaN</td>\n",
              "      <td>NaN</td>\n",
              "      <td>NaN</td>\n",
              "      <td>NaN</td>\n",
              "      <td>NaN</td>\n",
              "      <td>NaN</td>\n",
              "      <td>NaN</td>\n",
              "      <td>NaN</td>\n",
              "      <td>NaN</td>\n",
              "      <td>NaN</td>\n",
              "    </tr>\n",
              "  </tbody>\n",
              "</table>\n",
              "<p>1 rows × 40 columns</p>\n",
              "</div>\n",
              "      <button class=\"colab-df-convert\" onclick=\"convertToInteractive('df-50edaeef-1c60-4040-882a-71b833efeaf9')\"\n",
              "              title=\"Convert this dataframe to an interactive table.\"\n",
              "              style=\"display:none;\">\n",
              "        \n",
              "  <svg xmlns=\"http://www.w3.org/2000/svg\" height=\"24px\"viewBox=\"0 0 24 24\"\n",
              "       width=\"24px\">\n",
              "    <path d=\"M0 0h24v24H0V0z\" fill=\"none\"/>\n",
              "    <path d=\"M18.56 5.44l.94 2.06.94-2.06 2.06-.94-2.06-.94-.94-2.06-.94 2.06-2.06.94zm-11 1L8.5 8.5l.94-2.06 2.06-.94-2.06-.94L8.5 2.5l-.94 2.06-2.06.94zm10 10l.94 2.06.94-2.06 2.06-.94-2.06-.94-.94-2.06-.94 2.06-2.06.94z\"/><path d=\"M17.41 7.96l-1.37-1.37c-.4-.4-.92-.59-1.43-.59-.52 0-1.04.2-1.43.59L10.3 9.45l-7.72 7.72c-.78.78-.78 2.05 0 2.83L4 21.41c.39.39.9.59 1.41.59.51 0 1.02-.2 1.41-.59l7.78-7.78 2.81-2.81c.8-.78.8-2.07 0-2.86zM5.41 20L4 18.59l7.72-7.72 1.47 1.35L5.41 20z\"/>\n",
              "  </svg>\n",
              "      </button>\n",
              "      \n",
              "  <style>\n",
              "    .colab-df-container {\n",
              "      display:flex;\n",
              "      flex-wrap:wrap;\n",
              "      gap: 12px;\n",
              "    }\n",
              "\n",
              "    .colab-df-convert {\n",
              "      background-color: #E8F0FE;\n",
              "      border: none;\n",
              "      border-radius: 50%;\n",
              "      cursor: pointer;\n",
              "      display: none;\n",
              "      fill: #1967D2;\n",
              "      height: 32px;\n",
              "      padding: 0 0 0 0;\n",
              "      width: 32px;\n",
              "    }\n",
              "\n",
              "    .colab-df-convert:hover {\n",
              "      background-color: #E2EBFA;\n",
              "      box-shadow: 0px 1px 2px rgba(60, 64, 67, 0.3), 0px 1px 3px 1px rgba(60, 64, 67, 0.15);\n",
              "      fill: #174EA6;\n",
              "    }\n",
              "\n",
              "    [theme=dark] .colab-df-convert {\n",
              "      background-color: #3B4455;\n",
              "      fill: #D2E3FC;\n",
              "    }\n",
              "\n",
              "    [theme=dark] .colab-df-convert:hover {\n",
              "      background-color: #434B5C;\n",
              "      box-shadow: 0px 1px 3px 1px rgba(0, 0, 0, 0.15);\n",
              "      filter: drop-shadow(0px 1px 2px rgba(0, 0, 0, 0.3));\n",
              "      fill: #FFFFFF;\n",
              "    }\n",
              "  </style>\n",
              "\n",
              "      <script>\n",
              "        const buttonEl =\n",
              "          document.querySelector('#df-50edaeef-1c60-4040-882a-71b833efeaf9 button.colab-df-convert');\n",
              "        buttonEl.style.display =\n",
              "          google.colab.kernel.accessAllowed ? 'block' : 'none';\n",
              "\n",
              "        async function convertToInteractive(key) {\n",
              "          const element = document.querySelector('#df-50edaeef-1c60-4040-882a-71b833efeaf9');\n",
              "          const dataTable =\n",
              "            await google.colab.kernel.invokeFunction('convertToInteractive',\n",
              "                                                     [key], {});\n",
              "          if (!dataTable) return;\n",
              "\n",
              "          const docLinkHtml = 'Like what you see? Visit the ' +\n",
              "            '<a target=\"_blank\" href=https://colab.research.google.com/notebooks/data_table.ipynb>data table notebook</a>'\n",
              "            + ' to learn more about interactive tables.';\n",
              "          element.innerHTML = '';\n",
              "          dataTable['output_type'] = 'display_data';\n",
              "          await google.colab.output.renderOutput(dataTable, element);\n",
              "          const docLink = document.createElement('div');\n",
              "          docLink.innerHTML = docLinkHtml;\n",
              "          element.appendChild(docLink);\n",
              "        }\n",
              "      </script>\n",
              "    </div>\n",
              "  </div>\n",
              "  "
            ]
          },
          "metadata": {},
          "execution_count": 15
        }
      ]
    },
    {
      "cell_type": "markdown",
      "source": [
        "Как мы видим, 522 строка в датасете является артефактом."
      ],
      "metadata": {
        "id": "2GxrSzPpkVga"
      }
    },
    {
      "cell_type": "code",
      "source": [
        "df.caliper[522] = '0'\n",
        "df.timestamp[522] = '0'"
      ],
      "metadata": {
        "colab": {
          "base_uri": "https://localhost:8080/"
        },
        "id": "ixo56Dt6kjK6",
        "outputId": "ad10ccea-5051-419d-d0b6-aa8d4bc7586e"
      },
      "execution_count": null,
      "outputs": [
        {
          "output_type": "stream",
          "name": "stderr",
          "text": [
            "<ipython-input-16-428dbb2f6e3a>:1: SettingWithCopyWarning: \n",
            "A value is trying to be set on a copy of a slice from a DataFrame\n",
            "\n",
            "See the caveats in the documentation: https://pandas.pydata.org/pandas-docs/stable/user_guide/indexing.html#returning-a-view-versus-a-copy\n",
            "  df.caliper[522] = '0'\n",
            "<ipython-input-16-428dbb2f6e3a>:2: SettingWithCopyWarning: \n",
            "A value is trying to be set on a copy of a slice from a DataFrame\n",
            "\n",
            "See the caveats in the documentation: https://pandas.pydata.org/pandas-docs/stable/user_guide/indexing.html#returning-a-view-versus-a-copy\n",
            "  df.timestamp[522] = '0'\n"
          ]
        }
      ]
    },
    {
      "cell_type": "code",
      "source": [
        "df.caliper = df.caliper.astype('float64')\n",
        "df.timestamp = df.timestamp.astype('int32')"
      ],
      "metadata": {
        "id": "hZxryewKkwkM"
      },
      "execution_count": null,
      "outputs": []
    },
    {
      "cell_type": "markdown",
      "source": [
        "Выполним предобработку числовых колонок."
      ],
      "metadata": {
        "id": "hMN7EUynlLL5"
      }
    },
    {
      "cell_type": "code",
      "source": [
        "df_numeric = df[numeric_cols]"
      ],
      "metadata": {
        "id": "XA9LmAdKwpwv"
      },
      "execution_count": null,
      "outputs": []
    },
    {
      "cell_type": "markdown",
      "source": [
        "Вычислим среднее для колонок. Если колонка целочисленная, необходимо преобразовать полученное среднее в целое число, это можно сделать методом `round`"
      ],
      "metadata": {
        "id": "wiijSQhwcwo_"
      }
    },
    {
      "cell_type": "code",
      "source": [
        "round(32.5)"
      ],
      "metadata": {
        "colab": {
          "base_uri": "https://localhost:8080/"
        },
        "id": "dXXDBDI2cyoH",
        "outputId": "d2810da6-5a21-4775-f64e-e05a96e2c6ca"
      },
      "execution_count": null,
      "outputs": [
        {
          "output_type": "execute_result",
          "data": {
            "text/plain": [
              "32"
            ]
          },
          "metadata": {},
          "execution_count": 19
        }
      ]
    },
    {
      "cell_type": "code",
      "source": [
        "# При необходимости применяем округление\n",
        "# means = round(df_numeric.mean())\n",
        "means = df_numeric.mean()"
      ],
      "metadata": {
        "id": "E0z6P8HLqugO"
      },
      "execution_count": null,
      "outputs": []
    },
    {
      "cell_type": "code",
      "source": [
        "df[numeric_cols] = df_numeric.fillna(means)"
      ],
      "metadata": {
        "id": "T_mC6plvyPmu"
      },
      "execution_count": null,
      "outputs": []
    },
    {
      "cell_type": "markdown",
      "source": [
        "##### Категориальные пропуски"
      ],
      "metadata": {
        "id": "YZfhIR2e0n9f"
      }
    },
    {
      "cell_type": "markdown",
      "source": [
        "Столбцы, где возможно упорядочить элементы (где реализовано отношение больше / меньше), либо в которых всего два значения (их еще называют булевыми, биномиальными), очень удобно обрабатывать с помощью подстановки (замены, `mapping`)\n",
        "\n",
        "Среди столбцов присутствуют столбцы `direct_steam`, `proof_on_ctd_ink`, `grain_screened`, `type_on_cylinder`. Посмотрим на него."
      ],
      "metadata": {
        "id": "pVvPSbrE2Khv"
      }
    },
    {
      "cell_type": "code",
      "source": [
        "bool_cols = ['direct_steam', 'proof_on_ctd_ink', 'grain_screened', 'type_on_cylinder']"
      ],
      "metadata": {
        "id": "XLsOGfs9Z1D2"
      },
      "execution_count": null,
      "outputs": []
    },
    {
      "cell_type": "code",
      "source": [
        "df.direct_steam.unique()"
      ],
      "metadata": {
        "id": "T8XQVKo_yVOq",
        "colab": {
          "base_uri": "https://localhost:8080/"
        },
        "outputId": "1b086fae-f044-4944-c0a5-a6f7ccc55350"
      },
      "execution_count": null,
      "outputs": [
        {
          "output_type": "execute_result",
          "data": {
            "text/plain": [
              "array(['NO', 'YES', 'no', nan, '1865'], dtype=object)"
            ]
          },
          "metadata": {},
          "execution_count": 23
        }
      ]
    },
    {
      "cell_type": "markdown",
      "source": [
        "Среди значений присутствует интересное `1865`. Разберемся, почему так."
      ],
      "metadata": {
        "id": "6KkWOdziaeOQ"
      }
    },
    {
      "cell_type": "code",
      "source": [
        "(df.direct_steam == \"1865\").sum()"
      ],
      "metadata": {
        "colab": {
          "base_uri": "https://localhost:8080/"
        },
        "id": "a4_-ZaBB2p8C",
        "outputId": "721fd557-e19f-4583-b999-9113116c80fa"
      },
      "execution_count": null,
      "outputs": [
        {
          "output_type": "execute_result",
          "data": {
            "text/plain": [
              "1"
            ]
          },
          "metadata": {},
          "execution_count": 24
        }
      ]
    },
    {
      "cell_type": "markdown",
      "source": [
        "Видим, что оно одно, поэтому скорее всего это артефакт. Посмотрим далее."
      ],
      "metadata": {
        "id": "flQlKTXWanGK"
      }
    },
    {
      "cell_type": "code",
      "source": [
        "df[df.direct_steam == '1865']"
      ],
      "metadata": {
        "colab": {
          "base_uri": "https://localhost:8080/",
          "height": 174
        },
        "id": "b4YMfvM3Zqy4",
        "outputId": "190446b3-c8a7-4afe-d573-78aa182a0225"
      },
      "execution_count": null,
      "outputs": [
        {
          "output_type": "execute_result",
          "data": {
            "text/plain": [
              "     timestamp cylinder customer    job_number grain_screened ink_color  \\\n",
              "522          0      NaN     1910  37287.531481             45     0.200   \n",
              "\n",
              "    proof_on_ctd_ink blade_mfg cylinder_division paper_type  ... solvent_pct  \\\n",
              "522               17        84            0.8125         27  ...   38.567645   \n",
              "\n",
              "    ESA_Voltage ESA_Amperage       wax  hardener  roller_durometer  \\\n",
              "522    1.319358     0.038144  2.400938  0.987594         34.775258   \n",
              "\n",
              "     current_density anode_space_ratio chrome_content  band_type  \n",
              "522        39.056391        103.032791      99.598881        NaN  \n",
              "\n",
              "[1 rows x 40 columns]"
            ],
            "text/html": [
              "\n",
              "  <div id=\"df-e16e9311-d821-4a5e-a6f4-8d65434ff4ac\">\n",
              "    <div class=\"colab-df-container\">\n",
              "      <div>\n",
              "<style scoped>\n",
              "    .dataframe tbody tr th:only-of-type {\n",
              "        vertical-align: middle;\n",
              "    }\n",
              "\n",
              "    .dataframe tbody tr th {\n",
              "        vertical-align: top;\n",
              "    }\n",
              "\n",
              "    .dataframe thead th {\n",
              "        text-align: right;\n",
              "    }\n",
              "</style>\n",
              "<table border=\"1\" class=\"dataframe\">\n",
              "  <thead>\n",
              "    <tr style=\"text-align: right;\">\n",
              "      <th></th>\n",
              "      <th>timestamp</th>\n",
              "      <th>cylinder</th>\n",
              "      <th>customer</th>\n",
              "      <th>job_number</th>\n",
              "      <th>grain_screened</th>\n",
              "      <th>ink_color</th>\n",
              "      <th>proof_on_ctd_ink</th>\n",
              "      <th>blade_mfg</th>\n",
              "      <th>cylinder_division</th>\n",
              "      <th>paper_type</th>\n",
              "      <th>...</th>\n",
              "      <th>solvent_pct</th>\n",
              "      <th>ESA_Voltage</th>\n",
              "      <th>ESA_Amperage</th>\n",
              "      <th>wax</th>\n",
              "      <th>hardener</th>\n",
              "      <th>roller_durometer</th>\n",
              "      <th>current_density</th>\n",
              "      <th>anode_space_ratio</th>\n",
              "      <th>chrome_content</th>\n",
              "      <th>band_type</th>\n",
              "    </tr>\n",
              "  </thead>\n",
              "  <tbody>\n",
              "    <tr>\n",
              "      <th>522</th>\n",
              "      <td>0</td>\n",
              "      <td>NaN</td>\n",
              "      <td>1910</td>\n",
              "      <td>37287.531481</td>\n",
              "      <td>45</td>\n",
              "      <td>0.200</td>\n",
              "      <td>17</td>\n",
              "      <td>84</td>\n",
              "      <td>0.8125</td>\n",
              "      <td>27</td>\n",
              "      <td>...</td>\n",
              "      <td>38.567645</td>\n",
              "      <td>1.319358</td>\n",
              "      <td>0.038144</td>\n",
              "      <td>2.400938</td>\n",
              "      <td>0.987594</td>\n",
              "      <td>34.775258</td>\n",
              "      <td>39.056391</td>\n",
              "      <td>103.032791</td>\n",
              "      <td>99.598881</td>\n",
              "      <td>NaN</td>\n",
              "    </tr>\n",
              "  </tbody>\n",
              "</table>\n",
              "<p>1 rows × 40 columns</p>\n",
              "</div>\n",
              "      <button class=\"colab-df-convert\" onclick=\"convertToInteractive('df-e16e9311-d821-4a5e-a6f4-8d65434ff4ac')\"\n",
              "              title=\"Convert this dataframe to an interactive table.\"\n",
              "              style=\"display:none;\">\n",
              "        \n",
              "  <svg xmlns=\"http://www.w3.org/2000/svg\" height=\"24px\"viewBox=\"0 0 24 24\"\n",
              "       width=\"24px\">\n",
              "    <path d=\"M0 0h24v24H0V0z\" fill=\"none\"/>\n",
              "    <path d=\"M18.56 5.44l.94 2.06.94-2.06 2.06-.94-2.06-.94-.94-2.06-.94 2.06-2.06.94zm-11 1L8.5 8.5l.94-2.06 2.06-.94-2.06-.94L8.5 2.5l-.94 2.06-2.06.94zm10 10l.94 2.06.94-2.06 2.06-.94-2.06-.94-.94-2.06-.94 2.06-2.06.94z\"/><path d=\"M17.41 7.96l-1.37-1.37c-.4-.4-.92-.59-1.43-.59-.52 0-1.04.2-1.43.59L10.3 9.45l-7.72 7.72c-.78.78-.78 2.05 0 2.83L4 21.41c.39.39.9.59 1.41.59.51 0 1.02-.2 1.41-.59l7.78-7.78 2.81-2.81c.8-.78.8-2.07 0-2.86zM5.41 20L4 18.59l7.72-7.72 1.47 1.35L5.41 20z\"/>\n",
              "  </svg>\n",
              "      </button>\n",
              "      \n",
              "  <style>\n",
              "    .colab-df-container {\n",
              "      display:flex;\n",
              "      flex-wrap:wrap;\n",
              "      gap: 12px;\n",
              "    }\n",
              "\n",
              "    .colab-df-convert {\n",
              "      background-color: #E8F0FE;\n",
              "      border: none;\n",
              "      border-radius: 50%;\n",
              "      cursor: pointer;\n",
              "      display: none;\n",
              "      fill: #1967D2;\n",
              "      height: 32px;\n",
              "      padding: 0 0 0 0;\n",
              "      width: 32px;\n",
              "    }\n",
              "\n",
              "    .colab-df-convert:hover {\n",
              "      background-color: #E2EBFA;\n",
              "      box-shadow: 0px 1px 2px rgba(60, 64, 67, 0.3), 0px 1px 3px 1px rgba(60, 64, 67, 0.15);\n",
              "      fill: #174EA6;\n",
              "    }\n",
              "\n",
              "    [theme=dark] .colab-df-convert {\n",
              "      background-color: #3B4455;\n",
              "      fill: #D2E3FC;\n",
              "    }\n",
              "\n",
              "    [theme=dark] .colab-df-convert:hover {\n",
              "      background-color: #434B5C;\n",
              "      box-shadow: 0px 1px 3px 1px rgba(0, 0, 0, 0.15);\n",
              "      filter: drop-shadow(0px 1px 2px rgba(0, 0, 0, 0.3));\n",
              "      fill: #FFFFFF;\n",
              "    }\n",
              "  </style>\n",
              "\n",
              "      <script>\n",
              "        const buttonEl =\n",
              "          document.querySelector('#df-e16e9311-d821-4a5e-a6f4-8d65434ff4ac button.colab-df-convert');\n",
              "        buttonEl.style.display =\n",
              "          google.colab.kernel.accessAllowed ? 'block' : 'none';\n",
              "\n",
              "        async function convertToInteractive(key) {\n",
              "          const element = document.querySelector('#df-e16e9311-d821-4a5e-a6f4-8d65434ff4ac');\n",
              "          const dataTable =\n",
              "            await google.colab.kernel.invokeFunction('convertToInteractive',\n",
              "                                                     [key], {});\n",
              "          if (!dataTable) return;\n",
              "\n",
              "          const docLinkHtml = 'Like what you see? Visit the ' +\n",
              "            '<a target=\"_blank\" href=https://colab.research.google.com/notebooks/data_table.ipynb>data table notebook</a>'\n",
              "            + ' to learn more about interactive tables.';\n",
              "          element.innerHTML = '';\n",
              "          dataTable['output_type'] = 'display_data';\n",
              "          await google.colab.output.renderOutput(dataTable, element);\n",
              "          const docLink = document.createElement('div');\n",
              "          docLink.innerHTML = docLinkHtml;\n",
              "          element.appendChild(docLink);\n",
              "        }\n",
              "      </script>\n",
              "    </div>\n",
              "  </div>\n",
              "  "
            ]
          },
          "metadata": {},
          "execution_count": 25
        }
      ]
    },
    {
      "cell_type": "code",
      "source": [
        "df[df.proof_on_ctd_ink == '17']"
      ],
      "metadata": {
        "colab": {
          "base_uri": "https://localhost:8080/",
          "height": 174
        },
        "id": "Vs0hgnhhZHrE",
        "outputId": "3eb95742-3b49-4d20-d737-1d77ff15c1f8"
      },
      "execution_count": null,
      "outputs": [
        {
          "output_type": "execute_result",
          "data": {
            "text/plain": [
              "     timestamp cylinder customer    job_number grain_screened ink_color  \\\n",
              "522          0      NaN     1910  37287.531481             45     0.200   \n",
              "\n",
              "    proof_on_ctd_ink blade_mfg cylinder_division paper_type  ... solvent_pct  \\\n",
              "522               17        84            0.8125         27  ...   38.567645   \n",
              "\n",
              "    ESA_Voltage ESA_Amperage       wax  hardener  roller_durometer  \\\n",
              "522    1.319358     0.038144  2.400938  0.987594         34.775258   \n",
              "\n",
              "     current_density anode_space_ratio chrome_content  band_type  \n",
              "522        39.056391        103.032791      99.598881        NaN  \n",
              "\n",
              "[1 rows x 40 columns]"
            ],
            "text/html": [
              "\n",
              "  <div id=\"df-17893baf-6ead-4715-8ea5-64b052f0fcb3\">\n",
              "    <div class=\"colab-df-container\">\n",
              "      <div>\n",
              "<style scoped>\n",
              "    .dataframe tbody tr th:only-of-type {\n",
              "        vertical-align: middle;\n",
              "    }\n",
              "\n",
              "    .dataframe tbody tr th {\n",
              "        vertical-align: top;\n",
              "    }\n",
              "\n",
              "    .dataframe thead th {\n",
              "        text-align: right;\n",
              "    }\n",
              "</style>\n",
              "<table border=\"1\" class=\"dataframe\">\n",
              "  <thead>\n",
              "    <tr style=\"text-align: right;\">\n",
              "      <th></th>\n",
              "      <th>timestamp</th>\n",
              "      <th>cylinder</th>\n",
              "      <th>customer</th>\n",
              "      <th>job_number</th>\n",
              "      <th>grain_screened</th>\n",
              "      <th>ink_color</th>\n",
              "      <th>proof_on_ctd_ink</th>\n",
              "      <th>blade_mfg</th>\n",
              "      <th>cylinder_division</th>\n",
              "      <th>paper_type</th>\n",
              "      <th>...</th>\n",
              "      <th>solvent_pct</th>\n",
              "      <th>ESA_Voltage</th>\n",
              "      <th>ESA_Amperage</th>\n",
              "      <th>wax</th>\n",
              "      <th>hardener</th>\n",
              "      <th>roller_durometer</th>\n",
              "      <th>current_density</th>\n",
              "      <th>anode_space_ratio</th>\n",
              "      <th>chrome_content</th>\n",
              "      <th>band_type</th>\n",
              "    </tr>\n",
              "  </thead>\n",
              "  <tbody>\n",
              "    <tr>\n",
              "      <th>522</th>\n",
              "      <td>0</td>\n",
              "      <td>NaN</td>\n",
              "      <td>1910</td>\n",
              "      <td>37287.531481</td>\n",
              "      <td>45</td>\n",
              "      <td>0.200</td>\n",
              "      <td>17</td>\n",
              "      <td>84</td>\n",
              "      <td>0.8125</td>\n",
              "      <td>27</td>\n",
              "      <td>...</td>\n",
              "      <td>38.567645</td>\n",
              "      <td>1.319358</td>\n",
              "      <td>0.038144</td>\n",
              "      <td>2.400938</td>\n",
              "      <td>0.987594</td>\n",
              "      <td>34.775258</td>\n",
              "      <td>39.056391</td>\n",
              "      <td>103.032791</td>\n",
              "      <td>99.598881</td>\n",
              "      <td>NaN</td>\n",
              "    </tr>\n",
              "  </tbody>\n",
              "</table>\n",
              "<p>1 rows × 40 columns</p>\n",
              "</div>\n",
              "      <button class=\"colab-df-convert\" onclick=\"convertToInteractive('df-17893baf-6ead-4715-8ea5-64b052f0fcb3')\"\n",
              "              title=\"Convert this dataframe to an interactive table.\"\n",
              "              style=\"display:none;\">\n",
              "        \n",
              "  <svg xmlns=\"http://www.w3.org/2000/svg\" height=\"24px\"viewBox=\"0 0 24 24\"\n",
              "       width=\"24px\">\n",
              "    <path d=\"M0 0h24v24H0V0z\" fill=\"none\"/>\n",
              "    <path d=\"M18.56 5.44l.94 2.06.94-2.06 2.06-.94-2.06-.94-.94-2.06-.94 2.06-2.06.94zm-11 1L8.5 8.5l.94-2.06 2.06-.94-2.06-.94L8.5 2.5l-.94 2.06-2.06.94zm10 10l.94 2.06.94-2.06 2.06-.94-2.06-.94-.94-2.06-.94 2.06-2.06.94z\"/><path d=\"M17.41 7.96l-1.37-1.37c-.4-.4-.92-.59-1.43-.59-.52 0-1.04.2-1.43.59L10.3 9.45l-7.72 7.72c-.78.78-.78 2.05 0 2.83L4 21.41c.39.39.9.59 1.41.59.51 0 1.02-.2 1.41-.59l7.78-7.78 2.81-2.81c.8-.78.8-2.07 0-2.86zM5.41 20L4 18.59l7.72-7.72 1.47 1.35L5.41 20z\"/>\n",
              "  </svg>\n",
              "      </button>\n",
              "      \n",
              "  <style>\n",
              "    .colab-df-container {\n",
              "      display:flex;\n",
              "      flex-wrap:wrap;\n",
              "      gap: 12px;\n",
              "    }\n",
              "\n",
              "    .colab-df-convert {\n",
              "      background-color: #E8F0FE;\n",
              "      border: none;\n",
              "      border-radius: 50%;\n",
              "      cursor: pointer;\n",
              "      display: none;\n",
              "      fill: #1967D2;\n",
              "      height: 32px;\n",
              "      padding: 0 0 0 0;\n",
              "      width: 32px;\n",
              "    }\n",
              "\n",
              "    .colab-df-convert:hover {\n",
              "      background-color: #E2EBFA;\n",
              "      box-shadow: 0px 1px 2px rgba(60, 64, 67, 0.3), 0px 1px 3px 1px rgba(60, 64, 67, 0.15);\n",
              "      fill: #174EA6;\n",
              "    }\n",
              "\n",
              "    [theme=dark] .colab-df-convert {\n",
              "      background-color: #3B4455;\n",
              "      fill: #D2E3FC;\n",
              "    }\n",
              "\n",
              "    [theme=dark] .colab-df-convert:hover {\n",
              "      background-color: #434B5C;\n",
              "      box-shadow: 0px 1px 3px 1px rgba(0, 0, 0, 0.15);\n",
              "      filter: drop-shadow(0px 1px 2px rgba(0, 0, 0, 0.3));\n",
              "      fill: #FFFFFF;\n",
              "    }\n",
              "  </style>\n",
              "\n",
              "      <script>\n",
              "        const buttonEl =\n",
              "          document.querySelector('#df-17893baf-6ead-4715-8ea5-64b052f0fcb3 button.colab-df-convert');\n",
              "        buttonEl.style.display =\n",
              "          google.colab.kernel.accessAllowed ? 'block' : 'none';\n",
              "\n",
              "        async function convertToInteractive(key) {\n",
              "          const element = document.querySelector('#df-17893baf-6ead-4715-8ea5-64b052f0fcb3');\n",
              "          const dataTable =\n",
              "            await google.colab.kernel.invokeFunction('convertToInteractive',\n",
              "                                                     [key], {});\n",
              "          if (!dataTable) return;\n",
              "\n",
              "          const docLinkHtml = 'Like what you see? Visit the ' +\n",
              "            '<a target=\"_blank\" href=https://colab.research.google.com/notebooks/data_table.ipynb>data table notebook</a>'\n",
              "            + ' to learn more about interactive tables.';\n",
              "          element.innerHTML = '';\n",
              "          dataTable['output_type'] = 'display_data';\n",
              "          await google.colab.output.renderOutput(dataTable, element);\n",
              "          const docLink = document.createElement('div');\n",
              "          docLink.innerHTML = docLinkHtml;\n",
              "          element.appendChild(docLink);\n",
              "        }\n",
              "      </script>\n",
              "    </div>\n",
              "  </div>\n",
              "  "
            ]
          },
          "metadata": {},
          "execution_count": 26
        }
      ]
    },
    {
      "cell_type": "code",
      "source": [
        "df[df.grain_screened == '45']"
      ],
      "metadata": {
        "colab": {
          "base_uri": "https://localhost:8080/",
          "height": 174
        },
        "id": "24MkFR_8Yt22",
        "outputId": "8bc3f8bf-5f6e-434b-fad3-224cb1fd4da3"
      },
      "execution_count": null,
      "outputs": [
        {
          "output_type": "execute_result",
          "data": {
            "text/plain": [
              "     timestamp cylinder customer    job_number grain_screened ink_color  \\\n",
              "522          0      NaN     1910  37287.531481             45     0.200   \n",
              "\n",
              "    proof_on_ctd_ink blade_mfg cylinder_division paper_type  ... solvent_pct  \\\n",
              "522               17        84            0.8125         27  ...   38.567645   \n",
              "\n",
              "    ESA_Voltage ESA_Amperage       wax  hardener  roller_durometer  \\\n",
              "522    1.319358     0.038144  2.400938  0.987594         34.775258   \n",
              "\n",
              "     current_density anode_space_ratio chrome_content  band_type  \n",
              "522        39.056391        103.032791      99.598881        NaN  \n",
              "\n",
              "[1 rows x 40 columns]"
            ],
            "text/html": [
              "\n",
              "  <div id=\"df-866c1d5a-9845-45bb-ad57-f18547e5d14b\">\n",
              "    <div class=\"colab-df-container\">\n",
              "      <div>\n",
              "<style scoped>\n",
              "    .dataframe tbody tr th:only-of-type {\n",
              "        vertical-align: middle;\n",
              "    }\n",
              "\n",
              "    .dataframe tbody tr th {\n",
              "        vertical-align: top;\n",
              "    }\n",
              "\n",
              "    .dataframe thead th {\n",
              "        text-align: right;\n",
              "    }\n",
              "</style>\n",
              "<table border=\"1\" class=\"dataframe\">\n",
              "  <thead>\n",
              "    <tr style=\"text-align: right;\">\n",
              "      <th></th>\n",
              "      <th>timestamp</th>\n",
              "      <th>cylinder</th>\n",
              "      <th>customer</th>\n",
              "      <th>job_number</th>\n",
              "      <th>grain_screened</th>\n",
              "      <th>ink_color</th>\n",
              "      <th>proof_on_ctd_ink</th>\n",
              "      <th>blade_mfg</th>\n",
              "      <th>cylinder_division</th>\n",
              "      <th>paper_type</th>\n",
              "      <th>...</th>\n",
              "      <th>solvent_pct</th>\n",
              "      <th>ESA_Voltage</th>\n",
              "      <th>ESA_Amperage</th>\n",
              "      <th>wax</th>\n",
              "      <th>hardener</th>\n",
              "      <th>roller_durometer</th>\n",
              "      <th>current_density</th>\n",
              "      <th>anode_space_ratio</th>\n",
              "      <th>chrome_content</th>\n",
              "      <th>band_type</th>\n",
              "    </tr>\n",
              "  </thead>\n",
              "  <tbody>\n",
              "    <tr>\n",
              "      <th>522</th>\n",
              "      <td>0</td>\n",
              "      <td>NaN</td>\n",
              "      <td>1910</td>\n",
              "      <td>37287.531481</td>\n",
              "      <td>45</td>\n",
              "      <td>0.200</td>\n",
              "      <td>17</td>\n",
              "      <td>84</td>\n",
              "      <td>0.8125</td>\n",
              "      <td>27</td>\n",
              "      <td>...</td>\n",
              "      <td>38.567645</td>\n",
              "      <td>1.319358</td>\n",
              "      <td>0.038144</td>\n",
              "      <td>2.400938</td>\n",
              "      <td>0.987594</td>\n",
              "      <td>34.775258</td>\n",
              "      <td>39.056391</td>\n",
              "      <td>103.032791</td>\n",
              "      <td>99.598881</td>\n",
              "      <td>NaN</td>\n",
              "    </tr>\n",
              "  </tbody>\n",
              "</table>\n",
              "<p>1 rows × 40 columns</p>\n",
              "</div>\n",
              "      <button class=\"colab-df-convert\" onclick=\"convertToInteractive('df-866c1d5a-9845-45bb-ad57-f18547e5d14b')\"\n",
              "              title=\"Convert this dataframe to an interactive table.\"\n",
              "              style=\"display:none;\">\n",
              "        \n",
              "  <svg xmlns=\"http://www.w3.org/2000/svg\" height=\"24px\"viewBox=\"0 0 24 24\"\n",
              "       width=\"24px\">\n",
              "    <path d=\"M0 0h24v24H0V0z\" fill=\"none\"/>\n",
              "    <path d=\"M18.56 5.44l.94 2.06.94-2.06 2.06-.94-2.06-.94-.94-2.06-.94 2.06-2.06.94zm-11 1L8.5 8.5l.94-2.06 2.06-.94-2.06-.94L8.5 2.5l-.94 2.06-2.06.94zm10 10l.94 2.06.94-2.06 2.06-.94-2.06-.94-.94-2.06-.94 2.06-2.06.94z\"/><path d=\"M17.41 7.96l-1.37-1.37c-.4-.4-.92-.59-1.43-.59-.52 0-1.04.2-1.43.59L10.3 9.45l-7.72 7.72c-.78.78-.78 2.05 0 2.83L4 21.41c.39.39.9.59 1.41.59.51 0 1.02-.2 1.41-.59l7.78-7.78 2.81-2.81c.8-.78.8-2.07 0-2.86zM5.41 20L4 18.59l7.72-7.72 1.47 1.35L5.41 20z\"/>\n",
              "  </svg>\n",
              "      </button>\n",
              "      \n",
              "  <style>\n",
              "    .colab-df-container {\n",
              "      display:flex;\n",
              "      flex-wrap:wrap;\n",
              "      gap: 12px;\n",
              "    }\n",
              "\n",
              "    .colab-df-convert {\n",
              "      background-color: #E8F0FE;\n",
              "      border: none;\n",
              "      border-radius: 50%;\n",
              "      cursor: pointer;\n",
              "      display: none;\n",
              "      fill: #1967D2;\n",
              "      height: 32px;\n",
              "      padding: 0 0 0 0;\n",
              "      width: 32px;\n",
              "    }\n",
              "\n",
              "    .colab-df-convert:hover {\n",
              "      background-color: #E2EBFA;\n",
              "      box-shadow: 0px 1px 2px rgba(60, 64, 67, 0.3), 0px 1px 3px 1px rgba(60, 64, 67, 0.15);\n",
              "      fill: #174EA6;\n",
              "    }\n",
              "\n",
              "    [theme=dark] .colab-df-convert {\n",
              "      background-color: #3B4455;\n",
              "      fill: #D2E3FC;\n",
              "    }\n",
              "\n",
              "    [theme=dark] .colab-df-convert:hover {\n",
              "      background-color: #434B5C;\n",
              "      box-shadow: 0px 1px 3px 1px rgba(0, 0, 0, 0.15);\n",
              "      filter: drop-shadow(0px 1px 2px rgba(0, 0, 0, 0.3));\n",
              "      fill: #FFFFFF;\n",
              "    }\n",
              "  </style>\n",
              "\n",
              "      <script>\n",
              "        const buttonEl =\n",
              "          document.querySelector('#df-866c1d5a-9845-45bb-ad57-f18547e5d14b button.colab-df-convert');\n",
              "        buttonEl.style.display =\n",
              "          google.colab.kernel.accessAllowed ? 'block' : 'none';\n",
              "\n",
              "        async function convertToInteractive(key) {\n",
              "          const element = document.querySelector('#df-866c1d5a-9845-45bb-ad57-f18547e5d14b');\n",
              "          const dataTable =\n",
              "            await google.colab.kernel.invokeFunction('convertToInteractive',\n",
              "                                                     [key], {});\n",
              "          if (!dataTable) return;\n",
              "\n",
              "          const docLinkHtml = 'Like what you see? Visit the ' +\n",
              "            '<a target=\"_blank\" href=https://colab.research.google.com/notebooks/data_table.ipynb>data table notebook</a>'\n",
              "            + ' to learn more about interactive tables.';\n",
              "          element.innerHTML = '';\n",
              "          dataTable['output_type'] = 'display_data';\n",
              "          await google.colab.output.renderOutput(dataTable, element);\n",
              "          const docLink = document.createElement('div');\n",
              "          docLink.innerHTML = docLinkHtml;\n",
              "          element.appendChild(docLink);\n",
              "        }\n",
              "      </script>\n",
              "    </div>\n",
              "  </div>\n",
              "  "
            ]
          },
          "metadata": {},
          "execution_count": 27
        }
      ]
    },
    {
      "cell_type": "markdown",
      "source": [
        "Видим, что 522 строка неинформативная (среди булевских переменных она не является информативной), поэтому удалим ее из датасета."
      ],
      "metadata": {
        "id": "6yzrfmGRaQYP"
      }
    },
    {
      "cell_type": "code",
      "source": [
        "df = df.drop(522, axis=0)"
      ],
      "metadata": {
        "id": "EnzNf4pkaVSr"
      },
      "execution_count": null,
      "outputs": []
    },
    {
      "cell_type": "code",
      "source": [
        "df.direct_steam.unique()"
      ],
      "metadata": {
        "colab": {
          "base_uri": "https://localhost:8080/"
        },
        "id": "U8jjqCmyaalc",
        "outputId": "959a9322-769d-4bd1-83d2-2e363c27e5eb"
      },
      "execution_count": null,
      "outputs": [
        {
          "output_type": "execute_result",
          "data": {
            "text/plain": [
              "array(['NO', 'YES', 'no', nan], dtype=object)"
            ]
          },
          "metadata": {},
          "execution_count": 29
        }
      ]
    },
    {
      "cell_type": "code",
      "source": [
        "df.proof_on_ctd_ink.unique()"
      ],
      "metadata": {
        "colab": {
          "base_uri": "https://localhost:8080/"
        },
        "id": "io5jjF3ZY-uH",
        "outputId": "5749c9f9-b962-40ec-c78b-6559773fe088"
      },
      "execution_count": null,
      "outputs": [
        {
          "output_type": "execute_result",
          "data": {
            "text/plain": [
              "array(['YES', 'NO', nan], dtype=object)"
            ]
          },
          "metadata": {},
          "execution_count": 30
        }
      ]
    },
    {
      "cell_type": "markdown",
      "source": [
        "Напишем общий код обработки булевых колонок.\n",
        "Пропуски заполняем модой."
      ],
      "metadata": {
        "id": "Qsy7f-bpa-ow"
      }
    },
    {
      "cell_type": "code",
      "source": [
        "def prepare_bool_cols(df, cols):\n",
        "  map_bool_cols = {\n",
        "      'NO': 0,\n",
        "      'YES': 1,\n",
        "      'no': 0,\n",
        "      'yes': 1,\n",
        "      pd.NA: pd.NA,\n",
        "  }\n",
        "  for col in cols:\n",
        "    mode = df[col].map(map_bool_cols).mode()[0]\n",
        "    df[col] = df[col].map(map_bool_cols)\n",
        "    df[col].fillna(mode, inplace=True)\n",
        "    df[col] = df[col].astype('uint8')\n",
        "  return df"
      ],
      "metadata": {
        "id": "sL3cflFIa-Jd"
      },
      "execution_count": null,
      "outputs": []
    },
    {
      "cell_type": "code",
      "source": [
        "df = prepare_bool_cols(df, bool_cols)"
      ],
      "metadata": {
        "id": "hJRZb6FYbvNg"
      },
      "execution_count": null,
      "outputs": []
    },
    {
      "cell_type": "markdown",
      "source": [
        "Убедимся, что остались только числовые значения"
      ],
      "metadata": {
        "id": "79JFiFm2b1v8"
      }
    },
    {
      "cell_type": "code",
      "source": [
        "df.proof_on_ctd_ink.unique()"
      ],
      "metadata": {
        "colab": {
          "base_uri": "https://localhost:8080/"
        },
        "id": "RN0K6-yxb0ty",
        "outputId": "4f296058-c3bc-491f-e20c-29c63728d352"
      },
      "execution_count": null,
      "outputs": [
        {
          "output_type": "execute_result",
          "data": {
            "text/plain": [
              "array([1, 0], dtype=uint8)"
            ]
          },
          "metadata": {},
          "execution_count": 33
        }
      ]
    },
    {
      "cell_type": "markdown",
      "source": [
        "Не всегда два значения - это `yes`, `no` и их эквиваленты. Рассмотрим столбец `band_type`."
      ],
      "metadata": {
        "id": "FeFs8C3dfK9_"
      }
    },
    {
      "cell_type": "code",
      "source": [
        "df.band_type.unique()"
      ],
      "metadata": {
        "colab": {
          "base_uri": "https://localhost:8080/"
        },
        "id": "5vZ_uPLEfHB2",
        "outputId": "881a6839-6bba-40c3-fa71-929695c7e924"
      },
      "execution_count": null,
      "outputs": [
        {
          "output_type": "execute_result",
          "data": {
            "text/plain": [
              "array(['band', 'noband', nan], dtype=object)"
            ]
          },
          "metadata": {},
          "execution_count": 34
        }
      ]
    },
    {
      "cell_type": "markdown",
      "source": [
        "Данный признак является булевым, несмотря на то, что явно значения да и нет не прописаны. Предобработаем его. Для информативности переименуем его."
      ],
      "metadata": {
        "id": "l_eefojofq-c"
      }
    },
    {
      "cell_type": "code",
      "source": [
        "map_band = {\n",
        "      'band': 1,\n",
        "      'noband': 0,\n",
        "      pd.NA: pd.NA,\n",
        "}\n",
        "mode = df.band_type.map(map_band).mode()[0]\n",
        "df['band'] = df.band_type.map(map_band)\n",
        "df.drop('band_type', axis=1, inplace=True)\n",
        "df.band.fillna(mode, inplace=True)\n",
        "df.band = df.band.astype('uint8')"
      ],
      "metadata": {
        "id": "B9Ftia8-f0N_"
      },
      "execution_count": null,
      "outputs": []
    },
    {
      "cell_type": "markdown",
      "source": [
        "Рассмотрим обработку признака, содержащего множественные значения.\n",
        "\n",
        "Колонка `press_type` содержит в себе два значения - тип и индекс. Выделим их."
      ],
      "metadata": {
        "id": "ZN4AjIBv43RU"
      }
    },
    {
      "cell_type": "code",
      "source": [
        "df.press_type.unique()"
      ],
      "metadata": {
        "colab": {
          "base_uri": "https://localhost:8080/"
        },
        "id": "W_zMEj_B43sy",
        "outputId": "8d1c6d3e-cef5-42ed-a31b-8599887349c5"
      },
      "execution_count": null,
      "outputs": [
        {
          "output_type": "execute_result",
          "data": {
            "text/plain": [
              "array(['Motter94', 'WoodHoe70', 'Albert70', 'Motter70'], dtype=object)"
            ]
          },
          "metadata": {},
          "execution_count": 36
        }
      ]
    },
    {
      "cell_type": "code",
      "source": [
        "df.press_type.fillna(df.press_type.mode()[0], inplace=True)"
      ],
      "metadata": {
        "id": "xg9nud797HXY"
      },
      "execution_count": null,
      "outputs": []
    },
    {
      "cell_type": "code",
      "source": [
        "def last_letters(s: str, num: int):\n",
        "  return s[-num:]\n",
        "\n",
        "def first_letters(s: str, num: int):\n",
        "  return s[:-num]"
      ],
      "metadata": {
        "id": "T-5XW-rK6KSU"
      },
      "execution_count": null,
      "outputs": []
    },
    {
      "cell_type": "code",
      "source": [
        "types = [df.press_type.apply(last_letters, args=(2,)), df.press_type.apply(first_letters, args=(2,))]\n",
        "types"
      ],
      "metadata": {
        "colab": {
          "base_uri": "https://localhost:8080/"
        },
        "id": "0jexX9fv5UWK",
        "outputId": "47780ae2-b434-484d-ffbc-abf930b2003d"
      },
      "execution_count": null,
      "outputs": [
        {
          "output_type": "execute_result",
          "data": {
            "text/plain": [
              "[0      94\n",
              " 1      94\n",
              " 2      70\n",
              " 3      70\n",
              " 4      70\n",
              "        ..\n",
              " 536    94\n",
              " 537    70\n",
              " 538    94\n",
              " 539    94\n",
              " 540    70\n",
              " Name: press_type, Length: 540, dtype: object, 0       Motter\n",
              " 1       Motter\n",
              " 2      WoodHoe\n",
              " 3      WoodHoe\n",
              " 4      WoodHoe\n",
              "         ...   \n",
              " 536     Motter\n",
              " 537     Albert\n",
              " 538     Motter\n",
              " 539     Motter\n",
              " 540     Albert\n",
              " Name: press_type, Length: 540, dtype: object]"
            ]
          },
          "metadata": {},
          "execution_count": 39
        }
      ]
    },
    {
      "cell_type": "markdown",
      "source": [
        "Вместо исходного столбца создадим два новых"
      ],
      "metadata": {
        "id": "_TcCdmS77tUH"
      }
    },
    {
      "cell_type": "code",
      "source": [
        "df.drop([\"press_type\"], axis=1, inplace=True)"
      ],
      "metadata": {
        "id": "n480jrA27tD4"
      },
      "execution_count": null,
      "outputs": []
    },
    {
      "cell_type": "code",
      "source": [
        "df[\"press_type\"] = types[1]"
      ],
      "metadata": {
        "id": "Ar7qdsRh8Afu"
      },
      "execution_count": null,
      "outputs": []
    },
    {
      "cell_type": "code",
      "source": [
        "df[\"press_type_idx_70\"] = types[0]\n",
        "map_press_type_idx = {\n",
        "    '70': 1,\n",
        "    '94': 0\n",
        "}\n",
        "df.press_type_idx_70 = df.press_type_idx_70.map(map_press_type_idx).astype(\"uint8\")"
      ],
      "metadata": {
        "id": "K7hhoy858K7U"
      },
      "execution_count": null,
      "outputs": []
    },
    {
      "cell_type": "markdown",
      "source": [
        "Аналогичным образом можно обрабатывать другие признаки с множественными значениями."
      ],
      "metadata": {
        "id": "S0RkdFvAeA77"
      }
    },
    {
      "cell_type": "markdown",
      "source": [
        "Теперь пришло время заполнить все остальные пропуски. Будем заполнять модой."
      ],
      "metadata": {
        "id": "fRldDsA8gl95"
      }
    },
    {
      "cell_type": "code",
      "source": [
        "categorical_cols = [\"cylinder\",\n",
        "\"customer\",\n",
        "\"job_number\",\n",
        "\"ink_color\",\n",
        "\"blade_mfg\",\n",
        "\"cylinder_division\",\n",
        "\"paper_type\",\n",
        "\"ink_type\",\n",
        "\"solvent_type\",\n",
        "\"press_type\",\n",
        "\"press\",\n",
        "\"unit_number\",\n",
        "\"cylinder_size\",\n",
        "\"paper_mill_location\",\n",
        "\"plating_tank\"]"
      ],
      "metadata": {
        "id": "SyhaYQQ3gxlh"
      },
      "execution_count": null,
      "outputs": []
    },
    {
      "cell_type": "markdown",
      "source": [
        "Заполним пропуски модой"
      ],
      "metadata": {
        "id": "qv83BQjojAUb"
      }
    },
    {
      "cell_type": "code",
      "source": [
        "for col in categorical_cols:\n",
        "  df[col].fillna(df[col].mode())"
      ],
      "metadata": {
        "id": "C4zYsm3miY8w"
      },
      "execution_count": null,
      "outputs": []
    },
    {
      "cell_type": "markdown",
      "source": [
        "И преобразуем значения в числовые"
      ],
      "metadata": {
        "id": "V-zVMJbsjCyR"
      }
    },
    {
      "cell_type": "code",
      "source": [
        "df = pd.get_dummies(data=df, columns=categorical_cols)"
      ],
      "metadata": {
        "id": "f9kV4LGOgr6H"
      },
      "execution_count": null,
      "outputs": []
    },
    {
      "cell_type": "markdown",
      "source": [
        "Предобработка завершена. Убедимся в этом."
      ],
      "metadata": {
        "id": "iwU6YF65iKq8"
      }
    },
    {
      "cell_type": "code",
      "source": [
        "df.info()"
      ],
      "metadata": {
        "colab": {
          "base_uri": "https://localhost:8080/"
        },
        "id": "8zvOAG04iOXM",
        "outputId": "d44edaa7-c972-4e15-96bd-fa8c44649ad4"
      },
      "execution_count": null,
      "outputs": [
        {
          "output_type": "stream",
          "name": "stdout",
          "text": [
            "<class 'pandas.core.frame.DataFrame'>\n",
            "Int64Index: 540 entries, 0 to 540\n",
            "Columns: 859 entries, timestamp to plating_tank_1911.0\n",
            "dtypes: float64(19), int32(1), uint8(839)\n",
            "memory usage: 528.9 KB\n"
          ]
        }
      ]
    },
    {
      "cell_type": "code",
      "source": [
        "df.columns[df.isna().sum() > 0]"
      ],
      "metadata": {
        "colab": {
          "base_uri": "https://localhost:8080/"
        },
        "id": "_enI5l6miRJ_",
        "outputId": "0d965e62-066b-49a3-d2cf-a77357092165"
      },
      "execution_count": null,
      "outputs": [
        {
          "output_type": "execute_result",
          "data": {
            "text/plain": [
              "Index([], dtype='object')"
            ]
          },
          "metadata": {},
          "execution_count": 47
        }
      ]
    },
    {
      "cell_type": "markdown",
      "source": [
        "#### Удаление пропусков\n",
        "\n",
        "Предупреждение.\n",
        "\n",
        "Удаление пропусков не рекомендуется делать без явной причины, поскольку теряется полезная информация. Однако, если по каким-то причинам нежелательно заполнение пропусков (например, 1 пропуск в датасете из 10000+ строк), то строки с пропусками можно удалить."
      ],
      "metadata": {
        "id": "WmliPyapdZgn"
      }
    },
    {
      "cell_type": "code",
      "source": [
        "df.dropna(inplace=True)"
      ],
      "metadata": {
        "id": "RG7clE7EdwEr"
      },
      "execution_count": null,
      "outputs": []
    },
    {
      "cell_type": "markdown",
      "source": [
        "### Сохранение датасета"
      ],
      "metadata": {
        "id": "GRqpVQmX0vpG"
      }
    },
    {
      "cell_type": "code",
      "source": [
        "df.to_csv(\"df_preprocessed.csv\", encoding=\"utf-8\", sep=';', index=False)"
      ],
      "metadata": {
        "id": "ZYlz58NQ0xVU"
      },
      "execution_count": null,
      "outputs": []
    },
    {
      "cell_type": "markdown",
      "source": [
        "Не забудьте сохранить данный файл на Google Drive"
      ],
      "metadata": {
        "id": "qdYls5y11_bU"
      }
    },
    {
      "cell_type": "code",
      "source": [
        "df.to_csv(\"/content/drive/MyDrive/datasets/df_preprocessed.csv\", encoding=\"utf-8\", sep=';', index=False)"
      ],
      "metadata": {
        "id": "OUrEjPVjI3WX"
      },
      "execution_count": null,
      "outputs": []
    }
  ]
}